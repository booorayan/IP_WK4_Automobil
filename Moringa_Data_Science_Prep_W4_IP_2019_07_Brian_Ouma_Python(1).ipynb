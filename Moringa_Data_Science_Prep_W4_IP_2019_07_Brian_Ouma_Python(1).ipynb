{
  "nbformat": 4,
  "nbformat_minor": 0,
  "metadata": {
    "colab": {
      "name": "Moringa_Data_Science_Prep_W4_IP_2019_07_Brian_Ouma_Python.ipynb",
      "version": "0.3.2",
      "provenance": [],
      "collapsed_sections": [],
      "toc_visible": true
    },
    "kernelspec": {
      "name": "python3",
      "display_name": "Python 3"
    },
    "accelerator": "GPU"
  },
  "cells": [
    {
      "cell_type": "markdown",
      "metadata": {
        "id": "zy0c3uTQVvZP",
        "colab_type": "text"
      },
      "source": [
        "# Dalberg Automobil  Data Cleaning and Analysis "
      ]
    },
    {
      "cell_type": "markdown",
      "metadata": {
        "id": "55_W2HHLlbhi",
        "colab_type": "text"
      },
      "source": [
        "# Importing libraries to be used "
      ]
    },
    {
      "cell_type": "code",
      "metadata": {
        "id": "OElzT8XaVtkR",
        "colab_type": "code",
        "colab": {}
      },
      "source": [
        "#importing pandas and numpy\n",
        "\n",
        "import pandas as pd\n",
        "\n",
        "import numpy as np"
      ],
      "execution_count": 0,
      "outputs": []
    },
    {
      "cell_type": "markdown",
      "metadata": {
        "id": "a8be1ot2WIbW",
        "colab_type": "text"
      },
      "source": [
        "# Loading the dataset to be used "
      ]
    },
    {
      "cell_type": "code",
      "metadata": {
        "id": "-ct0GT2jWOXU",
        "colab_type": "code",
        "outputId": "519415a8-2235-4f67-f69b-5cdc588a9907",
        "colab": {
          "base_uri": "https://localhost:8080/",
          "height": 471
        }
      },
      "source": [
        "#\n",
        "elecar = pd.read_csv('http://bit.ly/Autolibdataset', encoding='utf-8', index_col=0)\n",
        "elecar.head()"
      ],
      "execution_count": 3,
      "outputs": [
        {
          "output_type": "stream",
          "text": [
            "/usr/local/lib/python3.6/dist-packages/numpy/lib/arraysetops.py:569: FutureWarning: elementwise comparison failed; returning scalar instead, but in the future will perform elementwise comparison\n",
            "  mask |= (ar1 == a)\n"
          ],
          "name": "stderr"
        },
        {
          "output_type": "execute_result",
          "data": {
            "text/html": [
              "<div>\n",
              "<style scoped>\n",
              "    .dataframe tbody tr th:only-of-type {\n",
              "        vertical-align: middle;\n",
              "    }\n",
              "\n",
              "    .dataframe tbody tr th {\n",
              "        vertical-align: top;\n",
              "    }\n",
              "\n",
              "    .dataframe thead th {\n",
              "        text-align: right;\n",
              "    }\n",
              "</style>\n",
              "<table border=\"1\" class=\"dataframe\">\n",
              "  <thead>\n",
              "    <tr style=\"text-align: right;\">\n",
              "      <th></th>\n",
              "      <th>Address</th>\n",
              "      <th>Cars</th>\n",
              "      <th>Bluecar counter</th>\n",
              "      <th>Utilib counter</th>\n",
              "      <th>Utilib 1.4 counter</th>\n",
              "      <th>Charge Slots</th>\n",
              "      <th>Charging Status</th>\n",
              "      <th>City</th>\n",
              "      <th>Displayed comment</th>\n",
              "      <th>ID</th>\n",
              "      <th>Kind</th>\n",
              "      <th>Geo point</th>\n",
              "      <th>Postal code</th>\n",
              "      <th>Public name</th>\n",
              "      <th>Rental status</th>\n",
              "      <th>Scheduled at</th>\n",
              "      <th>Slots</th>\n",
              "      <th>Station type</th>\n",
              "      <th>Status</th>\n",
              "      <th>Subscription status</th>\n",
              "      <th>year</th>\n",
              "      <th>month</th>\n",
              "      <th>day</th>\n",
              "      <th>hour</th>\n",
              "      <th>minute</th>\n",
              "    </tr>\n",
              "  </thead>\n",
              "  <tbody>\n",
              "    <tr>\n",
              "      <th>0</th>\n",
              "      <td>24 Rue Vulpian</td>\n",
              "      <td>3</td>\n",
              "      <td>3</td>\n",
              "      <td>1</td>\n",
              "      <td>0</td>\n",
              "      <td>1</td>\n",
              "      <td>operational</td>\n",
              "      <td>Paris</td>\n",
              "      <td>NaN</td>\n",
              "      <td>paris-vulpian-24</td>\n",
              "      <td>STATION</td>\n",
              "      <td>48.8310493, 2.3460584</td>\n",
              "      <td>75013</td>\n",
              "      <td>Paris/Vulpian/24</td>\n",
              "      <td>operational</td>\n",
              "      <td>NaN</td>\n",
              "      <td>1</td>\n",
              "      <td>station</td>\n",
              "      <td>ok</td>\n",
              "      <td>nonexistent</td>\n",
              "      <td>2018</td>\n",
              "      <td>4</td>\n",
              "      <td>1</td>\n",
              "      <td>0</td>\n",
              "      <td>0</td>\n",
              "    </tr>\n",
              "    <tr>\n",
              "      <th>1</th>\n",
              "      <td>8 Boulevard Richard Lenoir</td>\n",
              "      <td>0</td>\n",
              "      <td>0</td>\n",
              "      <td>0</td>\n",
              "      <td>0</td>\n",
              "      <td>1</td>\n",
              "      <td>operational</td>\n",
              "      <td>Paris</td>\n",
              "      <td>NaN</td>\n",
              "      <td>paris-richardlenoir-8</td>\n",
              "      <td>STATION</td>\n",
              "      <td>48.8545026, 2.370183</td>\n",
              "      <td>75011</td>\n",
              "      <td>Paris/Richard Lenoir/8</td>\n",
              "      <td>operational</td>\n",
              "      <td>NaN</td>\n",
              "      <td>3</td>\n",
              "      <td>station</td>\n",
              "      <td>ok</td>\n",
              "      <td>nonexistent</td>\n",
              "      <td>2018</td>\n",
              "      <td>4</td>\n",
              "      <td>1</td>\n",
              "      <td>0</td>\n",
              "      <td>0</td>\n",
              "    </tr>\n",
              "    <tr>\n",
              "      <th>2</th>\n",
              "      <td>4 Rue Charles Bossut</td>\n",
              "      <td>3</td>\n",
              "      <td>3</td>\n",
              "      <td>0</td>\n",
              "      <td>0</td>\n",
              "      <td>1</td>\n",
              "      <td>operational</td>\n",
              "      <td>Paris</td>\n",
              "      <td>NaN</td>\n",
              "      <td>paris-charlesbossut-4</td>\n",
              "      <td>STATION</td>\n",
              "      <td>48.8431847, 2.3837959</td>\n",
              "      <td>75012</td>\n",
              "      <td>Paris/Charles Bossut/4</td>\n",
              "      <td>operational</td>\n",
              "      <td>NaN</td>\n",
              "      <td>2</td>\n",
              "      <td>station</td>\n",
              "      <td>ok</td>\n",
              "      <td>nonexistent</td>\n",
              "      <td>2018</td>\n",
              "      <td>4</td>\n",
              "      <td>1</td>\n",
              "      <td>0</td>\n",
              "      <td>0</td>\n",
              "    </tr>\n",
              "    <tr>\n",
              "      <th>3</th>\n",
              "      <td>3 avenue Claude Vellefaux</td>\n",
              "      <td>4</td>\n",
              "      <td>4</td>\n",
              "      <td>0</td>\n",
              "      <td>0</td>\n",
              "      <td>0</td>\n",
              "      <td>operational</td>\n",
              "      <td>Paris</td>\n",
              "      <td>NaN</td>\n",
              "      <td>paris-claudevellefaux-3</td>\n",
              "      <td>STATION</td>\n",
              "      <td>48.8740623, 2.3703034</td>\n",
              "      <td>75010</td>\n",
              "      <td>Paris/Claude Vellefaux/3</td>\n",
              "      <td>operational</td>\n",
              "      <td>NaN</td>\n",
              "      <td>1</td>\n",
              "      <td>station</td>\n",
              "      <td>ok</td>\n",
              "      <td>nonexistent</td>\n",
              "      <td>2018</td>\n",
              "      <td>4</td>\n",
              "      <td>1</td>\n",
              "      <td>0</td>\n",
              "      <td>0</td>\n",
              "    </tr>\n",
              "    <tr>\n",
              "      <th>4</th>\n",
              "      <td>236 Boulevard Voltaire</td>\n",
              "      <td>1</td>\n",
              "      <td>1</td>\n",
              "      <td>0</td>\n",
              "      <td>0</td>\n",
              "      <td>1</td>\n",
              "      <td>operational</td>\n",
              "      <td>Paris</td>\n",
              "      <td>NaN</td>\n",
              "      <td>paris-voltaire-236</td>\n",
              "      <td>STATION</td>\n",
              "      <td>48.852023, 2.389719</td>\n",
              "      <td>75011</td>\n",
              "      <td>Paris/Voltaire/236</td>\n",
              "      <td>operational</td>\n",
              "      <td>NaN</td>\n",
              "      <td>4</td>\n",
              "      <td>station</td>\n",
              "      <td>ok</td>\n",
              "      <td>nonexistent</td>\n",
              "      <td>2018</td>\n",
              "      <td>4</td>\n",
              "      <td>1</td>\n",
              "      <td>0</td>\n",
              "      <td>0</td>\n",
              "    </tr>\n",
              "  </tbody>\n",
              "</table>\n",
              "</div>"
            ],
            "text/plain": [
              "                      Address  Cars  Bluecar counter  ...  day  hour  minute\n",
              "0              24 Rue Vulpian     3                3  ...    1     0       0\n",
              "1  8 Boulevard Richard Lenoir     0                0  ...    1     0       0\n",
              "2        4 Rue Charles Bossut     3                3  ...    1     0       0\n",
              "3   3 avenue Claude Vellefaux     4                4  ...    1     0       0\n",
              "4      236 Boulevard Voltaire     1                1  ...    1     0       0\n",
              "\n",
              "[5 rows x 25 columns]"
            ]
          },
          "metadata": {
            "tags": []
          },
          "execution_count": 3
        }
      ]
    },
    {
      "cell_type": "markdown",
      "metadata": {
        "id": "E0eoAdBGh9Di",
        "colab_type": "text"
      },
      "source": [
        "# Previewing the dataset"
      ]
    },
    {
      "cell_type": "code",
      "metadata": {
        "id": "RHeOB5PYigCN",
        "colab_type": "code",
        "outputId": "9348e9d7-aa45-4fb5-c24b-ff03dd6ee8e1",
        "colab": {
          "base_uri": "https://localhost:8080/",
          "height": 869
        }
      },
      "source": [
        "#Previewing the first 10 rows of the dataset\n",
        "elecar.head(10)"
      ],
      "execution_count": 4,
      "outputs": [
        {
          "output_type": "execute_result",
          "data": {
            "text/html": [
              "<div>\n",
              "<style scoped>\n",
              "    .dataframe tbody tr th:only-of-type {\n",
              "        vertical-align: middle;\n",
              "    }\n",
              "\n",
              "    .dataframe tbody tr th {\n",
              "        vertical-align: top;\n",
              "    }\n",
              "\n",
              "    .dataframe thead th {\n",
              "        text-align: right;\n",
              "    }\n",
              "</style>\n",
              "<table border=\"1\" class=\"dataframe\">\n",
              "  <thead>\n",
              "    <tr style=\"text-align: right;\">\n",
              "      <th></th>\n",
              "      <th>Address</th>\n",
              "      <th>Cars</th>\n",
              "      <th>Bluecar counter</th>\n",
              "      <th>Utilib counter</th>\n",
              "      <th>Utilib 1.4 counter</th>\n",
              "      <th>Charge Slots</th>\n",
              "      <th>Charging Status</th>\n",
              "      <th>City</th>\n",
              "      <th>Displayed comment</th>\n",
              "      <th>ID</th>\n",
              "      <th>Kind</th>\n",
              "      <th>Geo point</th>\n",
              "      <th>Postal code</th>\n",
              "      <th>Public name</th>\n",
              "      <th>Rental status</th>\n",
              "      <th>Scheduled at</th>\n",
              "      <th>Slots</th>\n",
              "      <th>Station type</th>\n",
              "      <th>Status</th>\n",
              "      <th>Subscription status</th>\n",
              "      <th>year</th>\n",
              "      <th>month</th>\n",
              "      <th>day</th>\n",
              "      <th>hour</th>\n",
              "      <th>minute</th>\n",
              "    </tr>\n",
              "  </thead>\n",
              "  <tbody>\n",
              "    <tr>\n",
              "      <th>0</th>\n",
              "      <td>24 Rue Vulpian</td>\n",
              "      <td>3</td>\n",
              "      <td>3</td>\n",
              "      <td>1</td>\n",
              "      <td>0</td>\n",
              "      <td>1</td>\n",
              "      <td>operational</td>\n",
              "      <td>Paris</td>\n",
              "      <td>NaN</td>\n",
              "      <td>paris-vulpian-24</td>\n",
              "      <td>STATION</td>\n",
              "      <td>48.8310493, 2.3460584</td>\n",
              "      <td>75013</td>\n",
              "      <td>Paris/Vulpian/24</td>\n",
              "      <td>operational</td>\n",
              "      <td>NaN</td>\n",
              "      <td>1</td>\n",
              "      <td>station</td>\n",
              "      <td>ok</td>\n",
              "      <td>nonexistent</td>\n",
              "      <td>2018</td>\n",
              "      <td>4</td>\n",
              "      <td>1</td>\n",
              "      <td>0</td>\n",
              "      <td>0</td>\n",
              "    </tr>\n",
              "    <tr>\n",
              "      <th>1</th>\n",
              "      <td>8 Boulevard Richard Lenoir</td>\n",
              "      <td>0</td>\n",
              "      <td>0</td>\n",
              "      <td>0</td>\n",
              "      <td>0</td>\n",
              "      <td>1</td>\n",
              "      <td>operational</td>\n",
              "      <td>Paris</td>\n",
              "      <td>NaN</td>\n",
              "      <td>paris-richardlenoir-8</td>\n",
              "      <td>STATION</td>\n",
              "      <td>48.8545026, 2.370183</td>\n",
              "      <td>75011</td>\n",
              "      <td>Paris/Richard Lenoir/8</td>\n",
              "      <td>operational</td>\n",
              "      <td>NaN</td>\n",
              "      <td>3</td>\n",
              "      <td>station</td>\n",
              "      <td>ok</td>\n",
              "      <td>nonexistent</td>\n",
              "      <td>2018</td>\n",
              "      <td>4</td>\n",
              "      <td>1</td>\n",
              "      <td>0</td>\n",
              "      <td>0</td>\n",
              "    </tr>\n",
              "    <tr>\n",
              "      <th>2</th>\n",
              "      <td>4 Rue Charles Bossut</td>\n",
              "      <td>3</td>\n",
              "      <td>3</td>\n",
              "      <td>0</td>\n",
              "      <td>0</td>\n",
              "      <td>1</td>\n",
              "      <td>operational</td>\n",
              "      <td>Paris</td>\n",
              "      <td>NaN</td>\n",
              "      <td>paris-charlesbossut-4</td>\n",
              "      <td>STATION</td>\n",
              "      <td>48.8431847, 2.3837959</td>\n",
              "      <td>75012</td>\n",
              "      <td>Paris/Charles Bossut/4</td>\n",
              "      <td>operational</td>\n",
              "      <td>NaN</td>\n",
              "      <td>2</td>\n",
              "      <td>station</td>\n",
              "      <td>ok</td>\n",
              "      <td>nonexistent</td>\n",
              "      <td>2018</td>\n",
              "      <td>4</td>\n",
              "      <td>1</td>\n",
              "      <td>0</td>\n",
              "      <td>0</td>\n",
              "    </tr>\n",
              "    <tr>\n",
              "      <th>3</th>\n",
              "      <td>3 avenue Claude Vellefaux</td>\n",
              "      <td>4</td>\n",
              "      <td>4</td>\n",
              "      <td>0</td>\n",
              "      <td>0</td>\n",
              "      <td>0</td>\n",
              "      <td>operational</td>\n",
              "      <td>Paris</td>\n",
              "      <td>NaN</td>\n",
              "      <td>paris-claudevellefaux-3</td>\n",
              "      <td>STATION</td>\n",
              "      <td>48.8740623, 2.3703034</td>\n",
              "      <td>75010</td>\n",
              "      <td>Paris/Claude Vellefaux/3</td>\n",
              "      <td>operational</td>\n",
              "      <td>NaN</td>\n",
              "      <td>1</td>\n",
              "      <td>station</td>\n",
              "      <td>ok</td>\n",
              "      <td>nonexistent</td>\n",
              "      <td>2018</td>\n",
              "      <td>4</td>\n",
              "      <td>1</td>\n",
              "      <td>0</td>\n",
              "      <td>0</td>\n",
              "    </tr>\n",
              "    <tr>\n",
              "      <th>4</th>\n",
              "      <td>236 Boulevard Voltaire</td>\n",
              "      <td>1</td>\n",
              "      <td>1</td>\n",
              "      <td>0</td>\n",
              "      <td>0</td>\n",
              "      <td>1</td>\n",
              "      <td>operational</td>\n",
              "      <td>Paris</td>\n",
              "      <td>NaN</td>\n",
              "      <td>paris-voltaire-236</td>\n",
              "      <td>STATION</td>\n",
              "      <td>48.852023, 2.389719</td>\n",
              "      <td>75011</td>\n",
              "      <td>Paris/Voltaire/236</td>\n",
              "      <td>operational</td>\n",
              "      <td>NaN</td>\n",
              "      <td>4</td>\n",
              "      <td>station</td>\n",
              "      <td>ok</td>\n",
              "      <td>nonexistent</td>\n",
              "      <td>2018</td>\n",
              "      <td>4</td>\n",
              "      <td>1</td>\n",
              "      <td>0</td>\n",
              "      <td>0</td>\n",
              "    </tr>\n",
              "    <tr>\n",
              "      <th>5</th>\n",
              "      <td>44 Rue des Pirogues de Bercy</td>\n",
              "      <td>1</td>\n",
              "      <td>1</td>\n",
              "      <td>0</td>\n",
              "      <td>0</td>\n",
              "      <td>2</td>\n",
              "      <td>operational</td>\n",
              "      <td>Paris</td>\n",
              "      <td>NaN</td>\n",
              "      <td>paris-piroguesdebercy-44</td>\n",
              "      <td>STATION</td>\n",
              "      <td>48.8334137, 2.388111</td>\n",
              "      <td>75012</td>\n",
              "      <td>Paris/Pirogues de Bercy/44</td>\n",
              "      <td>operational</td>\n",
              "      <td>NaN</td>\n",
              "      <td>4</td>\n",
              "      <td>station</td>\n",
              "      <td>ok</td>\n",
              "      <td>nonexistent</td>\n",
              "      <td>2018</td>\n",
              "      <td>4</td>\n",
              "      <td>1</td>\n",
              "      <td>0</td>\n",
              "      <td>0</td>\n",
              "    </tr>\n",
              "    <tr>\n",
              "      <th>6</th>\n",
              "      <td>63 Boulevard Richard Lenoir</td>\n",
              "      <td>1</td>\n",
              "      <td>1</td>\n",
              "      <td>0</td>\n",
              "      <td>0</td>\n",
              "      <td>2</td>\n",
              "      <td>operational</td>\n",
              "      <td>Paris</td>\n",
              "      <td>NaN</td>\n",
              "      <td>paris-richardlenoir-63</td>\n",
              "      <td>STATION</td>\n",
              "      <td>48.86023, 2.3719914</td>\n",
              "      <td>75011</td>\n",
              "      <td>Paris/Richard Lenoir/63</td>\n",
              "      <td>operational</td>\n",
              "      <td>NaN</td>\n",
              "      <td>4</td>\n",
              "      <td>station</td>\n",
              "      <td>ok</td>\n",
              "      <td>nonexistent</td>\n",
              "      <td>2018</td>\n",
              "      <td>4</td>\n",
              "      <td>1</td>\n",
              "      <td>0</td>\n",
              "      <td>0</td>\n",
              "    </tr>\n",
              "    <tr>\n",
              "      <th>7</th>\n",
              "      <td>43 Rue de Monceau</td>\n",
              "      <td>0</td>\n",
              "      <td>0</td>\n",
              "      <td>0</td>\n",
              "      <td>0</td>\n",
              "      <td>2</td>\n",
              "      <td>operational</td>\n",
              "      <td>Paris</td>\n",
              "      <td>NaN</td>\n",
              "      <td>paris-monceau-43</td>\n",
              "      <td>STATION</td>\n",
              "      <td>48.8778333, 2.310832</td>\n",
              "      <td>75008</td>\n",
              "      <td>Paris/Monceau/43</td>\n",
              "      <td>operational</td>\n",
              "      <td>NaN</td>\n",
              "      <td>6</td>\n",
              "      <td>station</td>\n",
              "      <td>ok</td>\n",
              "      <td>nonexistent</td>\n",
              "      <td>2018</td>\n",
              "      <td>4</td>\n",
              "      <td>1</td>\n",
              "      <td>0</td>\n",
              "      <td>0</td>\n",
              "    </tr>\n",
              "    <tr>\n",
              "      <th>8</th>\n",
              "      <td>10 Avenue du Docteur Arnold Netter</td>\n",
              "      <td>4</td>\n",
              "      <td>4</td>\n",
              "      <td>0</td>\n",
              "      <td>0</td>\n",
              "      <td>0</td>\n",
              "      <td>operational</td>\n",
              "      <td>Paris</td>\n",
              "      <td>NaN</td>\n",
              "      <td>paris-arnoldnetter-10</td>\n",
              "      <td>STATION</td>\n",
              "      <td>48.8415951, 2.4050137</td>\n",
              "      <td>75012</td>\n",
              "      <td>Paris/Arnold Netter/10</td>\n",
              "      <td>operational</td>\n",
              "      <td>NaN</td>\n",
              "      <td>0</td>\n",
              "      <td>station</td>\n",
              "      <td>ok</td>\n",
              "      <td>nonexistent</td>\n",
              "      <td>2018</td>\n",
              "      <td>4</td>\n",
              "      <td>1</td>\n",
              "      <td>0</td>\n",
              "      <td>0</td>\n",
              "    </tr>\n",
              "    <tr>\n",
              "      <th>9</th>\n",
              "      <td>33 Avenue Pierre 1er de Serbie</td>\n",
              "      <td>2</td>\n",
              "      <td>2</td>\n",
              "      <td>0</td>\n",
              "      <td>0</td>\n",
              "      <td>1</td>\n",
              "      <td>operational</td>\n",
              "      <td>Paris</td>\n",
              "      <td>NaN</td>\n",
              "      <td>paris-pierre1erdeserbie-33</td>\n",
              "      <td>STATION</td>\n",
              "      <td>48.8673767, 2.2988559</td>\n",
              "      <td>75016</td>\n",
              "      <td>Paris/Pierre 1er de Serbie/33</td>\n",
              "      <td>operational</td>\n",
              "      <td>NaN</td>\n",
              "      <td>3</td>\n",
              "      <td>station</td>\n",
              "      <td>ok</td>\n",
              "      <td>nonexistent</td>\n",
              "      <td>2018</td>\n",
              "      <td>4</td>\n",
              "      <td>1</td>\n",
              "      <td>0</td>\n",
              "      <td>0</td>\n",
              "    </tr>\n",
              "  </tbody>\n",
              "</table>\n",
              "</div>"
            ],
            "text/plain": [
              "                              Address  Cars  Bluecar counter  ...  day  hour  minute\n",
              "0                      24 Rue Vulpian     3                3  ...    1     0       0\n",
              "1          8 Boulevard Richard Lenoir     0                0  ...    1     0       0\n",
              "2                4 Rue Charles Bossut     3                3  ...    1     0       0\n",
              "3           3 avenue Claude Vellefaux     4                4  ...    1     0       0\n",
              "4              236 Boulevard Voltaire     1                1  ...    1     0       0\n",
              "5        44 Rue des Pirogues de Bercy     1                1  ...    1     0       0\n",
              "6         63 Boulevard Richard Lenoir     1                1  ...    1     0       0\n",
              "7                   43 Rue de Monceau     0                0  ...    1     0       0\n",
              "8  10 Avenue du Docteur Arnold Netter     4                4  ...    1     0       0\n",
              "9      33 Avenue Pierre 1er de Serbie     2                2  ...    1     0       0\n",
              "\n",
              "[10 rows x 25 columns]"
            ]
          },
          "metadata": {
            "tags": []
          },
          "execution_count": 4
        }
      ]
    },
    {
      "cell_type": "markdown",
      "metadata": {
        "id": "6wFKti31iTkf",
        "colab_type": "text"
      },
      "source": [
        "# Accessing information about the dataset"
      ]
    },
    {
      "cell_type": "code",
      "metadata": {
        "id": "jjDgU-j6lM6P",
        "colab_type": "code",
        "outputId": "cbc96c09-5a2f-4696-fcb0-109c26bdedd7",
        "colab": {
          "base_uri": "https://localhost:8080/",
          "height": 568
        }
      },
      "source": [
        "#\n",
        "elecar.info()"
      ],
      "execution_count": 5,
      "outputs": [
        {
          "output_type": "stream",
          "text": [
            "<class 'pandas.core.frame.DataFrame'>\n",
            "Int64Index: 14421829 entries, 0 to 1072\n",
            "Data columns (total 25 columns):\n",
            "Address                object\n",
            "Cars                   int64\n",
            "Bluecar counter        int64\n",
            "Utilib counter         int64\n",
            "Utilib 1.4 counter     int64\n",
            "Charge Slots           int64\n",
            "Charging Status        object\n",
            "City                   object\n",
            "Displayed comment      object\n",
            "ID                     object\n",
            "Kind                   object\n",
            "Geo point              object\n",
            "Postal code            int64\n",
            "Public name            object\n",
            "Rental status          object\n",
            "Scheduled at           object\n",
            "Slots                  int64\n",
            "Station type           object\n",
            "Status                 object\n",
            "Subscription status    object\n",
            "year                   int64\n",
            "month                  int64\n",
            "day                    int64\n",
            "hour                   int64\n",
            "minute                 int64\n",
            "dtypes: int64(12), object(13)\n",
            "memory usage: 2.8+ GB\n"
          ],
          "name": "stdout"
        }
      ]
    },
    {
      "cell_type": "markdown",
      "metadata": {
        "id": "Y61VBHxoh97x",
        "colab_type": "text"
      },
      "source": [
        "# Cleaning the dataset"
      ]
    },
    {
      "cell_type": "markdown",
      "metadata": {
        "id": "MJo4lYFqmhKr",
        "colab_type": "text"
      },
      "source": [
        "## Improving Validity"
      ]
    },
    {
      "cell_type": "code",
      "metadata": {
        "id": "WdPlJUtyml5w",
        "colab_type": "code",
        "outputId": "94319140-3d3a-457f-a3db-e7a46632add9",
        "colab": {
          "base_uri": "https://localhost:8080/",
          "height": 313
        }
      },
      "source": [
        "#Dropping irrelevant columns from the dataset\n",
        "\n",
        "elcar = elecar.drop(['Cars', 'Geo point', 'Address', 'Displayed comment', 'Charging Status', 'Subscription status', 'year', 'month', 'ID'], axis=1)\n",
        "elcar.head()"
      ],
      "execution_count": 6,
      "outputs": [
        {
          "output_type": "execute_result",
          "data": {
            "text/html": [
              "<div>\n",
              "<style scoped>\n",
              "    .dataframe tbody tr th:only-of-type {\n",
              "        vertical-align: middle;\n",
              "    }\n",
              "\n",
              "    .dataframe tbody tr th {\n",
              "        vertical-align: top;\n",
              "    }\n",
              "\n",
              "    .dataframe thead th {\n",
              "        text-align: right;\n",
              "    }\n",
              "</style>\n",
              "<table border=\"1\" class=\"dataframe\">\n",
              "  <thead>\n",
              "    <tr style=\"text-align: right;\">\n",
              "      <th></th>\n",
              "      <th>Bluecar counter</th>\n",
              "      <th>Utilib counter</th>\n",
              "      <th>Utilib 1.4 counter</th>\n",
              "      <th>Charge Slots</th>\n",
              "      <th>City</th>\n",
              "      <th>Kind</th>\n",
              "      <th>Postal code</th>\n",
              "      <th>Public name</th>\n",
              "      <th>Rental status</th>\n",
              "      <th>Scheduled at</th>\n",
              "      <th>Slots</th>\n",
              "      <th>Station type</th>\n",
              "      <th>Status</th>\n",
              "      <th>day</th>\n",
              "      <th>hour</th>\n",
              "      <th>minute</th>\n",
              "    </tr>\n",
              "  </thead>\n",
              "  <tbody>\n",
              "    <tr>\n",
              "      <th>0</th>\n",
              "      <td>3</td>\n",
              "      <td>1</td>\n",
              "      <td>0</td>\n",
              "      <td>1</td>\n",
              "      <td>Paris</td>\n",
              "      <td>STATION</td>\n",
              "      <td>75013</td>\n",
              "      <td>Paris/Vulpian/24</td>\n",
              "      <td>operational</td>\n",
              "      <td>NaN</td>\n",
              "      <td>1</td>\n",
              "      <td>station</td>\n",
              "      <td>ok</td>\n",
              "      <td>1</td>\n",
              "      <td>0</td>\n",
              "      <td>0</td>\n",
              "    </tr>\n",
              "    <tr>\n",
              "      <th>1</th>\n",
              "      <td>0</td>\n",
              "      <td>0</td>\n",
              "      <td>0</td>\n",
              "      <td>1</td>\n",
              "      <td>Paris</td>\n",
              "      <td>STATION</td>\n",
              "      <td>75011</td>\n",
              "      <td>Paris/Richard Lenoir/8</td>\n",
              "      <td>operational</td>\n",
              "      <td>NaN</td>\n",
              "      <td>3</td>\n",
              "      <td>station</td>\n",
              "      <td>ok</td>\n",
              "      <td>1</td>\n",
              "      <td>0</td>\n",
              "      <td>0</td>\n",
              "    </tr>\n",
              "    <tr>\n",
              "      <th>2</th>\n",
              "      <td>3</td>\n",
              "      <td>0</td>\n",
              "      <td>0</td>\n",
              "      <td>1</td>\n",
              "      <td>Paris</td>\n",
              "      <td>STATION</td>\n",
              "      <td>75012</td>\n",
              "      <td>Paris/Charles Bossut/4</td>\n",
              "      <td>operational</td>\n",
              "      <td>NaN</td>\n",
              "      <td>2</td>\n",
              "      <td>station</td>\n",
              "      <td>ok</td>\n",
              "      <td>1</td>\n",
              "      <td>0</td>\n",
              "      <td>0</td>\n",
              "    </tr>\n",
              "    <tr>\n",
              "      <th>3</th>\n",
              "      <td>4</td>\n",
              "      <td>0</td>\n",
              "      <td>0</td>\n",
              "      <td>0</td>\n",
              "      <td>Paris</td>\n",
              "      <td>STATION</td>\n",
              "      <td>75010</td>\n",
              "      <td>Paris/Claude Vellefaux/3</td>\n",
              "      <td>operational</td>\n",
              "      <td>NaN</td>\n",
              "      <td>1</td>\n",
              "      <td>station</td>\n",
              "      <td>ok</td>\n",
              "      <td>1</td>\n",
              "      <td>0</td>\n",
              "      <td>0</td>\n",
              "    </tr>\n",
              "    <tr>\n",
              "      <th>4</th>\n",
              "      <td>1</td>\n",
              "      <td>0</td>\n",
              "      <td>0</td>\n",
              "      <td>1</td>\n",
              "      <td>Paris</td>\n",
              "      <td>STATION</td>\n",
              "      <td>75011</td>\n",
              "      <td>Paris/Voltaire/236</td>\n",
              "      <td>operational</td>\n",
              "      <td>NaN</td>\n",
              "      <td>4</td>\n",
              "      <td>station</td>\n",
              "      <td>ok</td>\n",
              "      <td>1</td>\n",
              "      <td>0</td>\n",
              "      <td>0</td>\n",
              "    </tr>\n",
              "  </tbody>\n",
              "</table>\n",
              "</div>"
            ],
            "text/plain": [
              "   Bluecar counter  Utilib counter  Utilib 1.4 counter  ...  day hour minute\n",
              "0                3               1                   0  ...    1    0      0\n",
              "1                0               0                   0  ...    1    0      0\n",
              "2                3               0                   0  ...    1    0      0\n",
              "3                4               0                   0  ...    1    0      0\n",
              "4                1               0                   0  ...    1    0      0\n",
              "\n",
              "[5 rows x 16 columns]"
            ]
          },
          "metadata": {
            "tags": []
          },
          "execution_count": 6
        }
      ]
    },
    {
      "cell_type": "code",
      "metadata": {
        "id": "yrQ3LVF0GHlA",
        "colab_type": "code",
        "colab": {}
      },
      "source": [
        "elcar.drop(['Scheduled at'], axis=1, inplace=True)"
      ],
      "execution_count": 0,
      "outputs": []
    },
    {
      "cell_type": "code",
      "metadata": {
        "id": "O2RfftdzBT-c",
        "colab_type": "code",
        "outputId": "b5cc70ba-9007-4b5c-ba1d-5c6349c25d47",
        "colab": {
          "base_uri": "https://localhost:8080/",
          "height": 384
        }
      },
      "source": [
        "elcar.info()"
      ],
      "execution_count": 8,
      "outputs": [
        {
          "output_type": "stream",
          "text": [
            "<class 'pandas.core.frame.DataFrame'>\n",
            "Int64Index: 14421829 entries, 0 to 1072\n",
            "Data columns (total 15 columns):\n",
            "Bluecar counter       int64\n",
            "Utilib counter        int64\n",
            "Utilib 1.4 counter    int64\n",
            "Charge Slots          int64\n",
            "City                  object\n",
            "Kind                  object\n",
            "Postal code           int64\n",
            "Public name           object\n",
            "Rental status         object\n",
            "Slots                 int64\n",
            "Station type          object\n",
            "Status                object\n",
            "day                   int64\n",
            "hour                  int64\n",
            "minute                int64\n",
            "dtypes: int64(9), object(6)\n",
            "memory usage: 1.7+ GB\n"
          ],
          "name": "stdout"
        }
      ]
    },
    {
      "cell_type": "code",
      "metadata": {
        "id": "5YZgQr93Wj5L",
        "colab_type": "code",
        "colab": {}
      },
      "source": [
        "elcar.drop(['Charge Slots'], axis=1, inplace=True)"
      ],
      "execution_count": 0,
      "outputs": []
    },
    {
      "cell_type": "code",
      "metadata": {
        "id": "QN-PWXIjJj7K",
        "colab_type": "code",
        "outputId": "a8b2f301-8c5f-4f3f-c721-e6d2bdd4d259",
        "colab": {
          "base_uri": "https://localhost:8080/",
          "height": 400
        }
      },
      "source": [
        "elcar.tail()"
      ],
      "execution_count": 10,
      "outputs": [
        {
          "output_type": "execute_result",
          "data": {
            "text/html": [
              "<div>\n",
              "<style scoped>\n",
              "    .dataframe tbody tr th:only-of-type {\n",
              "        vertical-align: middle;\n",
              "    }\n",
              "\n",
              "    .dataframe tbody tr th {\n",
              "        vertical-align: top;\n",
              "    }\n",
              "\n",
              "    .dataframe thead th {\n",
              "        text-align: right;\n",
              "    }\n",
              "</style>\n",
              "<table border=\"1\" class=\"dataframe\">\n",
              "  <thead>\n",
              "    <tr style=\"text-align: right;\">\n",
              "      <th></th>\n",
              "      <th>Bluecar counter</th>\n",
              "      <th>Utilib counter</th>\n",
              "      <th>Utilib 1.4 counter</th>\n",
              "      <th>City</th>\n",
              "      <th>Kind</th>\n",
              "      <th>Postal code</th>\n",
              "      <th>Public name</th>\n",
              "      <th>Rental status</th>\n",
              "      <th>Slots</th>\n",
              "      <th>Station type</th>\n",
              "      <th>Status</th>\n",
              "      <th>day</th>\n",
              "      <th>hour</th>\n",
              "      <th>minute</th>\n",
              "    </tr>\n",
              "  </thead>\n",
              "  <tbody>\n",
              "    <tr>\n",
              "      <th>880</th>\n",
              "      <td>2</td>\n",
              "      <td>0</td>\n",
              "      <td>0</td>\n",
              "      <td>Neuilly-Plaisance</td>\n",
              "      <td>SPACE</td>\n",
              "      <td>93360</td>\n",
              "      <td>Neuilly-Plaisance/Paul CÃ©zanne/2</td>\n",
              "      <td>operational</td>\n",
              "      <td>3</td>\n",
              "      <td>full_station</td>\n",
              "      <td>ok</td>\n",
              "      <td>9</td>\n",
              "      <td>23</td>\n",
              "      <td>59</td>\n",
              "    </tr>\n",
              "    <tr>\n",
              "      <th>950</th>\n",
              "      <td>3</td>\n",
              "      <td>0</td>\n",
              "      <td>0</td>\n",
              "      <td>Levallois-Perret</td>\n",
              "      <td>PARKING</td>\n",
              "      <td>92300</td>\n",
              "      <td>Levallois-Perret/Louise Michel/Parking</td>\n",
              "      <td>operational</td>\n",
              "      <td>2</td>\n",
              "      <td>station</td>\n",
              "      <td>ok</td>\n",
              "      <td>9</td>\n",
              "      <td>23</td>\n",
              "      <td>59</td>\n",
              "    </tr>\n",
              "    <tr>\n",
              "      <th>996</th>\n",
              "      <td>5</td>\n",
              "      <td>0</td>\n",
              "      <td>0</td>\n",
              "      <td>Paris</td>\n",
              "      <td>STATION</td>\n",
              "      <td>75015</td>\n",
              "      <td>Paris/Olivier de Serres/3</td>\n",
              "      <td>operational</td>\n",
              "      <td>1</td>\n",
              "      <td>station</td>\n",
              "      <td>ok</td>\n",
              "      <td>9</td>\n",
              "      <td>23</td>\n",
              "      <td>59</td>\n",
              "    </tr>\n",
              "    <tr>\n",
              "      <th>1010</th>\n",
              "      <td>0</td>\n",
              "      <td>0</td>\n",
              "      <td>0</td>\n",
              "      <td>Antony</td>\n",
              "      <td>STATION</td>\n",
              "      <td>92160</td>\n",
              "      <td>Antony/De Gaulle/11</td>\n",
              "      <td>operational</td>\n",
              "      <td>5</td>\n",
              "      <td>station</td>\n",
              "      <td>ok</td>\n",
              "      <td>9</td>\n",
              "      <td>23</td>\n",
              "      <td>59</td>\n",
              "    </tr>\n",
              "    <tr>\n",
              "      <th>1072</th>\n",
              "      <td>1</td>\n",
              "      <td>0</td>\n",
              "      <td>0</td>\n",
              "      <td>Bourg-la-Reine</td>\n",
              "      <td>SPACE</td>\n",
              "      <td>92340</td>\n",
              "      <td>Bourg-la-Reine/AndrÃ© Theuriet/1</td>\n",
              "      <td>operational</td>\n",
              "      <td>4</td>\n",
              "      <td>full_station</td>\n",
              "      <td>ok</td>\n",
              "      <td>9</td>\n",
              "      <td>23</td>\n",
              "      <td>59</td>\n",
              "    </tr>\n",
              "  </tbody>\n",
              "</table>\n",
              "</div>"
            ],
            "text/plain": [
              "      Bluecar counter  Utilib counter  Utilib 1.4 counter  ... day hour  minute\n",
              "880                 2               0                   0  ...   9   23      59\n",
              "950                 3               0                   0  ...   9   23      59\n",
              "996                 5               0                   0  ...   9   23      59\n",
              "1010                0               0                   0  ...   9   23      59\n",
              "1072                1               0                   0  ...   9   23      59\n",
              "\n",
              "[5 rows x 14 columns]"
            ]
          },
          "metadata": {
            "tags": []
          },
          "execution_count": 10
        }
      ]
    },
    {
      "cell_type": "code",
      "metadata": {
        "id": "Vx1-JHhkWz-D",
        "colab_type": "code",
        "colab": {
          "base_uri": "https://localhost:8080/",
          "height": 366
        },
        "outputId": "2a4b1af0-e149-4f97-caba-e16871d22509"
      },
      "source": [
        "elcar.info()"
      ],
      "execution_count": 11,
      "outputs": [
        {
          "output_type": "stream",
          "text": [
            "<class 'pandas.core.frame.DataFrame'>\n",
            "Int64Index: 14421829 entries, 0 to 1072\n",
            "Data columns (total 14 columns):\n",
            "Bluecar counter       int64\n",
            "Utilib counter        int64\n",
            "Utilib 1.4 counter    int64\n",
            "City                  object\n",
            "Kind                  object\n",
            "Postal code           int64\n",
            "Public name           object\n",
            "Rental status         object\n",
            "Slots                 int64\n",
            "Station type          object\n",
            "Status                object\n",
            "day                   int64\n",
            "hour                  int64\n",
            "minute                int64\n",
            "dtypes: int64(8), object(6)\n",
            "memory usage: 1.6+ GB\n"
          ],
          "name": "stdout"
        }
      ]
    },
    {
      "cell_type": "markdown",
      "metadata": {
        "id": "Xgf6ukjOJlM1",
        "colab_type": "text"
      },
      "source": [
        "## Checking and Improving on Completeness"
      ]
    },
    {
      "cell_type": "code",
      "metadata": {
        "id": "kYPGewo-BakS",
        "colab_type": "code",
        "outputId": "ea90e560-9b12-4c05-c293-41743cbd894b",
        "colab": {
          "base_uri": "https://localhost:8080/",
          "height": 293
        }
      },
      "source": [
        "elcar.isnull().sum()"
      ],
      "execution_count": 12,
      "outputs": [
        {
          "output_type": "execute_result",
          "data": {
            "text/plain": [
              "Bluecar counter       0\n",
              "Utilib counter        0\n",
              "Utilib 1.4 counter    0\n",
              "City                  0\n",
              "Kind                  0\n",
              "Postal code           0\n",
              "Public name           0\n",
              "Rental status         0\n",
              "Slots                 0\n",
              "Station type          0\n",
              "Status                0\n",
              "day                   0\n",
              "hour                  0\n",
              "minute                0\n",
              "dtype: int64"
            ]
          },
          "metadata": {
            "tags": []
          },
          "execution_count": 12
        }
      ]
    },
    {
      "cell_type": "code",
      "metadata": {
        "id": "5-sh78hQBhO4",
        "colab_type": "code",
        "outputId": "ef70785f-8026-4a7f-ebb2-08cd4e047e0b",
        "colab": {
          "base_uri": "https://localhost:8080/",
          "height": 293
        }
      },
      "source": [
        "elcar.notnull().sum()"
      ],
      "execution_count": 13,
      "outputs": [
        {
          "output_type": "execute_result",
          "data": {
            "text/plain": [
              "Bluecar counter       14421829\n",
              "Utilib counter        14421829\n",
              "Utilib 1.4 counter    14421829\n",
              "City                  14421829\n",
              "Kind                  14421829\n",
              "Postal code           14421829\n",
              "Public name           14421829\n",
              "Rental status         14421829\n",
              "Slots                 14421829\n",
              "Station type          14421829\n",
              "Status                14421829\n",
              "day                   14421829\n",
              "hour                  14421829\n",
              "minute                14421829\n",
              "dtype: int64"
            ]
          },
          "metadata": {
            "tags": []
          },
          "execution_count": 13
        }
      ]
    },
    {
      "cell_type": "code",
      "metadata": {
        "id": "RCvYKk7sFlUh",
        "colab_type": "code",
        "colab": {
          "base_uri": "https://localhost:8080/",
          "height": 313
        },
        "outputId": "6df2ec73-af72-457c-ea87-86b96ef826d2"
      },
      "source": [
        "elcar.head()\n"
      ],
      "execution_count": 14,
      "outputs": [
        {
          "output_type": "execute_result",
          "data": {
            "text/html": [
              "<div>\n",
              "<style scoped>\n",
              "    .dataframe tbody tr th:only-of-type {\n",
              "        vertical-align: middle;\n",
              "    }\n",
              "\n",
              "    .dataframe tbody tr th {\n",
              "        vertical-align: top;\n",
              "    }\n",
              "\n",
              "    .dataframe thead th {\n",
              "        text-align: right;\n",
              "    }\n",
              "</style>\n",
              "<table border=\"1\" class=\"dataframe\">\n",
              "  <thead>\n",
              "    <tr style=\"text-align: right;\">\n",
              "      <th></th>\n",
              "      <th>Bluecar counter</th>\n",
              "      <th>Utilib counter</th>\n",
              "      <th>Utilib 1.4 counter</th>\n",
              "      <th>City</th>\n",
              "      <th>Kind</th>\n",
              "      <th>Postal code</th>\n",
              "      <th>Public name</th>\n",
              "      <th>Rental status</th>\n",
              "      <th>Slots</th>\n",
              "      <th>Station type</th>\n",
              "      <th>Status</th>\n",
              "      <th>day</th>\n",
              "      <th>hour</th>\n",
              "      <th>minute</th>\n",
              "    </tr>\n",
              "  </thead>\n",
              "  <tbody>\n",
              "    <tr>\n",
              "      <th>0</th>\n",
              "      <td>3</td>\n",
              "      <td>1</td>\n",
              "      <td>0</td>\n",
              "      <td>Paris</td>\n",
              "      <td>STATION</td>\n",
              "      <td>75013</td>\n",
              "      <td>Paris/Vulpian/24</td>\n",
              "      <td>operational</td>\n",
              "      <td>1</td>\n",
              "      <td>station</td>\n",
              "      <td>ok</td>\n",
              "      <td>1</td>\n",
              "      <td>0</td>\n",
              "      <td>0</td>\n",
              "    </tr>\n",
              "    <tr>\n",
              "      <th>1</th>\n",
              "      <td>0</td>\n",
              "      <td>0</td>\n",
              "      <td>0</td>\n",
              "      <td>Paris</td>\n",
              "      <td>STATION</td>\n",
              "      <td>75011</td>\n",
              "      <td>Paris/Richard Lenoir/8</td>\n",
              "      <td>operational</td>\n",
              "      <td>3</td>\n",
              "      <td>station</td>\n",
              "      <td>ok</td>\n",
              "      <td>1</td>\n",
              "      <td>0</td>\n",
              "      <td>0</td>\n",
              "    </tr>\n",
              "    <tr>\n",
              "      <th>2</th>\n",
              "      <td>3</td>\n",
              "      <td>0</td>\n",
              "      <td>0</td>\n",
              "      <td>Paris</td>\n",
              "      <td>STATION</td>\n",
              "      <td>75012</td>\n",
              "      <td>Paris/Charles Bossut/4</td>\n",
              "      <td>operational</td>\n",
              "      <td>2</td>\n",
              "      <td>station</td>\n",
              "      <td>ok</td>\n",
              "      <td>1</td>\n",
              "      <td>0</td>\n",
              "      <td>0</td>\n",
              "    </tr>\n",
              "    <tr>\n",
              "      <th>3</th>\n",
              "      <td>4</td>\n",
              "      <td>0</td>\n",
              "      <td>0</td>\n",
              "      <td>Paris</td>\n",
              "      <td>STATION</td>\n",
              "      <td>75010</td>\n",
              "      <td>Paris/Claude Vellefaux/3</td>\n",
              "      <td>operational</td>\n",
              "      <td>1</td>\n",
              "      <td>station</td>\n",
              "      <td>ok</td>\n",
              "      <td>1</td>\n",
              "      <td>0</td>\n",
              "      <td>0</td>\n",
              "    </tr>\n",
              "    <tr>\n",
              "      <th>4</th>\n",
              "      <td>1</td>\n",
              "      <td>0</td>\n",
              "      <td>0</td>\n",
              "      <td>Paris</td>\n",
              "      <td>STATION</td>\n",
              "      <td>75011</td>\n",
              "      <td>Paris/Voltaire/236</td>\n",
              "      <td>operational</td>\n",
              "      <td>4</td>\n",
              "      <td>station</td>\n",
              "      <td>ok</td>\n",
              "      <td>1</td>\n",
              "      <td>0</td>\n",
              "      <td>0</td>\n",
              "    </tr>\n",
              "  </tbody>\n",
              "</table>\n",
              "</div>"
            ],
            "text/plain": [
              "   Bluecar counter  Utilib counter  Utilib 1.4 counter  ... day hour  minute\n",
              "0                3               1                   0  ...   1    0       0\n",
              "1                0               0                   0  ...   1    0       0\n",
              "2                3               0                   0  ...   1    0       0\n",
              "3                4               0                   0  ...   1    0       0\n",
              "4                1               0                   0  ...   1    0       0\n",
              "\n",
              "[5 rows x 14 columns]"
            ]
          },
          "metadata": {
            "tags": []
          },
          "execution_count": 14
        }
      ]
    },
    {
      "cell_type": "markdown",
      "metadata": {
        "id": "oAyGKQIdmskz",
        "colab_type": "text"
      },
      "source": [
        "## Accuracy"
      ]
    },
    {
      "cell_type": "code",
      "metadata": {
        "id": "CLI3wl3emvIi",
        "colab_type": "code",
        "colab": {}
      },
      "source": [
        "## Accuracy of the dataset cannot be improved further"
      ],
      "execution_count": 0,
      "outputs": []
    },
    {
      "cell_type": "markdown",
      "metadata": {
        "id": "BW4Gx3y7H_ly",
        "colab_type": "text"
      },
      "source": [
        "## Improving Consistency"
      ]
    },
    {
      "cell_type": "code",
      "metadata": {
        "id": "faLUkr7llUWD",
        "colab_type": "code",
        "outputId": "ee473690-3390-4dea-a702-c34f22ef868a",
        "colab": {
          "base_uri": "https://localhost:8080/",
          "height": 35
        }
      },
      "source": [
        "#checking for duplicates\n",
        "elcar.duplicated().sum()"
      ],
      "execution_count": 15,
      "outputs": [
        {
          "output_type": "execute_result",
          "data": {
            "text/plain": [
              "142890"
            ]
          },
          "metadata": {
            "tags": []
          },
          "execution_count": 15
        }
      ]
    },
    {
      "cell_type": "code",
      "metadata": {
        "id": "VMp9l32cIa07",
        "colab_type": "code",
        "colab": {}
      },
      "source": [
        "#dropping duplicates values\n",
        "elcar.drop_duplicates(inplace=True)"
      ],
      "execution_count": 0,
      "outputs": []
    },
    {
      "cell_type": "code",
      "metadata": {
        "id": "c-yXqToWIrDe",
        "colab_type": "code",
        "outputId": "6d961807-fb06-4cb2-a72e-240237328e1a",
        "colab": {
          "base_uri": "https://localhost:8080/",
          "height": 35
        }
      },
      "source": [
        "#confirming if duplicate values have been dropped\n",
        "elcar.duplicated().sum()"
      ],
      "execution_count": 17,
      "outputs": [
        {
          "output_type": "execute_result",
          "data": {
            "text/plain": [
              "0"
            ]
          },
          "metadata": {
            "tags": []
          },
          "execution_count": 17
        }
      ]
    },
    {
      "cell_type": "code",
      "metadata": {
        "id": "63TOV-LAWNb9",
        "colab_type": "code",
        "outputId": "b191509b-22e0-4f9e-e7ad-2f88d863d172",
        "colab": {
          "base_uri": "https://localhost:8080/",
          "height": 35
        }
      },
      "source": [
        "elcar.shape"
      ],
      "execution_count": 18,
      "outputs": [
        {
          "output_type": "execute_result",
          "data": {
            "text/plain": [
              "(14278939, 14)"
            ]
          },
          "metadata": {
            "tags": []
          },
          "execution_count": 18
        }
      ]
    },
    {
      "cell_type": "markdown",
      "metadata": {
        "id": "PTMgbVWiJJMy",
        "colab_type": "text"
      },
      "source": [
        "## Enhancing Uniformity"
      ]
    },
    {
      "cell_type": "code",
      "metadata": {
        "id": "o1AjfkW1JMTn",
        "colab_type": "code",
        "outputId": "73e6094e-15a2-4956-dc43-84f77065a8bd",
        "colab": {
          "base_uri": "https://localhost:8080/",
          "height": 313
        }
      },
      "source": [
        "#converting column names to lower case\n",
        "elcar.columns = elcar.columns.str.lower()\n",
        "elcar.head()"
      ],
      "execution_count": 19,
      "outputs": [
        {
          "output_type": "execute_result",
          "data": {
            "text/html": [
              "<div>\n",
              "<style scoped>\n",
              "    .dataframe tbody tr th:only-of-type {\n",
              "        vertical-align: middle;\n",
              "    }\n",
              "\n",
              "    .dataframe tbody tr th {\n",
              "        vertical-align: top;\n",
              "    }\n",
              "\n",
              "    .dataframe thead th {\n",
              "        text-align: right;\n",
              "    }\n",
              "</style>\n",
              "<table border=\"1\" class=\"dataframe\">\n",
              "  <thead>\n",
              "    <tr style=\"text-align: right;\">\n",
              "      <th></th>\n",
              "      <th>bluecar counter</th>\n",
              "      <th>utilib counter</th>\n",
              "      <th>utilib 1.4 counter</th>\n",
              "      <th>city</th>\n",
              "      <th>kind</th>\n",
              "      <th>postal code</th>\n",
              "      <th>public name</th>\n",
              "      <th>rental status</th>\n",
              "      <th>slots</th>\n",
              "      <th>station type</th>\n",
              "      <th>status</th>\n",
              "      <th>day</th>\n",
              "      <th>hour</th>\n",
              "      <th>minute</th>\n",
              "    </tr>\n",
              "  </thead>\n",
              "  <tbody>\n",
              "    <tr>\n",
              "      <th>0</th>\n",
              "      <td>3</td>\n",
              "      <td>1</td>\n",
              "      <td>0</td>\n",
              "      <td>Paris</td>\n",
              "      <td>STATION</td>\n",
              "      <td>75013</td>\n",
              "      <td>Paris/Vulpian/24</td>\n",
              "      <td>operational</td>\n",
              "      <td>1</td>\n",
              "      <td>station</td>\n",
              "      <td>ok</td>\n",
              "      <td>1</td>\n",
              "      <td>0</td>\n",
              "      <td>0</td>\n",
              "    </tr>\n",
              "    <tr>\n",
              "      <th>1</th>\n",
              "      <td>0</td>\n",
              "      <td>0</td>\n",
              "      <td>0</td>\n",
              "      <td>Paris</td>\n",
              "      <td>STATION</td>\n",
              "      <td>75011</td>\n",
              "      <td>Paris/Richard Lenoir/8</td>\n",
              "      <td>operational</td>\n",
              "      <td>3</td>\n",
              "      <td>station</td>\n",
              "      <td>ok</td>\n",
              "      <td>1</td>\n",
              "      <td>0</td>\n",
              "      <td>0</td>\n",
              "    </tr>\n",
              "    <tr>\n",
              "      <th>2</th>\n",
              "      <td>3</td>\n",
              "      <td>0</td>\n",
              "      <td>0</td>\n",
              "      <td>Paris</td>\n",
              "      <td>STATION</td>\n",
              "      <td>75012</td>\n",
              "      <td>Paris/Charles Bossut/4</td>\n",
              "      <td>operational</td>\n",
              "      <td>2</td>\n",
              "      <td>station</td>\n",
              "      <td>ok</td>\n",
              "      <td>1</td>\n",
              "      <td>0</td>\n",
              "      <td>0</td>\n",
              "    </tr>\n",
              "    <tr>\n",
              "      <th>3</th>\n",
              "      <td>4</td>\n",
              "      <td>0</td>\n",
              "      <td>0</td>\n",
              "      <td>Paris</td>\n",
              "      <td>STATION</td>\n",
              "      <td>75010</td>\n",
              "      <td>Paris/Claude Vellefaux/3</td>\n",
              "      <td>operational</td>\n",
              "      <td>1</td>\n",
              "      <td>station</td>\n",
              "      <td>ok</td>\n",
              "      <td>1</td>\n",
              "      <td>0</td>\n",
              "      <td>0</td>\n",
              "    </tr>\n",
              "    <tr>\n",
              "      <th>4</th>\n",
              "      <td>1</td>\n",
              "      <td>0</td>\n",
              "      <td>0</td>\n",
              "      <td>Paris</td>\n",
              "      <td>STATION</td>\n",
              "      <td>75011</td>\n",
              "      <td>Paris/Voltaire/236</td>\n",
              "      <td>operational</td>\n",
              "      <td>4</td>\n",
              "      <td>station</td>\n",
              "      <td>ok</td>\n",
              "      <td>1</td>\n",
              "      <td>0</td>\n",
              "      <td>0</td>\n",
              "    </tr>\n",
              "  </tbody>\n",
              "</table>\n",
              "</div>"
            ],
            "text/plain": [
              "   bluecar counter  utilib counter  utilib 1.4 counter  ... day hour  minute\n",
              "0                3               1                   0  ...   1    0       0\n",
              "1                0               0                   0  ...   1    0       0\n",
              "2                3               0                   0  ...   1    0       0\n",
              "3                4               0                   0  ...   1    0       0\n",
              "4                1               0                   0  ...   1    0       0\n",
              "\n",
              "[5 rows x 14 columns]"
            ]
          },
          "metadata": {
            "tags": []
          },
          "execution_count": 19
        }
      ]
    },
    {
      "cell_type": "code",
      "metadata": {
        "id": "ICXLKUY4KZuZ",
        "colab_type": "code",
        "colab": {}
      },
      "source": [
        ""
      ],
      "execution_count": 0,
      "outputs": []
    },
    {
      "cell_type": "code",
      "metadata": {
        "id": "nVvEAwnGLRn-",
        "colab_type": "code",
        "colab": {}
      },
      "source": [
        ""
      ],
      "execution_count": 0,
      "outputs": []
    },
    {
      "cell_type": "markdown",
      "metadata": {
        "id": "yGq27TivOGE6",
        "colab_type": "text"
      },
      "source": [
        "# Exporting the cleaned dataset"
      ]
    },
    {
      "cell_type": "code",
      "metadata": {
        "id": "VXa-cRV_OYn_",
        "colab_type": "code",
        "colab": {}
      },
      "source": [
        "elcar.to_csv('llcar.csv')"
      ],
      "execution_count": 0,
      "outputs": []
    },
    {
      "cell_type": "markdown",
      "metadata": {
        "id": "zy5jXDEeMsju",
        "colab_type": "text"
      },
      "source": [
        "# Data Analysis"
      ]
    },
    {
      "cell_type": "code",
      "metadata": {
        "id": "xtL52j-2MwHr",
        "colab_type": "code",
        "outputId": "2eb1fbdd-2ea2-4cf9-9b58-9c7460825cda",
        "colab": {
          "base_uri": "https://localhost:8080/",
          "height": 350
        }
      },
      "source": [
        "lcar = pd.read_csv('llcar.csv', index_col=0, encoding='utf-8')\n",
        "lcar.head()"
      ],
      "execution_count": 59,
      "outputs": [
        {
          "output_type": "stream",
          "text": [
            "/usr/local/lib/python3.6/dist-packages/numpy/lib/arraysetops.py:569: FutureWarning: elementwise comparison failed; returning scalar instead, but in the future will perform elementwise comparison\n",
            "  mask |= (ar1 == a)\n"
          ],
          "name": "stderr"
        },
        {
          "output_type": "execute_result",
          "data": {
            "text/html": [
              "<div>\n",
              "<style scoped>\n",
              "    .dataframe tbody tr th:only-of-type {\n",
              "        vertical-align: middle;\n",
              "    }\n",
              "\n",
              "    .dataframe tbody tr th {\n",
              "        vertical-align: top;\n",
              "    }\n",
              "\n",
              "    .dataframe thead th {\n",
              "        text-align: right;\n",
              "    }\n",
              "</style>\n",
              "<table border=\"1\" class=\"dataframe\">\n",
              "  <thead>\n",
              "    <tr style=\"text-align: right;\">\n",
              "      <th></th>\n",
              "      <th>bluecar counter</th>\n",
              "      <th>utilib counter</th>\n",
              "      <th>utilib 1.4 counter</th>\n",
              "      <th>city</th>\n",
              "      <th>kind</th>\n",
              "      <th>postal code</th>\n",
              "      <th>public name</th>\n",
              "      <th>rental status</th>\n",
              "      <th>slots</th>\n",
              "      <th>station type</th>\n",
              "      <th>status</th>\n",
              "      <th>day</th>\n",
              "      <th>hour</th>\n",
              "      <th>minute</th>\n",
              "    </tr>\n",
              "  </thead>\n",
              "  <tbody>\n",
              "    <tr>\n",
              "      <th>0</th>\n",
              "      <td>3</td>\n",
              "      <td>1</td>\n",
              "      <td>0</td>\n",
              "      <td>Paris</td>\n",
              "      <td>STATION</td>\n",
              "      <td>75013</td>\n",
              "      <td>Paris/Vulpian/24</td>\n",
              "      <td>operational</td>\n",
              "      <td>1</td>\n",
              "      <td>station</td>\n",
              "      <td>ok</td>\n",
              "      <td>1</td>\n",
              "      <td>0</td>\n",
              "      <td>0</td>\n",
              "    </tr>\n",
              "    <tr>\n",
              "      <th>1</th>\n",
              "      <td>0</td>\n",
              "      <td>0</td>\n",
              "      <td>0</td>\n",
              "      <td>Paris</td>\n",
              "      <td>STATION</td>\n",
              "      <td>75011</td>\n",
              "      <td>Paris/Richard Lenoir/8</td>\n",
              "      <td>operational</td>\n",
              "      <td>3</td>\n",
              "      <td>station</td>\n",
              "      <td>ok</td>\n",
              "      <td>1</td>\n",
              "      <td>0</td>\n",
              "      <td>0</td>\n",
              "    </tr>\n",
              "    <tr>\n",
              "      <th>2</th>\n",
              "      <td>3</td>\n",
              "      <td>0</td>\n",
              "      <td>0</td>\n",
              "      <td>Paris</td>\n",
              "      <td>STATION</td>\n",
              "      <td>75012</td>\n",
              "      <td>Paris/Charles Bossut/4</td>\n",
              "      <td>operational</td>\n",
              "      <td>2</td>\n",
              "      <td>station</td>\n",
              "      <td>ok</td>\n",
              "      <td>1</td>\n",
              "      <td>0</td>\n",
              "      <td>0</td>\n",
              "    </tr>\n",
              "    <tr>\n",
              "      <th>3</th>\n",
              "      <td>4</td>\n",
              "      <td>0</td>\n",
              "      <td>0</td>\n",
              "      <td>Paris</td>\n",
              "      <td>STATION</td>\n",
              "      <td>75010</td>\n",
              "      <td>Paris/Claude Vellefaux/3</td>\n",
              "      <td>operational</td>\n",
              "      <td>1</td>\n",
              "      <td>station</td>\n",
              "      <td>ok</td>\n",
              "      <td>1</td>\n",
              "      <td>0</td>\n",
              "      <td>0</td>\n",
              "    </tr>\n",
              "    <tr>\n",
              "      <th>4</th>\n",
              "      <td>1</td>\n",
              "      <td>0</td>\n",
              "      <td>0</td>\n",
              "      <td>Paris</td>\n",
              "      <td>STATION</td>\n",
              "      <td>75011</td>\n",
              "      <td>Paris/Voltaire/236</td>\n",
              "      <td>operational</td>\n",
              "      <td>4</td>\n",
              "      <td>station</td>\n",
              "      <td>ok</td>\n",
              "      <td>1</td>\n",
              "      <td>0</td>\n",
              "      <td>0</td>\n",
              "    </tr>\n",
              "  </tbody>\n",
              "</table>\n",
              "</div>"
            ],
            "text/plain": [
              "   bluecar counter  utilib counter  utilib 1.4 counter  ... day hour  minute\n",
              "0                3               1                   0  ...   1    0       0\n",
              "1                0               0                   0  ...   1    0       0\n",
              "2                3               0                   0  ...   1    0       0\n",
              "3                4               0                   0  ...   1    0       0\n",
              "4                1               0                   0  ...   1    0       0\n",
              "\n",
              "[5 rows x 14 columns]"
            ]
          },
          "metadata": {
            "tags": []
          },
          "execution_count": 59
        }
      ]
    },
    {
      "cell_type": "code",
      "metadata": {
        "id": "DpXwvksKQmKw",
        "colab_type": "code",
        "colab": {}
      },
      "source": [
        ""
      ],
      "execution_count": 0,
      "outputs": []
    },
    {
      "cell_type": "code",
      "metadata": {
        "id": "w2W1I8VwAqEq",
        "colab_type": "code",
        "colab": {}
      },
      "source": [
        ""
      ],
      "execution_count": 0,
      "outputs": []
    },
    {
      "cell_type": "markdown",
      "metadata": {
        "id": "obBcqqZ4b02f",
        "colab_type": "text"
      },
      "source": [
        "## Most popular hour of the day for picking up a shared electric car (Bluecar) in the city of Paris over the month of April 2018 "
      ]
    },
    {
      "cell_type": "markdown",
      "metadata": {
        "id": "jDfj1pOCGICI",
        "colab_type": "text"
      },
      "source": [
        "### Most popular hour for picking up a bluecar"
      ]
    },
    {
      "cell_type": "code",
      "metadata": {
        "id": "_A7FEvBs-rbq",
        "colab_type": "code",
        "colab": {}
      },
      "source": [
        "crrr = lcar[lcar['city'] == 'Paris']"
      ],
      "execution_count": 0,
      "outputs": []
    },
    {
      "cell_type": "code",
      "metadata": {
        "id": "Kt4ciiaXGNcM",
        "colab_type": "code",
        "colab": {}
      },
      "source": [
        ""
      ],
      "execution_count": 0,
      "outputs": []
    },
    {
      "cell_type": "code",
      "metadata": {
        "id": "e0b6Jpku7JQt",
        "colab_type": "code",
        "colab": {
          "base_uri": "https://localhost:8080/",
          "height": 238
        },
        "outputId": "d7a0495a-9d33-4ec8-98a1-2d6e33c5a7a7"
      },
      "source": [
        "rac = crrr.groupby(['public name', 'hour'])[['bluecar counter']].sum()\n",
        "rac.head()"
      ],
      "execution_count": 68,
      "outputs": [
        {
          "output_type": "execute_result",
          "data": {
            "text/html": [
              "<div>\n",
              "<style scoped>\n",
              "    .dataframe tbody tr th:only-of-type {\n",
              "        vertical-align: middle;\n",
              "    }\n",
              "\n",
              "    .dataframe tbody tr th {\n",
              "        vertical-align: top;\n",
              "    }\n",
              "\n",
              "    .dataframe thead th {\n",
              "        text-align: right;\n",
              "    }\n",
              "</style>\n",
              "<table border=\"1\" class=\"dataframe\">\n",
              "  <thead>\n",
              "    <tr style=\"text-align: right;\">\n",
              "      <th></th>\n",
              "      <th></th>\n",
              "      <th>bluecar counter</th>\n",
              "    </tr>\n",
              "    <tr>\n",
              "      <th>public name</th>\n",
              "      <th>hour</th>\n",
              "      <th></th>\n",
              "    </tr>\n",
              "  </thead>\n",
              "  <tbody>\n",
              "    <tr>\n",
              "      <th rowspan=\"5\" valign=\"top\">Paris/25 AoÃ»t 1944/8</th>\n",
              "      <th>0</th>\n",
              "      <td>680</td>\n",
              "    </tr>\n",
              "    <tr>\n",
              "      <th>1</th>\n",
              "      <td>648</td>\n",
              "    </tr>\n",
              "    <tr>\n",
              "      <th>2</th>\n",
              "      <td>665</td>\n",
              "    </tr>\n",
              "    <tr>\n",
              "      <th>3</th>\n",
              "      <td>808</td>\n",
              "    </tr>\n",
              "    <tr>\n",
              "      <th>4</th>\n",
              "      <td>796</td>\n",
              "    </tr>\n",
              "  </tbody>\n",
              "</table>\n",
              "</div>"
            ],
            "text/plain": [
              "                            bluecar counter\n",
              "public name           hour                 \n",
              "Paris/25 AoÃ»t 1944/8 0                 680\n",
              "                      1                 648\n",
              "                      2                 665\n",
              "                      3                 808\n",
              "                      4                 796"
            ]
          },
          "metadata": {
            "tags": []
          },
          "execution_count": 68
        }
      ]
    },
    {
      "cell_type": "code",
      "metadata": {
        "id": "xYfHKcu-7I_y",
        "colab_type": "code",
        "colab": {
          "base_uri": "https://localhost:8080/",
          "height": 238
        },
        "outputId": "e228cfd5-141b-495a-9250-0898fa8c5ca1"
      },
      "source": [
        "rac['bluecar_usage'] = rac['bluecar counter'].diff()\n",
        "\n",
        "rac.head()"
      ],
      "execution_count": 69,
      "outputs": [
        {
          "output_type": "execute_result",
          "data": {
            "text/html": [
              "<div>\n",
              "<style scoped>\n",
              "    .dataframe tbody tr th:only-of-type {\n",
              "        vertical-align: middle;\n",
              "    }\n",
              "\n",
              "    .dataframe tbody tr th {\n",
              "        vertical-align: top;\n",
              "    }\n",
              "\n",
              "    .dataframe thead th {\n",
              "        text-align: right;\n",
              "    }\n",
              "</style>\n",
              "<table border=\"1\" class=\"dataframe\">\n",
              "  <thead>\n",
              "    <tr style=\"text-align: right;\">\n",
              "      <th></th>\n",
              "      <th></th>\n",
              "      <th>bluecar counter</th>\n",
              "      <th>bluecar_usage</th>\n",
              "    </tr>\n",
              "    <tr>\n",
              "      <th>public name</th>\n",
              "      <th>hour</th>\n",
              "      <th></th>\n",
              "      <th></th>\n",
              "    </tr>\n",
              "  </thead>\n",
              "  <tbody>\n",
              "    <tr>\n",
              "      <th rowspan=\"5\" valign=\"top\">Paris/25 AoÃ»t 1944/8</th>\n",
              "      <th>0</th>\n",
              "      <td>680</td>\n",
              "      <td>NaN</td>\n",
              "    </tr>\n",
              "    <tr>\n",
              "      <th>1</th>\n",
              "      <td>648</td>\n",
              "      <td>-32.0</td>\n",
              "    </tr>\n",
              "    <tr>\n",
              "      <th>2</th>\n",
              "      <td>665</td>\n",
              "      <td>17.0</td>\n",
              "    </tr>\n",
              "    <tr>\n",
              "      <th>3</th>\n",
              "      <td>808</td>\n",
              "      <td>143.0</td>\n",
              "    </tr>\n",
              "    <tr>\n",
              "      <th>4</th>\n",
              "      <td>796</td>\n",
              "      <td>-12.0</td>\n",
              "    </tr>\n",
              "  </tbody>\n",
              "</table>\n",
              "</div>"
            ],
            "text/plain": [
              "                            bluecar counter  bluecar_usage\n",
              "public name           hour                                \n",
              "Paris/25 AoÃ»t 1944/8 0                 680            NaN\n",
              "                      1                 648          -32.0\n",
              "                      2                 665           17.0\n",
              "                      3                 808          143.0\n",
              "                      4                 796          -12.0"
            ]
          },
          "metadata": {
            "tags": []
          },
          "execution_count": 69
        }
      ]
    },
    {
      "cell_type": "code",
      "metadata": {
        "id": "fdy0FqNTAGIA",
        "colab_type": "code",
        "colab": {
          "base_uri": "https://localhost:8080/",
          "height": 238
        },
        "outputId": "446d73b0-23cc-449c-89bb-08ec485a65ca"
      },
      "source": [
        "# usage column is negative when cars have been picked up\n",
        "\n",
        "rc = rac[rac['bluecar_usage'] < 0]\n",
        "rc.head()"
      ],
      "execution_count": 70,
      "outputs": [
        {
          "output_type": "execute_result",
          "data": {
            "text/html": [
              "<div>\n",
              "<style scoped>\n",
              "    .dataframe tbody tr th:only-of-type {\n",
              "        vertical-align: middle;\n",
              "    }\n",
              "\n",
              "    .dataframe tbody tr th {\n",
              "        vertical-align: top;\n",
              "    }\n",
              "\n",
              "    .dataframe thead th {\n",
              "        text-align: right;\n",
              "    }\n",
              "</style>\n",
              "<table border=\"1\" class=\"dataframe\">\n",
              "  <thead>\n",
              "    <tr style=\"text-align: right;\">\n",
              "      <th></th>\n",
              "      <th></th>\n",
              "      <th>bluecar counter</th>\n",
              "      <th>bluecar_usage</th>\n",
              "    </tr>\n",
              "    <tr>\n",
              "      <th>public name</th>\n",
              "      <th>hour</th>\n",
              "      <th></th>\n",
              "      <th></th>\n",
              "    </tr>\n",
              "  </thead>\n",
              "  <tbody>\n",
              "    <tr>\n",
              "      <th rowspan=\"5\" valign=\"top\">Paris/25 AoÃ»t 1944/8</th>\n",
              "      <th>1</th>\n",
              "      <td>648</td>\n",
              "      <td>-32.0</td>\n",
              "    </tr>\n",
              "    <tr>\n",
              "      <th>4</th>\n",
              "      <td>796</td>\n",
              "      <td>-12.0</td>\n",
              "    </tr>\n",
              "    <tr>\n",
              "      <th>5</th>\n",
              "      <td>751</td>\n",
              "      <td>-45.0</td>\n",
              "    </tr>\n",
              "    <tr>\n",
              "      <th>9</th>\n",
              "      <td>1166</td>\n",
              "      <td>-108.0</td>\n",
              "    </tr>\n",
              "    <tr>\n",
              "      <th>10</th>\n",
              "      <td>1076</td>\n",
              "      <td>-90.0</td>\n",
              "    </tr>\n",
              "  </tbody>\n",
              "</table>\n",
              "</div>"
            ],
            "text/plain": [
              "                            bluecar counter  bluecar_usage\n",
              "public name           hour                                \n",
              "Paris/25 AoÃ»t 1944/8 1                 648          -32.0\n",
              "                      4                 796          -12.0\n",
              "                      5                 751          -45.0\n",
              "                      9                1166         -108.0\n",
              "                      10               1076          -90.0"
            ]
          },
          "metadata": {
            "tags": []
          },
          "execution_count": 70
        }
      ]
    },
    {
      "cell_type": "code",
      "metadata": {
        "id": "BrQy1z6QBOYx",
        "colab_type": "code",
        "colab": {
          "base_uri": "https://localhost:8080/",
          "height": 238
        },
        "outputId": "d4094f6a-4769-4c97-c9df-93b890af1531"
      },
      "source": [
        "rccc = rc.groupby('hour')[['bluecar_usage']].sum()\n",
        "rccc.head()"
      ],
      "execution_count": 71,
      "outputs": [
        {
          "output_type": "execute_result",
          "data": {
            "text/html": [
              "<div>\n",
              "<style scoped>\n",
              "    .dataframe tbody tr th:only-of-type {\n",
              "        vertical-align: middle;\n",
              "    }\n",
              "\n",
              "    .dataframe tbody tr th {\n",
              "        vertical-align: top;\n",
              "    }\n",
              "\n",
              "    .dataframe thead th {\n",
              "        text-align: right;\n",
              "    }\n",
              "</style>\n",
              "<table border=\"1\" class=\"dataframe\">\n",
              "  <thead>\n",
              "    <tr style=\"text-align: right;\">\n",
              "      <th></th>\n",
              "      <th>bluecar_usage</th>\n",
              "    </tr>\n",
              "    <tr>\n",
              "      <th>hour</th>\n",
              "      <th></th>\n",
              "    </tr>\n",
              "  </thead>\n",
              "  <tbody>\n",
              "    <tr>\n",
              "      <th>0</th>\n",
              "      <td>-198445.0</td>\n",
              "    </tr>\n",
              "    <tr>\n",
              "      <th>1</th>\n",
              "      <td>-19543.0</td>\n",
              "    </tr>\n",
              "    <tr>\n",
              "      <th>2</th>\n",
              "      <td>-14185.0</td>\n",
              "    </tr>\n",
              "    <tr>\n",
              "      <th>3</th>\n",
              "      <td>-12413.0</td>\n",
              "    </tr>\n",
              "    <tr>\n",
              "      <th>4</th>\n",
              "      <td>-15218.0</td>\n",
              "    </tr>\n",
              "  </tbody>\n",
              "</table>\n",
              "</div>"
            ],
            "text/plain": [
              "      bluecar_usage\n",
              "hour               \n",
              "0         -198445.0\n",
              "1          -19543.0\n",
              "2          -14185.0\n",
              "3          -12413.0\n",
              "4          -15218.0"
            ]
          },
          "metadata": {
            "tags": []
          },
          "execution_count": 71
        }
      ]
    },
    {
      "cell_type": "code",
      "metadata": {
        "id": "j569pA2oBjfk",
        "colab_type": "code",
        "colab": {
          "base_uri": "https://localhost:8080/",
          "height": 238
        },
        "outputId": "d86d162e-b022-4f64-f905-a19b095eb1cc"
      },
      "source": [
        "rccc.sort_values('bluecar_usage', ascending=True).head()"
      ],
      "execution_count": 72,
      "outputs": [
        {
          "output_type": "execute_result",
          "data": {
            "text/html": [
              "<div>\n",
              "<style scoped>\n",
              "    .dataframe tbody tr th:only-of-type {\n",
              "        vertical-align: middle;\n",
              "    }\n",
              "\n",
              "    .dataframe tbody tr th {\n",
              "        vertical-align: top;\n",
              "    }\n",
              "\n",
              "    .dataframe thead th {\n",
              "        text-align: right;\n",
              "    }\n",
              "</style>\n",
              "<table border=\"1\" class=\"dataframe\">\n",
              "  <thead>\n",
              "    <tr style=\"text-align: right;\">\n",
              "      <th></th>\n",
              "      <th>bluecar_usage</th>\n",
              "    </tr>\n",
              "    <tr>\n",
              "      <th>hour</th>\n",
              "      <th></th>\n",
              "    </tr>\n",
              "  </thead>\n",
              "  <tbody>\n",
              "    <tr>\n",
              "      <th>0</th>\n",
              "      <td>-198445.0</td>\n",
              "    </tr>\n",
              "    <tr>\n",
              "      <th>23</th>\n",
              "      <td>-71250.0</td>\n",
              "    </tr>\n",
              "    <tr>\n",
              "      <th>8</th>\n",
              "      <td>-71141.0</td>\n",
              "    </tr>\n",
              "    <tr>\n",
              "      <th>12</th>\n",
              "      <td>-58887.0</td>\n",
              "    </tr>\n",
              "    <tr>\n",
              "      <th>19</th>\n",
              "      <td>-56376.0</td>\n",
              "    </tr>\n",
              "  </tbody>\n",
              "</table>\n",
              "</div>"
            ],
            "text/plain": [
              "      bluecar_usage\n",
              "hour               \n",
              "0         -198445.0\n",
              "23         -71250.0\n",
              "8          -71141.0\n",
              "12         -58887.0\n",
              "19         -56376.0"
            ]
          },
          "metadata": {
            "tags": []
          },
          "execution_count": 72
        }
      ]
    },
    {
      "cell_type": "code",
      "metadata": {
        "id": "4OHhaZJlGd6p",
        "colab_type": "code",
        "colab": {}
      },
      "source": [
        "## 0000hrs is the most popular for picking up a bluecar\n",
        "## During the hour, 198,445 cars are picked from the stations in Paris"
      ],
      "execution_count": 0,
      "outputs": []
    },
    {
      "cell_type": "code",
      "metadata": {
        "id": "yyKzA5qJJWQ3",
        "colab_type": "code",
        "colab": {}
      },
      "source": [
        ""
      ],
      "execution_count": 0,
      "outputs": []
    },
    {
      "cell_type": "markdown",
      "metadata": {
        "id": "3PrDRfwAJXk_",
        "colab_type": "text"
      },
      "source": [
        "### Most popular hour for picking up a utilib"
      ]
    },
    {
      "cell_type": "code",
      "metadata": {
        "id": "Bi4hsfNGKBO6",
        "colab_type": "code",
        "colab": {
          "base_uri": "https://localhost:8080/",
          "height": 238
        },
        "outputId": "d9510f1f-f687-4693-a4a6-0efeedf82792"
      },
      "source": [
        "rccr = crrr.groupby(['public name', 'hour'])[['utilib counter']].sum()\n",
        "rccr.head()"
      ],
      "execution_count": 74,
      "outputs": [
        {
          "output_type": "execute_result",
          "data": {
            "text/html": [
              "<div>\n",
              "<style scoped>\n",
              "    .dataframe tbody tr th:only-of-type {\n",
              "        vertical-align: middle;\n",
              "    }\n",
              "\n",
              "    .dataframe tbody tr th {\n",
              "        vertical-align: top;\n",
              "    }\n",
              "\n",
              "    .dataframe thead th {\n",
              "        text-align: right;\n",
              "    }\n",
              "</style>\n",
              "<table border=\"1\" class=\"dataframe\">\n",
              "  <thead>\n",
              "    <tr style=\"text-align: right;\">\n",
              "      <th></th>\n",
              "      <th></th>\n",
              "      <th>utilib counter</th>\n",
              "    </tr>\n",
              "    <tr>\n",
              "      <th>public name</th>\n",
              "      <th>hour</th>\n",
              "      <th></th>\n",
              "    </tr>\n",
              "  </thead>\n",
              "  <tbody>\n",
              "    <tr>\n",
              "      <th rowspan=\"5\" valign=\"top\">Paris/25 AoÃ»t 1944/8</th>\n",
              "      <th>0</th>\n",
              "      <td>57</td>\n",
              "    </tr>\n",
              "    <tr>\n",
              "      <th>1</th>\n",
              "      <td>0</td>\n",
              "    </tr>\n",
              "    <tr>\n",
              "      <th>2</th>\n",
              "      <td>0</td>\n",
              "    </tr>\n",
              "    <tr>\n",
              "      <th>3</th>\n",
              "      <td>0</td>\n",
              "    </tr>\n",
              "    <tr>\n",
              "      <th>4</th>\n",
              "      <td>0</td>\n",
              "    </tr>\n",
              "  </tbody>\n",
              "</table>\n",
              "</div>"
            ],
            "text/plain": [
              "                            utilib counter\n",
              "public name           hour                \n",
              "Paris/25 AoÃ»t 1944/8 0                 57\n",
              "                      1                  0\n",
              "                      2                  0\n",
              "                      3                  0\n",
              "                      4                  0"
            ]
          },
          "metadata": {
            "tags": []
          },
          "execution_count": 74
        }
      ]
    },
    {
      "cell_type": "code",
      "metadata": {
        "id": "VQbhg-qhJdm6",
        "colab_type": "code",
        "colab": {
          "base_uri": "https://localhost:8080/",
          "height": 238
        },
        "outputId": "20f8d307-05ec-40ae-d772-b3bec2737b97"
      },
      "source": [
        "# Creating a new colummn to hold the usage of utilib over time\n",
        "\n",
        "rccr['utilib_usage'] = rccr['utilib counter'].diff()\n",
        "rccr.head()"
      ],
      "execution_count": 75,
      "outputs": [
        {
          "output_type": "execute_result",
          "data": {
            "text/html": [
              "<div>\n",
              "<style scoped>\n",
              "    .dataframe tbody tr th:only-of-type {\n",
              "        vertical-align: middle;\n",
              "    }\n",
              "\n",
              "    .dataframe tbody tr th {\n",
              "        vertical-align: top;\n",
              "    }\n",
              "\n",
              "    .dataframe thead th {\n",
              "        text-align: right;\n",
              "    }\n",
              "</style>\n",
              "<table border=\"1\" class=\"dataframe\">\n",
              "  <thead>\n",
              "    <tr style=\"text-align: right;\">\n",
              "      <th></th>\n",
              "      <th></th>\n",
              "      <th>utilib counter</th>\n",
              "      <th>utilib_usage</th>\n",
              "    </tr>\n",
              "    <tr>\n",
              "      <th>public name</th>\n",
              "      <th>hour</th>\n",
              "      <th></th>\n",
              "      <th></th>\n",
              "    </tr>\n",
              "  </thead>\n",
              "  <tbody>\n",
              "    <tr>\n",
              "      <th rowspan=\"5\" valign=\"top\">Paris/25 AoÃ»t 1944/8</th>\n",
              "      <th>0</th>\n",
              "      <td>57</td>\n",
              "      <td>NaN</td>\n",
              "    </tr>\n",
              "    <tr>\n",
              "      <th>1</th>\n",
              "      <td>0</td>\n",
              "      <td>-57.0</td>\n",
              "    </tr>\n",
              "    <tr>\n",
              "      <th>2</th>\n",
              "      <td>0</td>\n",
              "      <td>0.0</td>\n",
              "    </tr>\n",
              "    <tr>\n",
              "      <th>3</th>\n",
              "      <td>0</td>\n",
              "      <td>0.0</td>\n",
              "    </tr>\n",
              "    <tr>\n",
              "      <th>4</th>\n",
              "      <td>0</td>\n",
              "      <td>0.0</td>\n",
              "    </tr>\n",
              "  </tbody>\n",
              "</table>\n",
              "</div>"
            ],
            "text/plain": [
              "                            utilib counter  utilib_usage\n",
              "public name           hour                              \n",
              "Paris/25 AoÃ»t 1944/8 0                 57           NaN\n",
              "                      1                  0         -57.0\n",
              "                      2                  0           0.0\n",
              "                      3                  0           0.0\n",
              "                      4                  0           0.0"
            ]
          },
          "metadata": {
            "tags": []
          },
          "execution_count": 75
        }
      ]
    },
    {
      "cell_type": "code",
      "metadata": {
        "id": "tYidCv4JKZxm",
        "colab_type": "code",
        "colab": {
          "base_uri": "https://localhost:8080/",
          "height": 238
        },
        "outputId": "d4324676-fa50-4233-ad7b-ae59a411a84b"
      },
      "source": [
        "# usage column is negative when cars have been picked up\n",
        "\n",
        "rcr = rccr[rccr['utilib_usage'] < 0]\n",
        "rcr.head()"
      ],
      "execution_count": 77,
      "outputs": [
        {
          "output_type": "execute_result",
          "data": {
            "text/html": [
              "<div>\n",
              "<style scoped>\n",
              "    .dataframe tbody tr th:only-of-type {\n",
              "        vertical-align: middle;\n",
              "    }\n",
              "\n",
              "    .dataframe tbody tr th {\n",
              "        vertical-align: top;\n",
              "    }\n",
              "\n",
              "    .dataframe thead th {\n",
              "        text-align: right;\n",
              "    }\n",
              "</style>\n",
              "<table border=\"1\" class=\"dataframe\">\n",
              "  <thead>\n",
              "    <tr style=\"text-align: right;\">\n",
              "      <th></th>\n",
              "      <th></th>\n",
              "      <th>utilib counter</th>\n",
              "      <th>utilib_usage</th>\n",
              "    </tr>\n",
              "    <tr>\n",
              "      <th>public name</th>\n",
              "      <th>hour</th>\n",
              "      <th></th>\n",
              "      <th></th>\n",
              "    </tr>\n",
              "  </thead>\n",
              "  <tbody>\n",
              "    <tr>\n",
              "      <th rowspan=\"4\" valign=\"top\">Paris/25 AoÃ»t 1944/8</th>\n",
              "      <th>1</th>\n",
              "      <td>0</td>\n",
              "      <td>-57.0</td>\n",
              "    </tr>\n",
              "    <tr>\n",
              "      <th>12</th>\n",
              "      <td>0</td>\n",
              "      <td>-43.0</td>\n",
              "    </tr>\n",
              "    <tr>\n",
              "      <th>16</th>\n",
              "      <td>7</td>\n",
              "      <td>-39.0</td>\n",
              "    </tr>\n",
              "    <tr>\n",
              "      <th>19</th>\n",
              "      <td>0</td>\n",
              "      <td>-43.0</td>\n",
              "    </tr>\n",
              "    <tr>\n",
              "      <th>Paris/Adolphe Max/6</th>\n",
              "      <th>1</th>\n",
              "      <td>55</td>\n",
              "      <td>-5.0</td>\n",
              "    </tr>\n",
              "  </tbody>\n",
              "</table>\n",
              "</div>"
            ],
            "text/plain": [
              "                            utilib counter  utilib_usage\n",
              "public name           hour                              \n",
              "Paris/25 AoÃ»t 1944/8 1                  0         -57.0\n",
              "                      12                 0         -43.0\n",
              "                      16                 7         -39.0\n",
              "                      19                 0         -43.0\n",
              "Paris/Adolphe Max/6   1                 55          -5.0"
            ]
          },
          "metadata": {
            "tags": []
          },
          "execution_count": 77
        }
      ]
    },
    {
      "cell_type": "code",
      "metadata": {
        "id": "RbDJZ0fqKZYq",
        "colab_type": "code",
        "colab": {
          "base_uri": "https://localhost:8080/",
          "height": 238
        },
        "outputId": "cefd2219-1ceb-40d1-eaad-a9561d1d221a"
      },
      "source": [
        "rch = rcr.groupby('hour')[['utilib_usage']].sum()\n",
        "rch.head()"
      ],
      "execution_count": 79,
      "outputs": [
        {
          "output_type": "execute_result",
          "data": {
            "text/html": [
              "<div>\n",
              "<style scoped>\n",
              "    .dataframe tbody tr th:only-of-type {\n",
              "        vertical-align: middle;\n",
              "    }\n",
              "\n",
              "    .dataframe tbody tr th {\n",
              "        vertical-align: top;\n",
              "    }\n",
              "\n",
              "    .dataframe thead th {\n",
              "        text-align: right;\n",
              "    }\n",
              "</style>\n",
              "<table border=\"1\" class=\"dataframe\">\n",
              "  <thead>\n",
              "    <tr style=\"text-align: right;\">\n",
              "      <th></th>\n",
              "      <th>utilib_usage</th>\n",
              "    </tr>\n",
              "    <tr>\n",
              "      <th>hour</th>\n",
              "      <th></th>\n",
              "    </tr>\n",
              "  </thead>\n",
              "  <tbody>\n",
              "    <tr>\n",
              "      <th>0</th>\n",
              "      <td>-10904.0</td>\n",
              "    </tr>\n",
              "    <tr>\n",
              "      <th>1</th>\n",
              "      <td>-2306.0</td>\n",
              "    </tr>\n",
              "    <tr>\n",
              "      <th>2</th>\n",
              "      <td>-1748.0</td>\n",
              "    </tr>\n",
              "    <tr>\n",
              "      <th>3</th>\n",
              "      <td>-1126.0</td>\n",
              "    </tr>\n",
              "    <tr>\n",
              "      <th>4</th>\n",
              "      <td>-728.0</td>\n",
              "    </tr>\n",
              "  </tbody>\n",
              "</table>\n",
              "</div>"
            ],
            "text/plain": [
              "      utilib_usage\n",
              "hour              \n",
              "0         -10904.0\n",
              "1          -2306.0\n",
              "2          -1748.0\n",
              "3          -1126.0\n",
              "4           -728.0"
            ]
          },
          "metadata": {
            "tags": []
          },
          "execution_count": 79
        }
      ]
    },
    {
      "cell_type": "code",
      "metadata": {
        "id": "vXVk0tGWK_is",
        "colab_type": "code",
        "colab": {
          "base_uri": "https://localhost:8080/",
          "height": 238
        },
        "outputId": "81f95e63-4da4-4929-9bb8-8f1474ce462c"
      },
      "source": [
        "rch.sort_values('utilib_usage', ascending=True).head()"
      ],
      "execution_count": 80,
      "outputs": [
        {
          "output_type": "execute_result",
          "data": {
            "text/html": [
              "<div>\n",
              "<style scoped>\n",
              "    .dataframe tbody tr th:only-of-type {\n",
              "        vertical-align: middle;\n",
              "    }\n",
              "\n",
              "    .dataframe tbody tr th {\n",
              "        vertical-align: top;\n",
              "    }\n",
              "\n",
              "    .dataframe thead th {\n",
              "        text-align: right;\n",
              "    }\n",
              "</style>\n",
              "<table border=\"1\" class=\"dataframe\">\n",
              "  <thead>\n",
              "    <tr style=\"text-align: right;\">\n",
              "      <th></th>\n",
              "      <th>utilib_usage</th>\n",
              "    </tr>\n",
              "    <tr>\n",
              "      <th>hour</th>\n",
              "      <th></th>\n",
              "    </tr>\n",
              "  </thead>\n",
              "  <tbody>\n",
              "    <tr>\n",
              "      <th>0</th>\n",
              "      <td>-10904.0</td>\n",
              "    </tr>\n",
              "    <tr>\n",
              "      <th>18</th>\n",
              "      <td>-4634.0</td>\n",
              "    </tr>\n",
              "    <tr>\n",
              "      <th>12</th>\n",
              "      <td>-4454.0</td>\n",
              "    </tr>\n",
              "    <tr>\n",
              "      <th>15</th>\n",
              "      <td>-4277.0</td>\n",
              "    </tr>\n",
              "    <tr>\n",
              "      <th>19</th>\n",
              "      <td>-4171.0</td>\n",
              "    </tr>\n",
              "  </tbody>\n",
              "</table>\n",
              "</div>"
            ],
            "text/plain": [
              "      utilib_usage\n",
              "hour              \n",
              "0         -10904.0\n",
              "18         -4634.0\n",
              "12         -4454.0\n",
              "15         -4277.0\n",
              "19         -4171.0"
            ]
          },
          "metadata": {
            "tags": []
          },
          "execution_count": 80
        }
      ]
    },
    {
      "cell_type": "code",
      "metadata": {
        "id": "kOAy75QtLN5u",
        "colab_type": "code",
        "colab": {}
      },
      "source": [
        "## The most popular hour for picking up a utilib is 0000hrs\n",
        "## During the hour, 10,904 cars are picked up from the stations in Paris"
      ],
      "execution_count": 0,
      "outputs": []
    },
    {
      "cell_type": "code",
      "metadata": {
        "id": "mjL8JjBBLfF-",
        "colab_type": "code",
        "colab": {}
      },
      "source": [
        ""
      ],
      "execution_count": 0,
      "outputs": []
    },
    {
      "cell_type": "markdown",
      "metadata": {
        "id": "PlN2qUNvLg4k",
        "colab_type": "text"
      },
      "source": [
        "### Most popular hour for picking up a utilib 1.4"
      ]
    },
    {
      "cell_type": "code",
      "metadata": {
        "id": "u0lycW6ELms4",
        "colab_type": "code",
        "colab": {
          "base_uri": "https://localhost:8080/",
          "height": 238
        },
        "outputId": "70ebf3e5-2dcc-487b-d948-318b9e6df711"
      },
      "source": [
        "war = crrr.groupby(['public name', 'hour'])[['utilib 1.4 counter']].sum()\n",
        "war.head()"
      ],
      "execution_count": 82,
      "outputs": [
        {
          "output_type": "execute_result",
          "data": {
            "text/html": [
              "<div>\n",
              "<style scoped>\n",
              "    .dataframe tbody tr th:only-of-type {\n",
              "        vertical-align: middle;\n",
              "    }\n",
              "\n",
              "    .dataframe tbody tr th {\n",
              "        vertical-align: top;\n",
              "    }\n",
              "\n",
              "    .dataframe thead th {\n",
              "        text-align: right;\n",
              "    }\n",
              "</style>\n",
              "<table border=\"1\" class=\"dataframe\">\n",
              "  <thead>\n",
              "    <tr style=\"text-align: right;\">\n",
              "      <th></th>\n",
              "      <th></th>\n",
              "      <th>utilib 1.4 counter</th>\n",
              "    </tr>\n",
              "    <tr>\n",
              "      <th>public name</th>\n",
              "      <th>hour</th>\n",
              "      <th></th>\n",
              "    </tr>\n",
              "  </thead>\n",
              "  <tbody>\n",
              "    <tr>\n",
              "      <th rowspan=\"5\" valign=\"top\">Paris/25 AoÃ»t 1944/8</th>\n",
              "      <th>0</th>\n",
              "      <td>0</td>\n",
              "    </tr>\n",
              "    <tr>\n",
              "      <th>1</th>\n",
              "      <td>0</td>\n",
              "    </tr>\n",
              "    <tr>\n",
              "      <th>2</th>\n",
              "      <td>11</td>\n",
              "    </tr>\n",
              "    <tr>\n",
              "      <th>3</th>\n",
              "      <td>60</td>\n",
              "    </tr>\n",
              "    <tr>\n",
              "      <th>4</th>\n",
              "      <td>60</td>\n",
              "    </tr>\n",
              "  </tbody>\n",
              "</table>\n",
              "</div>"
            ],
            "text/plain": [
              "                            utilib 1.4 counter\n",
              "public name           hour                    \n",
              "Paris/25 AoÃ»t 1944/8 0                      0\n",
              "                      1                      0\n",
              "                      2                     11\n",
              "                      3                     60\n",
              "                      4                     60"
            ]
          },
          "metadata": {
            "tags": []
          },
          "execution_count": 82
        }
      ]
    },
    {
      "cell_type": "code",
      "metadata": {
        "id": "TFKOrKj3L8Gh",
        "colab_type": "code",
        "colab": {
          "base_uri": "https://localhost:8080/",
          "height": 238
        },
        "outputId": "3432f11f-eb7f-4697-c642-6b80b8e31ec8"
      },
      "source": [
        "# Creating a new colummn to hold the usage of utilib 1.4 over time\n",
        "\n",
        "war['utilib_14_usage'] = war['utilib 1.4 counter'].diff()\n",
        "war.head()"
      ],
      "execution_count": 84,
      "outputs": [
        {
          "output_type": "execute_result",
          "data": {
            "text/html": [
              "<div>\n",
              "<style scoped>\n",
              "    .dataframe tbody tr th:only-of-type {\n",
              "        vertical-align: middle;\n",
              "    }\n",
              "\n",
              "    .dataframe tbody tr th {\n",
              "        vertical-align: top;\n",
              "    }\n",
              "\n",
              "    .dataframe thead th {\n",
              "        text-align: right;\n",
              "    }\n",
              "</style>\n",
              "<table border=\"1\" class=\"dataframe\">\n",
              "  <thead>\n",
              "    <tr style=\"text-align: right;\">\n",
              "      <th></th>\n",
              "      <th></th>\n",
              "      <th>utilib 1.4 counter</th>\n",
              "      <th>utilib_14_usage</th>\n",
              "    </tr>\n",
              "    <tr>\n",
              "      <th>public name</th>\n",
              "      <th>hour</th>\n",
              "      <th></th>\n",
              "      <th></th>\n",
              "    </tr>\n",
              "  </thead>\n",
              "  <tbody>\n",
              "    <tr>\n",
              "      <th rowspan=\"5\" valign=\"top\">Paris/25 AoÃ»t 1944/8</th>\n",
              "      <th>0</th>\n",
              "      <td>0</td>\n",
              "      <td>NaN</td>\n",
              "    </tr>\n",
              "    <tr>\n",
              "      <th>1</th>\n",
              "      <td>0</td>\n",
              "      <td>0.0</td>\n",
              "    </tr>\n",
              "    <tr>\n",
              "      <th>2</th>\n",
              "      <td>11</td>\n",
              "      <td>11.0</td>\n",
              "    </tr>\n",
              "    <tr>\n",
              "      <th>3</th>\n",
              "      <td>60</td>\n",
              "      <td>49.0</td>\n",
              "    </tr>\n",
              "    <tr>\n",
              "      <th>4</th>\n",
              "      <td>60</td>\n",
              "      <td>0.0</td>\n",
              "    </tr>\n",
              "  </tbody>\n",
              "</table>\n",
              "</div>"
            ],
            "text/plain": [
              "                            utilib 1.4 counter  utilib_14_usage\n",
              "public name           hour                                     \n",
              "Paris/25 AoÃ»t 1944/8 0                      0              NaN\n",
              "                      1                      0              0.0\n",
              "                      2                     11             11.0\n",
              "                      3                     60             49.0\n",
              "                      4                     60              0.0"
            ]
          },
          "metadata": {
            "tags": []
          },
          "execution_count": 84
        }
      ]
    },
    {
      "cell_type": "code",
      "metadata": {
        "id": "UPOCdbT4MYHG",
        "colab_type": "code",
        "colab": {
          "base_uri": "https://localhost:8080/",
          "height": 238
        },
        "outputId": "086d2848-53db-46c4-ca6e-0a44fdedb2c7"
      },
      "source": [
        "# usage column is negative when cars have been picked up\n",
        "\n",
        "warr = war[war['utilib_14_usage'] < 0]\n",
        "warr.head()"
      ],
      "execution_count": 86,
      "outputs": [
        {
          "output_type": "execute_result",
          "data": {
            "text/html": [
              "<div>\n",
              "<style scoped>\n",
              "    .dataframe tbody tr th:only-of-type {\n",
              "        vertical-align: middle;\n",
              "    }\n",
              "\n",
              "    .dataframe tbody tr th {\n",
              "        vertical-align: top;\n",
              "    }\n",
              "\n",
              "    .dataframe thead th {\n",
              "        text-align: right;\n",
              "    }\n",
              "</style>\n",
              "<table border=\"1\" class=\"dataframe\">\n",
              "  <thead>\n",
              "    <tr style=\"text-align: right;\">\n",
              "      <th></th>\n",
              "      <th></th>\n",
              "      <th>utilib 1.4 counter</th>\n",
              "      <th>utilib_14_usage</th>\n",
              "    </tr>\n",
              "    <tr>\n",
              "      <th>public name</th>\n",
              "      <th>hour</th>\n",
              "      <th></th>\n",
              "      <th></th>\n",
              "    </tr>\n",
              "  </thead>\n",
              "  <tbody>\n",
              "    <tr>\n",
              "      <th rowspan=\"5\" valign=\"top\">Paris/25 AoÃ»t 1944/8</th>\n",
              "      <th>8</th>\n",
              "      <td>57</td>\n",
              "      <td>-3.0</td>\n",
              "    </tr>\n",
              "    <tr>\n",
              "      <th>11</th>\n",
              "      <td>135</td>\n",
              "      <td>-45.0</td>\n",
              "    </tr>\n",
              "    <tr>\n",
              "      <th>12</th>\n",
              "      <td>120</td>\n",
              "      <td>-15.0</td>\n",
              "    </tr>\n",
              "    <tr>\n",
              "      <th>14</th>\n",
              "      <td>100</td>\n",
              "      <td>-20.0</td>\n",
              "    </tr>\n",
              "    <tr>\n",
              "      <th>15</th>\n",
              "      <td>60</td>\n",
              "      <td>-40.0</td>\n",
              "    </tr>\n",
              "  </tbody>\n",
              "</table>\n",
              "</div>"
            ],
            "text/plain": [
              "                            utilib 1.4 counter  utilib_14_usage\n",
              "public name           hour                                     \n",
              "Paris/25 AoÃ»t 1944/8 8                     57             -3.0\n",
              "                      11                   135            -45.0\n",
              "                      12                   120            -15.0\n",
              "                      14                   100            -20.0\n",
              "                      15                    60            -40.0"
            ]
          },
          "metadata": {
            "tags": []
          },
          "execution_count": 86
        }
      ]
    },
    {
      "cell_type": "code",
      "metadata": {
        "id": "guA9eYmfMXyQ",
        "colab_type": "code",
        "colab": {
          "base_uri": "https://localhost:8080/",
          "height": 238
        },
        "outputId": "9222b307-d78f-403e-8341-267ed939b7e8"
      },
      "source": [
        "warrr = warr.groupby('hour')[['utilib_14_usage']].sum()\n",
        "warrr.head()"
      ],
      "execution_count": 87,
      "outputs": [
        {
          "output_type": "execute_result",
          "data": {
            "text/html": [
              "<div>\n",
              "<style scoped>\n",
              "    .dataframe tbody tr th:only-of-type {\n",
              "        vertical-align: middle;\n",
              "    }\n",
              "\n",
              "    .dataframe tbody tr th {\n",
              "        vertical-align: top;\n",
              "    }\n",
              "\n",
              "    .dataframe thead th {\n",
              "        text-align: right;\n",
              "    }\n",
              "</style>\n",
              "<table border=\"1\" class=\"dataframe\">\n",
              "  <thead>\n",
              "    <tr style=\"text-align: right;\">\n",
              "      <th></th>\n",
              "      <th>utilib_14_usage</th>\n",
              "    </tr>\n",
              "    <tr>\n",
              "      <th>hour</th>\n",
              "      <th></th>\n",
              "    </tr>\n",
              "  </thead>\n",
              "  <tbody>\n",
              "    <tr>\n",
              "      <th>0</th>\n",
              "      <td>-20594.0</td>\n",
              "    </tr>\n",
              "    <tr>\n",
              "      <th>1</th>\n",
              "      <td>-4546.0</td>\n",
              "    </tr>\n",
              "    <tr>\n",
              "      <th>2</th>\n",
              "      <td>-2701.0</td>\n",
              "    </tr>\n",
              "    <tr>\n",
              "      <th>3</th>\n",
              "      <td>-2390.0</td>\n",
              "    </tr>\n",
              "    <tr>\n",
              "      <th>4</th>\n",
              "      <td>-2436.0</td>\n",
              "    </tr>\n",
              "  </tbody>\n",
              "</table>\n",
              "</div>"
            ],
            "text/plain": [
              "      utilib_14_usage\n",
              "hour                 \n",
              "0            -20594.0\n",
              "1             -4546.0\n",
              "2             -2701.0\n",
              "3             -2390.0\n",
              "4             -2436.0"
            ]
          },
          "metadata": {
            "tags": []
          },
          "execution_count": 87
        }
      ]
    },
    {
      "cell_type": "code",
      "metadata": {
        "id": "ePrGpOZJM64W",
        "colab_type": "code",
        "colab": {
          "base_uri": "https://localhost:8080/",
          "height": 238
        },
        "outputId": "30c226b9-7d9b-4661-c943-92eb4f0d803b"
      },
      "source": [
        "warrr.sort_values('utilib_14_usage', ascending=True).head()"
      ],
      "execution_count": 89,
      "outputs": [
        {
          "output_type": "execute_result",
          "data": {
            "text/html": [
              "<div>\n",
              "<style scoped>\n",
              "    .dataframe tbody tr th:only-of-type {\n",
              "        vertical-align: middle;\n",
              "    }\n",
              "\n",
              "    .dataframe tbody tr th {\n",
              "        vertical-align: top;\n",
              "    }\n",
              "\n",
              "    .dataframe thead th {\n",
              "        text-align: right;\n",
              "    }\n",
              "</style>\n",
              "<table border=\"1\" class=\"dataframe\">\n",
              "  <thead>\n",
              "    <tr style=\"text-align: right;\">\n",
              "      <th></th>\n",
              "      <th>utilib_14_usage</th>\n",
              "    </tr>\n",
              "    <tr>\n",
              "      <th>hour</th>\n",
              "      <th></th>\n",
              "    </tr>\n",
              "  </thead>\n",
              "  <tbody>\n",
              "    <tr>\n",
              "      <th>0</th>\n",
              "      <td>-20594.0</td>\n",
              "    </tr>\n",
              "    <tr>\n",
              "      <th>12</th>\n",
              "      <td>-9104.0</td>\n",
              "    </tr>\n",
              "    <tr>\n",
              "      <th>19</th>\n",
              "      <td>-8542.0</td>\n",
              "    </tr>\n",
              "    <tr>\n",
              "      <th>23</th>\n",
              "      <td>-8347.0</td>\n",
              "    </tr>\n",
              "    <tr>\n",
              "      <th>15</th>\n",
              "      <td>-8135.0</td>\n",
              "    </tr>\n",
              "  </tbody>\n",
              "</table>\n",
              "</div>"
            ],
            "text/plain": [
              "      utilib_14_usage\n",
              "hour                 \n",
              "0            -20594.0\n",
              "12            -9104.0\n",
              "19            -8542.0\n",
              "23            -8347.0\n",
              "15            -8135.0"
            ]
          },
          "metadata": {
            "tags": []
          },
          "execution_count": 89
        }
      ]
    },
    {
      "cell_type": "code",
      "metadata": {
        "id": "5VpuAEiJNLGY",
        "colab_type": "code",
        "colab": {}
      },
      "source": [
        "## 0000hrs is the most popular hour for picking up a utilib 1.4 car\n",
        "## During this hour, 20594 cars are picked up from the station\n",
        "\n",
        "## The most popular picking up hour for shared electric cars is the same for all cars, i.e. 0000hrs"
      ],
      "execution_count": 0,
      "outputs": []
    },
    {
      "cell_type": "markdown",
      "metadata": {
        "id": "FKnPCi_qqRz9",
        "colab_type": "text"
      },
      "source": [
        "## Most popular hour for returning cars"
      ]
    },
    {
      "cell_type": "markdown",
      "metadata": {
        "id": "apEvXopMiBDf",
        "colab_type": "text"
      },
      "source": [
        "### Most popular hour for returning a bluecar"
      ]
    },
    {
      "cell_type": "code",
      "metadata": {
        "id": "ZwF22QfnOhjj",
        "colab_type": "code",
        "colab": {
          "base_uri": "https://localhost:8080/",
          "height": 238
        },
        "outputId": "8336cb9e-6ad1-4221-f412-b1e526353c66"
      },
      "source": [
        "# usage column is positive when cars have been returned \n",
        "\n",
        "ret = rac[rac['bluecar_usage'] > 0]\n",
        "ret.head()"
      ],
      "execution_count": 90,
      "outputs": [
        {
          "output_type": "execute_result",
          "data": {
            "text/html": [
              "<div>\n",
              "<style scoped>\n",
              "    .dataframe tbody tr th:only-of-type {\n",
              "        vertical-align: middle;\n",
              "    }\n",
              "\n",
              "    .dataframe tbody tr th {\n",
              "        vertical-align: top;\n",
              "    }\n",
              "\n",
              "    .dataframe thead th {\n",
              "        text-align: right;\n",
              "    }\n",
              "</style>\n",
              "<table border=\"1\" class=\"dataframe\">\n",
              "  <thead>\n",
              "    <tr style=\"text-align: right;\">\n",
              "      <th></th>\n",
              "      <th></th>\n",
              "      <th>bluecar counter</th>\n",
              "      <th>bluecar_usage</th>\n",
              "    </tr>\n",
              "    <tr>\n",
              "      <th>public name</th>\n",
              "      <th>hour</th>\n",
              "      <th></th>\n",
              "      <th></th>\n",
              "    </tr>\n",
              "  </thead>\n",
              "  <tbody>\n",
              "    <tr>\n",
              "      <th rowspan=\"5\" valign=\"top\">Paris/25 AoÃ»t 1944/8</th>\n",
              "      <th>2</th>\n",
              "      <td>665</td>\n",
              "      <td>17.0</td>\n",
              "    </tr>\n",
              "    <tr>\n",
              "      <th>3</th>\n",
              "      <td>808</td>\n",
              "      <td>143.0</td>\n",
              "    </tr>\n",
              "    <tr>\n",
              "      <th>6</th>\n",
              "      <td>1010</td>\n",
              "      <td>259.0</td>\n",
              "    </tr>\n",
              "    <tr>\n",
              "      <th>7</th>\n",
              "      <td>1248</td>\n",
              "      <td>238.0</td>\n",
              "    </tr>\n",
              "    <tr>\n",
              "      <th>8</th>\n",
              "      <td>1274</td>\n",
              "      <td>26.0</td>\n",
              "    </tr>\n",
              "  </tbody>\n",
              "</table>\n",
              "</div>"
            ],
            "text/plain": [
              "                            bluecar counter  bluecar_usage\n",
              "public name           hour                                \n",
              "Paris/25 AoÃ»t 1944/8 2                 665           17.0\n",
              "                      3                 808          143.0\n",
              "                      6                1010          259.0\n",
              "                      7                1248          238.0\n",
              "                      8                1274           26.0"
            ]
          },
          "metadata": {
            "tags": []
          },
          "execution_count": 90
        }
      ]
    },
    {
      "cell_type": "code",
      "metadata": {
        "id": "9SJ_YjKtOwCt",
        "colab_type": "code",
        "colab": {
          "base_uri": "https://localhost:8080/",
          "height": 238
        },
        "outputId": "d02ff918-3989-4087-8cd0-9bed7d745f58"
      },
      "source": [
        "rett = ret.groupby('hour')[['bluecar_usage']].sum()\n",
        "rett.head()"
      ],
      "execution_count": 91,
      "outputs": [
        {
          "output_type": "execute_result",
          "data": {
            "text/html": [
              "<div>\n",
              "<style scoped>\n",
              "    .dataframe tbody tr th:only-of-type {\n",
              "        vertical-align: middle;\n",
              "    }\n",
              "\n",
              "    .dataframe tbody tr th {\n",
              "        vertical-align: top;\n",
              "    }\n",
              "\n",
              "    .dataframe thead th {\n",
              "        text-align: right;\n",
              "    }\n",
              "</style>\n",
              "<table border=\"1\" class=\"dataframe\">\n",
              "  <thead>\n",
              "    <tr style=\"text-align: right;\">\n",
              "      <th></th>\n",
              "      <th>bluecar_usage</th>\n",
              "    </tr>\n",
              "    <tr>\n",
              "      <th>hour</th>\n",
              "      <th></th>\n",
              "    </tr>\n",
              "  </thead>\n",
              "  <tbody>\n",
              "    <tr>\n",
              "      <th>0</th>\n",
              "      <td>203016.0</td>\n",
              "    </tr>\n",
              "    <tr>\n",
              "      <th>1</th>\n",
              "      <td>33137.0</td>\n",
              "    </tr>\n",
              "    <tr>\n",
              "      <th>2</th>\n",
              "      <td>78251.0</td>\n",
              "    </tr>\n",
              "    <tr>\n",
              "      <th>3</th>\n",
              "      <td>24610.0</td>\n",
              "    </tr>\n",
              "    <tr>\n",
              "      <th>4</th>\n",
              "      <td>13494.0</td>\n",
              "    </tr>\n",
              "  </tbody>\n",
              "</table>\n",
              "</div>"
            ],
            "text/plain": [
              "      bluecar_usage\n",
              "hour               \n",
              "0          203016.0\n",
              "1           33137.0\n",
              "2           78251.0\n",
              "3           24610.0\n",
              "4           13494.0"
            ]
          },
          "metadata": {
            "tags": []
          },
          "execution_count": 91
        }
      ]
    },
    {
      "cell_type": "code",
      "metadata": {
        "id": "itP9E80VPKMs",
        "colab_type": "code",
        "colab": {
          "base_uri": "https://localhost:8080/",
          "height": 238
        },
        "outputId": "0a6cdc6d-36bf-479e-f2be-fd2acbd667f4"
      },
      "source": [
        "rett.sort_values('bluecar_usage', ascending=False).head()"
      ],
      "execution_count": 92,
      "outputs": [
        {
          "output_type": "execute_result",
          "data": {
            "text/html": [
              "<div>\n",
              "<style scoped>\n",
              "    .dataframe tbody tr th:only-of-type {\n",
              "        vertical-align: middle;\n",
              "    }\n",
              "\n",
              "    .dataframe tbody tr th {\n",
              "        vertical-align: top;\n",
              "    }\n",
              "\n",
              "    .dataframe thead th {\n",
              "        text-align: right;\n",
              "    }\n",
              "</style>\n",
              "<table border=\"1\" class=\"dataframe\">\n",
              "  <thead>\n",
              "    <tr style=\"text-align: right;\">\n",
              "      <th></th>\n",
              "      <th>bluecar_usage</th>\n",
              "    </tr>\n",
              "    <tr>\n",
              "      <th>hour</th>\n",
              "      <th></th>\n",
              "    </tr>\n",
              "  </thead>\n",
              "  <tbody>\n",
              "    <tr>\n",
              "      <th>0</th>\n",
              "      <td>203016.0</td>\n",
              "    </tr>\n",
              "    <tr>\n",
              "      <th>21</th>\n",
              "      <td>84121.0</td>\n",
              "    </tr>\n",
              "    <tr>\n",
              "      <th>2</th>\n",
              "      <td>78251.0</td>\n",
              "    </tr>\n",
              "    <tr>\n",
              "      <th>20</th>\n",
              "      <td>68087.0</td>\n",
              "    </tr>\n",
              "    <tr>\n",
              "      <th>10</th>\n",
              "      <td>57410.0</td>\n",
              "    </tr>\n",
              "  </tbody>\n",
              "</table>\n",
              "</div>"
            ],
            "text/plain": [
              "      bluecar_usage\n",
              "hour               \n",
              "0          203016.0\n",
              "21          84121.0\n",
              "2           78251.0\n",
              "20          68087.0\n",
              "10          57410.0"
            ]
          },
          "metadata": {
            "tags": []
          },
          "execution_count": 92
        }
      ]
    },
    {
      "cell_type": "code",
      "metadata": {
        "id": "OENn-_ACbUfy",
        "colab_type": "code",
        "colab": {}
      },
      "source": [
        "##most popular hour for returning a bluecar is 0000hrs\n",
        "## 203016 cars are returned during that hour.\n",
        "## 2100hrs "
      ],
      "execution_count": 0,
      "outputs": []
    },
    {
      "cell_type": "markdown",
      "metadata": {
        "id": "UdpZeqOjctW3",
        "colab_type": "text"
      },
      "source": [
        "### Popular hour for returning a utilib"
      ]
    },
    {
      "cell_type": "code",
      "metadata": {
        "id": "4c8YonKNc3n7",
        "colab_type": "code",
        "colab": {
          "base_uri": "https://localhost:8080/",
          "height": 238
        },
        "outputId": "a1633c66-4878-4559-94c6-db630ec8ff2a"
      },
      "source": [
        "retan = rccr[rccr['utilib_usage'] > 0]\n",
        "retan.head()"
      ],
      "execution_count": 96,
      "outputs": [
        {
          "output_type": "execute_result",
          "data": {
            "text/html": [
              "<div>\n",
              "<style scoped>\n",
              "    .dataframe tbody tr th:only-of-type {\n",
              "        vertical-align: middle;\n",
              "    }\n",
              "\n",
              "    .dataframe tbody tr th {\n",
              "        vertical-align: top;\n",
              "    }\n",
              "\n",
              "    .dataframe thead th {\n",
              "        text-align: right;\n",
              "    }\n",
              "</style>\n",
              "<table border=\"1\" class=\"dataframe\">\n",
              "  <thead>\n",
              "    <tr style=\"text-align: right;\">\n",
              "      <th></th>\n",
              "      <th></th>\n",
              "      <th>utilib counter</th>\n",
              "      <th>utilib_usage</th>\n",
              "    </tr>\n",
              "    <tr>\n",
              "      <th>public name</th>\n",
              "      <th>hour</th>\n",
              "      <th></th>\n",
              "      <th></th>\n",
              "    </tr>\n",
              "  </thead>\n",
              "  <tbody>\n",
              "    <tr>\n",
              "      <th rowspan=\"5\" valign=\"top\">Paris/25 AoÃ»t 1944/8</th>\n",
              "      <th>10</th>\n",
              "      <td>20</td>\n",
              "      <td>20.0</td>\n",
              "    </tr>\n",
              "    <tr>\n",
              "      <th>11</th>\n",
              "      <td>43</td>\n",
              "      <td>23.0</td>\n",
              "    </tr>\n",
              "    <tr>\n",
              "      <th>15</th>\n",
              "      <td>46</td>\n",
              "      <td>46.0</td>\n",
              "    </tr>\n",
              "    <tr>\n",
              "      <th>17</th>\n",
              "      <td>25</td>\n",
              "      <td>18.0</td>\n",
              "    </tr>\n",
              "    <tr>\n",
              "      <th>18</th>\n",
              "      <td>43</td>\n",
              "      <td>18.0</td>\n",
              "    </tr>\n",
              "  </tbody>\n",
              "</table>\n",
              "</div>"
            ],
            "text/plain": [
              "                            utilib counter  utilib_usage\n",
              "public name           hour                              \n",
              "Paris/25 AoÃ»t 1944/8 10                20          20.0\n",
              "                      11                43          23.0\n",
              "                      15                46          46.0\n",
              "                      17                25          18.0\n",
              "                      18                43          18.0"
            ]
          },
          "metadata": {
            "tags": []
          },
          "execution_count": 96
        }
      ]
    },
    {
      "cell_type": "code",
      "metadata": {
        "id": "DpcRFCZzdQ2u",
        "colab_type": "code",
        "colab": {
          "base_uri": "https://localhost:8080/",
          "height": 238
        },
        "outputId": "511bf009-b120-45da-eb6c-5bd302fb8086"
      },
      "source": [
        "reta = retan.groupby('hour')[['utilib_usage']].sum()\n",
        "reta.sort_values('utilib_usage', ascending=False)\n",
        "reta.head()"
      ],
      "execution_count": 99,
      "outputs": [
        {
          "output_type": "execute_result",
          "data": {
            "text/html": [
              "<div>\n",
              "<style scoped>\n",
              "    .dataframe tbody tr th:only-of-type {\n",
              "        vertical-align: middle;\n",
              "    }\n",
              "\n",
              "    .dataframe tbody tr th {\n",
              "        vertical-align: top;\n",
              "    }\n",
              "\n",
              "    .dataframe thead th {\n",
              "        text-align: right;\n",
              "    }\n",
              "</style>\n",
              "<table border=\"1\" class=\"dataframe\">\n",
              "  <thead>\n",
              "    <tr style=\"text-align: right;\">\n",
              "      <th></th>\n",
              "      <th>utilib_usage</th>\n",
              "    </tr>\n",
              "    <tr>\n",
              "      <th>hour</th>\n",
              "      <th></th>\n",
              "    </tr>\n",
              "  </thead>\n",
              "  <tbody>\n",
              "    <tr>\n",
              "      <th>0</th>\n",
              "      <td>12375.0</td>\n",
              "    </tr>\n",
              "    <tr>\n",
              "      <th>1</th>\n",
              "      <td>2654.0</td>\n",
              "    </tr>\n",
              "    <tr>\n",
              "      <th>2</th>\n",
              "      <td>3122.0</td>\n",
              "    </tr>\n",
              "    <tr>\n",
              "      <th>3</th>\n",
              "      <td>1277.0</td>\n",
              "    </tr>\n",
              "    <tr>\n",
              "      <th>4</th>\n",
              "      <td>1081.0</td>\n",
              "    </tr>\n",
              "  </tbody>\n",
              "</table>\n",
              "</div>"
            ],
            "text/plain": [
              "      utilib_usage\n",
              "hour              \n",
              "0          12375.0\n",
              "1           2654.0\n",
              "2           3122.0\n",
              "3           1277.0\n",
              "4           1081.0"
            ]
          },
          "metadata": {
            "tags": []
          },
          "execution_count": 99
        }
      ]
    },
    {
      "cell_type": "markdown",
      "metadata": {
        "id": "vzGZWaGsq-Wj",
        "colab_type": "text"
      },
      "source": [
        "## Most popular station overall"
      ]
    },
    {
      "cell_type": "code",
      "metadata": {
        "id": "29DPZrXPrFcF",
        "colab_type": "code",
        "outputId": "b0da3499-13b1-4763-bfc3-6b540931476f",
        "colab": {
          "base_uri": "https://localhost:8080/",
          "height": 330
        }
      },
      "source": [
        "lcar.tail()"
      ],
      "execution_count": 22,
      "outputs": [
        {
          "output_type": "execute_result",
          "data": {
            "text/html": [
              "<div>\n",
              "<style scoped>\n",
              "    .dataframe tbody tr th:only-of-type {\n",
              "        vertical-align: middle;\n",
              "    }\n",
              "\n",
              "    .dataframe tbody tr th {\n",
              "        vertical-align: top;\n",
              "    }\n",
              "\n",
              "    .dataframe thead th {\n",
              "        text-align: right;\n",
              "    }\n",
              "</style>\n",
              "<table border=\"1\" class=\"dataframe\">\n",
              "  <thead>\n",
              "    <tr style=\"text-align: right;\">\n",
              "      <th></th>\n",
              "      <th>bluecar counter</th>\n",
              "      <th>utilib counter</th>\n",
              "      <th>utilib 1.4 counter</th>\n",
              "      <th>city</th>\n",
              "      <th>kind</th>\n",
              "      <th>postal code</th>\n",
              "      <th>public name</th>\n",
              "      <th>rental status</th>\n",
              "      <th>slots</th>\n",
              "      <th>station type</th>\n",
              "      <th>status</th>\n",
              "      <th>day</th>\n",
              "      <th>hour</th>\n",
              "      <th>minute</th>\n",
              "      <th>bluecar_usage</th>\n",
              "      <th>utilib_usage</th>\n",
              "      <th>utilib_14_usage</th>\n",
              "    </tr>\n",
              "  </thead>\n",
              "  <tbody>\n",
              "    <tr>\n",
              "      <th>1114</th>\n",
              "      <td>0</td>\n",
              "      <td>0</td>\n",
              "      <td>0</td>\n",
              "      <td>Paris</td>\n",
              "      <td>PARKING</td>\n",
              "      <td>75006</td>\n",
              "      <td>Paris/Ecole de Medecine/21</td>\n",
              "      <td>future</td>\n",
              "      <td>0</td>\n",
              "      <td>station</td>\n",
              "      <td>scheduled</td>\n",
              "      <td>9</td>\n",
              "      <td>23</td>\n",
              "      <td>59</td>\n",
              "      <td>0.0</td>\n",
              "      <td>0.0</td>\n",
              "      <td>0.0</td>\n",
              "    </tr>\n",
              "    <tr>\n",
              "      <th>1115</th>\n",
              "      <td>4</td>\n",
              "      <td>0</td>\n",
              "      <td>0</td>\n",
              "      <td>Paris</td>\n",
              "      <td>PARKING</td>\n",
              "      <td>75017</td>\n",
              "      <td>Paris/Porte de Champerret/6</td>\n",
              "      <td>operational</td>\n",
              "      <td>2</td>\n",
              "      <td>station</td>\n",
              "      <td>ok</td>\n",
              "      <td>9</td>\n",
              "      <td>23</td>\n",
              "      <td>59</td>\n",
              "      <td>4.0</td>\n",
              "      <td>0.0</td>\n",
              "      <td>0.0</td>\n",
              "    </tr>\n",
              "    <tr>\n",
              "      <th>1116</th>\n",
              "      <td>6</td>\n",
              "      <td>0</td>\n",
              "      <td>0</td>\n",
              "      <td>Vincennes</td>\n",
              "      <td>STATION</td>\n",
              "      <td>94300</td>\n",
              "      <td>Vincennes/Fontenay/194</td>\n",
              "      <td>operational</td>\n",
              "      <td>0</td>\n",
              "      <td>station</td>\n",
              "      <td>ok</td>\n",
              "      <td>9</td>\n",
              "      <td>23</td>\n",
              "      <td>59</td>\n",
              "      <td>2.0</td>\n",
              "      <td>0.0</td>\n",
              "      <td>0.0</td>\n",
              "    </tr>\n",
              "    <tr>\n",
              "      <th>1117</th>\n",
              "      <td>2</td>\n",
              "      <td>0</td>\n",
              "      <td>0</td>\n",
              "      <td>Garches</td>\n",
              "      <td>STATION</td>\n",
              "      <td>92380</td>\n",
              "      <td>Garches/Raymond PoincarÃ©/102</td>\n",
              "      <td>operational</td>\n",
              "      <td>4</td>\n",
              "      <td>station</td>\n",
              "      <td>ok</td>\n",
              "      <td>9</td>\n",
              "      <td>23</td>\n",
              "      <td>59</td>\n",
              "      <td>-4.0</td>\n",
              "      <td>0.0</td>\n",
              "      <td>0.0</td>\n",
              "    </tr>\n",
              "    <tr>\n",
              "      <th>1118</th>\n",
              "      <td>0</td>\n",
              "      <td>0</td>\n",
              "      <td>0</td>\n",
              "      <td>Saint-Denis</td>\n",
              "      <td>STATION</td>\n",
              "      <td>93200</td>\n",
              "      <td>Saint-Denis/George Sand/8</td>\n",
              "      <td>operational</td>\n",
              "      <td>5</td>\n",
              "      <td>station</td>\n",
              "      <td>ok</td>\n",
              "      <td>9</td>\n",
              "      <td>23</td>\n",
              "      <td>59</td>\n",
              "      <td>-2.0</td>\n",
              "      <td>0.0</td>\n",
              "      <td>0.0</td>\n",
              "    </tr>\n",
              "  </tbody>\n",
              "</table>\n",
              "</div>"
            ],
            "text/plain": [
              "      bluecar counter  utilib counter  ...  utilib_usage utilib_14_usage\n",
              "1114                0               0  ...           0.0             0.0\n",
              "1115                4               0  ...           0.0             0.0\n",
              "1116                6               0  ...           0.0             0.0\n",
              "1117                2               0  ...           0.0             0.0\n",
              "1118                0               0  ...           0.0             0.0\n",
              "\n",
              "[5 rows x 17 columns]"
            ]
          },
          "metadata": {
            "tags": []
          },
          "execution_count": 22
        }
      ]
    },
    {
      "cell_type": "code",
      "metadata": {
        "id": "0J3cmyHXzUsk",
        "colab_type": "code",
        "outputId": "2e2869d2-9f6b-4979-8daa-0ed51651f851",
        "colab": {
          "base_uri": "https://localhost:8080/",
          "height": 313
        }
      },
      "source": [
        "llcar = lcar[(lcar['status'] == 'ok') & (lcar['kind'] == 'STATION')]\n",
        "\n",
        "llcar.head()\n",
        "\n"
      ],
      "execution_count": 23,
      "outputs": [
        {
          "output_type": "execute_result",
          "data": {
            "text/html": [
              "<div>\n",
              "<style scoped>\n",
              "    .dataframe tbody tr th:only-of-type {\n",
              "        vertical-align: middle;\n",
              "    }\n",
              "\n",
              "    .dataframe tbody tr th {\n",
              "        vertical-align: top;\n",
              "    }\n",
              "\n",
              "    .dataframe thead th {\n",
              "        text-align: right;\n",
              "    }\n",
              "</style>\n",
              "<table border=\"1\" class=\"dataframe\">\n",
              "  <thead>\n",
              "    <tr style=\"text-align: right;\">\n",
              "      <th></th>\n",
              "      <th>bluecar counter</th>\n",
              "      <th>utilib counter</th>\n",
              "      <th>utilib 1.4 counter</th>\n",
              "      <th>city</th>\n",
              "      <th>kind</th>\n",
              "      <th>postal code</th>\n",
              "      <th>public name</th>\n",
              "      <th>rental status</th>\n",
              "      <th>slots</th>\n",
              "      <th>station type</th>\n",
              "      <th>status</th>\n",
              "      <th>day</th>\n",
              "      <th>hour</th>\n",
              "      <th>minute</th>\n",
              "      <th>bluecar_usage</th>\n",
              "      <th>utilib_usage</th>\n",
              "      <th>utilib_14_usage</th>\n",
              "    </tr>\n",
              "  </thead>\n",
              "  <tbody>\n",
              "    <tr>\n",
              "      <th>0</th>\n",
              "      <td>3</td>\n",
              "      <td>1</td>\n",
              "      <td>0</td>\n",
              "      <td>Paris</td>\n",
              "      <td>STATION</td>\n",
              "      <td>75013</td>\n",
              "      <td>Paris/Vulpian/24</td>\n",
              "      <td>operational</td>\n",
              "      <td>1</td>\n",
              "      <td>station</td>\n",
              "      <td>ok</td>\n",
              "      <td>1</td>\n",
              "      <td>0</td>\n",
              "      <td>0</td>\n",
              "      <td>NaN</td>\n",
              "      <td>NaN</td>\n",
              "      <td>NaN</td>\n",
              "    </tr>\n",
              "    <tr>\n",
              "      <th>1</th>\n",
              "      <td>0</td>\n",
              "      <td>0</td>\n",
              "      <td>0</td>\n",
              "      <td>Paris</td>\n",
              "      <td>STATION</td>\n",
              "      <td>75011</td>\n",
              "      <td>Paris/Richard Lenoir/8</td>\n",
              "      <td>operational</td>\n",
              "      <td>3</td>\n",
              "      <td>station</td>\n",
              "      <td>ok</td>\n",
              "      <td>1</td>\n",
              "      <td>0</td>\n",
              "      <td>0</td>\n",
              "      <td>-3.0</td>\n",
              "      <td>-1.0</td>\n",
              "      <td>0.0</td>\n",
              "    </tr>\n",
              "    <tr>\n",
              "      <th>2</th>\n",
              "      <td>3</td>\n",
              "      <td>0</td>\n",
              "      <td>0</td>\n",
              "      <td>Paris</td>\n",
              "      <td>STATION</td>\n",
              "      <td>75012</td>\n",
              "      <td>Paris/Charles Bossut/4</td>\n",
              "      <td>operational</td>\n",
              "      <td>2</td>\n",
              "      <td>station</td>\n",
              "      <td>ok</td>\n",
              "      <td>1</td>\n",
              "      <td>0</td>\n",
              "      <td>0</td>\n",
              "      <td>3.0</td>\n",
              "      <td>0.0</td>\n",
              "      <td>0.0</td>\n",
              "    </tr>\n",
              "    <tr>\n",
              "      <th>3</th>\n",
              "      <td>4</td>\n",
              "      <td>0</td>\n",
              "      <td>0</td>\n",
              "      <td>Paris</td>\n",
              "      <td>STATION</td>\n",
              "      <td>75010</td>\n",
              "      <td>Paris/Claude Vellefaux/3</td>\n",
              "      <td>operational</td>\n",
              "      <td>1</td>\n",
              "      <td>station</td>\n",
              "      <td>ok</td>\n",
              "      <td>1</td>\n",
              "      <td>0</td>\n",
              "      <td>0</td>\n",
              "      <td>1.0</td>\n",
              "      <td>0.0</td>\n",
              "      <td>0.0</td>\n",
              "    </tr>\n",
              "    <tr>\n",
              "      <th>4</th>\n",
              "      <td>1</td>\n",
              "      <td>0</td>\n",
              "      <td>0</td>\n",
              "      <td>Paris</td>\n",
              "      <td>STATION</td>\n",
              "      <td>75011</td>\n",
              "      <td>Paris/Voltaire/236</td>\n",
              "      <td>operational</td>\n",
              "      <td>4</td>\n",
              "      <td>station</td>\n",
              "      <td>ok</td>\n",
              "      <td>1</td>\n",
              "      <td>0</td>\n",
              "      <td>0</td>\n",
              "      <td>-3.0</td>\n",
              "      <td>0.0</td>\n",
              "      <td>0.0</td>\n",
              "    </tr>\n",
              "  </tbody>\n",
              "</table>\n",
              "</div>"
            ],
            "text/plain": [
              "   bluecar counter  utilib counter  ...  utilib_usage utilib_14_usage\n",
              "0                3               1  ...           NaN             NaN\n",
              "1                0               0  ...          -1.0             0.0\n",
              "2                3               0  ...           0.0             0.0\n",
              "3                4               0  ...           0.0             0.0\n",
              "4                1               0  ...           0.0             0.0\n",
              "\n",
              "[5 rows x 17 columns]"
            ]
          },
          "metadata": {
            "tags": []
          },
          "execution_count": 23
        }
      ]
    },
    {
      "cell_type": "code",
      "metadata": {
        "id": "CkRYi8p-mhut",
        "colab_type": "code",
        "colab": {}
      },
      "source": [
        ""
      ],
      "execution_count": 0,
      "outputs": []
    },
    {
      "cell_type": "code",
      "metadata": {
        "id": "asVwreE0sZ0Q",
        "colab_type": "code",
        "colab": {
          "base_uri": "https://localhost:8080/",
          "height": 238
        },
        "outputId": "5e295a4a-751f-45d8-aa7b-466e812d48d2"
      },
      "source": [
        "leecar = llcar.groupby('public name')[['public name']].count()\n",
        "\n",
        "leecar.head()"
      ],
      "execution_count": 33,
      "outputs": [
        {
          "output_type": "execute_result",
          "data": {
            "text/html": [
              "<div>\n",
              "<style scoped>\n",
              "    .dataframe tbody tr th:only-of-type {\n",
              "        vertical-align: middle;\n",
              "    }\n",
              "\n",
              "    .dataframe tbody tr th {\n",
              "        vertical-align: top;\n",
              "    }\n",
              "\n",
              "    .dataframe thead th {\n",
              "        text-align: right;\n",
              "    }\n",
              "</style>\n",
              "<table border=\"1\" class=\"dataframe\">\n",
              "  <thead>\n",
              "    <tr style=\"text-align: right;\">\n",
              "      <th></th>\n",
              "      <th>public name</th>\n",
              "    </tr>\n",
              "    <tr>\n",
              "      <th>public name</th>\n",
              "      <th></th>\n",
              "    </tr>\n",
              "  </thead>\n",
              "  <tbody>\n",
              "    <tr>\n",
              "      <th>Alfortville/Charles de Gaulle/16</th>\n",
              "      <td>12761</td>\n",
              "    </tr>\n",
              "    <tr>\n",
              "      <th>Alfortville/Etienne Dolet/174</th>\n",
              "      <td>12760</td>\n",
              "    </tr>\n",
              "    <tr>\n",
              "      <th>Alfortville/Jean-Baptiste Preux/17</th>\n",
              "      <td>12760</td>\n",
              "    </tr>\n",
              "    <tr>\n",
              "      <th>Alfortville/Joseph Franceschi/1</th>\n",
              "      <td>12760</td>\n",
              "    </tr>\n",
              "    <tr>\n",
              "      <th>Alfortville/Port Ã  l'Anglais/39</th>\n",
              "      <td>12760</td>\n",
              "    </tr>\n",
              "  </tbody>\n",
              "</table>\n",
              "</div>"
            ],
            "text/plain": [
              "                                    public name\n",
              "public name                                    \n",
              "Alfortville/Charles de Gaulle/16          12761\n",
              "Alfortville/Etienne Dolet/174             12760\n",
              "Alfortville/Jean-Baptiste Preux/17        12760\n",
              "Alfortville/Joseph Franceschi/1           12760\n",
              "Alfortville/Port Ã  l'Anglais/39          12760"
            ]
          },
          "metadata": {
            "tags": []
          },
          "execution_count": 33
        }
      ]
    },
    {
      "cell_type": "code",
      "metadata": {
        "id": "5NBjsYHJvugm",
        "colab_type": "code",
        "colab": {
          "base_uri": "https://localhost:8080/",
          "height": 238
        },
        "outputId": "28699439-cf38-4542-9ba2-a4760d1d457d"
      },
      "source": [
        "leecar.columns = ['public name count']\n",
        "leecar.head()"
      ],
      "execution_count": 36,
      "outputs": [
        {
          "output_type": "execute_result",
          "data": {
            "text/html": [
              "<div>\n",
              "<style scoped>\n",
              "    .dataframe tbody tr th:only-of-type {\n",
              "        vertical-align: middle;\n",
              "    }\n",
              "\n",
              "    .dataframe tbody tr th {\n",
              "        vertical-align: top;\n",
              "    }\n",
              "\n",
              "    .dataframe thead th {\n",
              "        text-align: right;\n",
              "    }\n",
              "</style>\n",
              "<table border=\"1\" class=\"dataframe\">\n",
              "  <thead>\n",
              "    <tr style=\"text-align: right;\">\n",
              "      <th></th>\n",
              "      <th>public name count</th>\n",
              "    </tr>\n",
              "    <tr>\n",
              "      <th>public name</th>\n",
              "      <th></th>\n",
              "    </tr>\n",
              "  </thead>\n",
              "  <tbody>\n",
              "    <tr>\n",
              "      <th>Alfortville/Charles de Gaulle/16</th>\n",
              "      <td>12761</td>\n",
              "    </tr>\n",
              "    <tr>\n",
              "      <th>Alfortville/Etienne Dolet/174</th>\n",
              "      <td>12760</td>\n",
              "    </tr>\n",
              "    <tr>\n",
              "      <th>Alfortville/Jean-Baptiste Preux/17</th>\n",
              "      <td>12760</td>\n",
              "    </tr>\n",
              "    <tr>\n",
              "      <th>Alfortville/Joseph Franceschi/1</th>\n",
              "      <td>12760</td>\n",
              "    </tr>\n",
              "    <tr>\n",
              "      <th>Alfortville/Port Ã  l'Anglais/39</th>\n",
              "      <td>12760</td>\n",
              "    </tr>\n",
              "  </tbody>\n",
              "</table>\n",
              "</div>"
            ],
            "text/plain": [
              "                                    public name count\n",
              "public name                                          \n",
              "Alfortville/Charles de Gaulle/16                12761\n",
              "Alfortville/Etienne Dolet/174                   12760\n",
              "Alfortville/Jean-Baptiste Preux/17              12760\n",
              "Alfortville/Joseph Franceschi/1                 12760\n",
              "Alfortville/Port Ã  l'Anglais/39                12760"
            ]
          },
          "metadata": {
            "tags": []
          },
          "execution_count": 36
        }
      ]
    },
    {
      "cell_type": "code",
      "metadata": {
        "id": "S_A6Aqn81sw3",
        "colab_type": "code",
        "outputId": "7c6d34f6-d2a0-4af8-aee9-76b3571b2a23",
        "colab": {
          "base_uri": "https://localhost:8080/",
          "height": 238
        }
      },
      "source": [
        "popSta = leecar.sort_values('public name count', ascending=False)\n",
        "popSta.head()"
      ],
      "execution_count": 37,
      "outputs": [
        {
          "output_type": "execute_result",
          "data": {
            "text/html": [
              "<div>\n",
              "<style scoped>\n",
              "    .dataframe tbody tr th:only-of-type {\n",
              "        vertical-align: middle;\n",
              "    }\n",
              "\n",
              "    .dataframe tbody tr th {\n",
              "        vertical-align: top;\n",
              "    }\n",
              "\n",
              "    .dataframe thead th {\n",
              "        text-align: right;\n",
              "    }\n",
              "</style>\n",
              "<table border=\"1\" class=\"dataframe\">\n",
              "  <thead>\n",
              "    <tr style=\"text-align: right;\">\n",
              "      <th></th>\n",
              "      <th>public name count</th>\n",
              "    </tr>\n",
              "    <tr>\n",
              "      <th>public name</th>\n",
              "      <th></th>\n",
              "    </tr>\n",
              "  </thead>\n",
              "  <tbody>\n",
              "    <tr>\n",
              "      <th>Alfortville/Charles de Gaulle/16</th>\n",
              "      <td>12761</td>\n",
              "    </tr>\n",
              "    <tr>\n",
              "      <th>Paris/Bois/1</th>\n",
              "      <td>12761</td>\n",
              "    </tr>\n",
              "    <tr>\n",
              "      <th>Paris/Porte Pouchet/6</th>\n",
              "      <td>12761</td>\n",
              "    </tr>\n",
              "    <tr>\n",
              "      <th>Paris/Buisson Saint Louis/2</th>\n",
              "      <td>12761</td>\n",
              "    </tr>\n",
              "    <tr>\n",
              "      <th>Paris/Porte de Montrouge/8</th>\n",
              "      <td>12761</td>\n",
              "    </tr>\n",
              "  </tbody>\n",
              "</table>\n",
              "</div>"
            ],
            "text/plain": [
              "                                  public name count\n",
              "public name                                        \n",
              "Alfortville/Charles de Gaulle/16              12761\n",
              "Paris/Bois/1                                  12761\n",
              "Paris/Porte Pouchet/6                         12761\n",
              "Paris/Buisson Saint Louis/2                   12761\n",
              "Paris/Porte de Montrouge/8                    12761"
            ]
          },
          "metadata": {
            "tags": []
          },
          "execution_count": 37
        }
      ]
    },
    {
      "cell_type": "code",
      "metadata": {
        "id": "D-8NwFdKyUlM",
        "colab_type": "code",
        "colab": {}
      },
      "source": [
        "## There are multiple popular stations and they include Alfortville/Charles de Gaulle/16, Paris/Bois/1, Paris/Porte Pouchet/6, Paris/Buisson Saint Louis/2 etc. \n",
        "## These satations have a count of 12761, which is the highest"
      ],
      "execution_count": 0,
      "outputs": []
    },
    {
      "cell_type": "code",
      "metadata": {
        "id": "h0nhZpAshN7G",
        "colab_type": "code",
        "colab": {
          "base_uri": "https://localhost:8080/",
          "height": 238
        },
        "outputId": "87594d7b-1785-44f0-a22e-761300e22e54"
      },
      "source": [
        "popSta.tail()"
      ],
      "execution_count": 106,
      "outputs": [
        {
          "output_type": "execute_result",
          "data": {
            "text/html": [
              "<div>\n",
              "<style scoped>\n",
              "    .dataframe tbody tr th:only-of-type {\n",
              "        vertical-align: middle;\n",
              "    }\n",
              "\n",
              "    .dataframe tbody tr th {\n",
              "        vertical-align: top;\n",
              "    }\n",
              "\n",
              "    .dataframe thead th {\n",
              "        text-align: right;\n",
              "    }\n",
              "</style>\n",
              "<table border=\"1\" class=\"dataframe\">\n",
              "  <thead>\n",
              "    <tr style=\"text-align: right;\">\n",
              "      <th></th>\n",
              "      <th>public name count</th>\n",
              "    </tr>\n",
              "    <tr>\n",
              "      <th>public name</th>\n",
              "      <th></th>\n",
              "    </tr>\n",
              "  </thead>\n",
              "  <tbody>\n",
              "    <tr>\n",
              "      <th>Nanterre/RÃ©publique/326</th>\n",
              "      <td>5882</td>\n",
              "    </tr>\n",
              "    <tr>\n",
              "      <th>Issy-les-Moulineaux/Camille Desmoulins/31</th>\n",
              "      <td>5675</td>\n",
              "    </tr>\n",
              "    <tr>\n",
              "      <th>Sceaux/Houdan/118</th>\n",
              "      <td>4500</td>\n",
              "    </tr>\n",
              "    <tr>\n",
              "      <th>Saint-Denis/Cheminots/24</th>\n",
              "      <td>4332</td>\n",
              "    </tr>\n",
              "    <tr>\n",
              "      <th>Paris/Roquette/162</th>\n",
              "      <td>4133</td>\n",
              "    </tr>\n",
              "  </tbody>\n",
              "</table>\n",
              "</div>"
            ],
            "text/plain": [
              "                                           public name count\n",
              "public name                                                 \n",
              "Nanterre/RÃ©publique/326                                5882\n",
              "Issy-les-Moulineaux/Camille Desmoulins/31               5675\n",
              "Sceaux/Houdan/118                                       4500\n",
              "Saint-Denis/Cheminots/24                                4332\n",
              "Paris/Roquette/162                                      4133"
            ]
          },
          "metadata": {
            "tags": []
          },
          "execution_count": 106
        }
      ]
    },
    {
      "cell_type": "code",
      "metadata": {
        "id": "KO8x4OYIktw7",
        "colab_type": "code",
        "colab": {}
      },
      "source": [
        "## Paris/Roquette/162 has the least amount of bluecars available at the station with only 172 bluecars\n",
        "## "
      ],
      "execution_count": 0,
      "outputs": []
    },
    {
      "cell_type": "code",
      "metadata": {
        "id": "pcl4pSBrzUPw",
        "colab_type": "code",
        "colab": {}
      },
      "source": [
        ""
      ],
      "execution_count": 0,
      "outputs": []
    },
    {
      "cell_type": "markdown",
      "metadata": {
        "id": "tRzwnFdo5wx6",
        "colab_type": "text"
      },
      "source": [
        "### Most popular station at the most popular picking hour "
      ]
    },
    {
      "cell_type": "code",
      "metadata": {
        "id": "-K0AX66ae4Zy",
        "colab_type": "code",
        "colab": {
          "base_uri": "https://localhost:8080/",
          "height": 238
        },
        "outputId": "a515d12c-2452-453b-e555-aab5b1cb1131"
      },
      "source": [
        "elelcar = lcar[(lcar['status'] == 'ok') & (lcar['kind'] == 'STATION') & (lcar['hour'] == 0) & (lcar['city'] == 'Paris')]\n",
        "elelcar.tail()\n",
        "\n",
        "elol = elelcar.groupby('public name')[['public name']].count()\n",
        "elol.head()"
      ],
      "execution_count": 112,
      "outputs": [
        {
          "output_type": "execute_result",
          "data": {
            "text/html": [
              "<div>\n",
              "<style scoped>\n",
              "    .dataframe tbody tr th:only-of-type {\n",
              "        vertical-align: middle;\n",
              "    }\n",
              "\n",
              "    .dataframe tbody tr th {\n",
              "        vertical-align: top;\n",
              "    }\n",
              "\n",
              "    .dataframe thead th {\n",
              "        text-align: right;\n",
              "    }\n",
              "</style>\n",
              "<table border=\"1\" class=\"dataframe\">\n",
              "  <thead>\n",
              "    <tr style=\"text-align: right;\">\n",
              "      <th></th>\n",
              "      <th>public name</th>\n",
              "    </tr>\n",
              "    <tr>\n",
              "      <th>public name</th>\n",
              "      <th></th>\n",
              "    </tr>\n",
              "  </thead>\n",
              "  <tbody>\n",
              "    <tr>\n",
              "      <th>Paris/25 AoÃ»t 1944/8</th>\n",
              "      <td>480</td>\n",
              "    </tr>\n",
              "    <tr>\n",
              "      <th>Paris/Adolphe Max/6</th>\n",
              "      <td>480</td>\n",
              "    </tr>\n",
              "    <tr>\n",
              "      <th>Paris/Adolphe Mille/8</th>\n",
              "      <td>480</td>\n",
              "    </tr>\n",
              "    <tr>\n",
              "      <th>Paris/Adolphe Yvon/6</th>\n",
              "      <td>480</td>\n",
              "    </tr>\n",
              "    <tr>\n",
              "      <th>Paris/Alexandrie/7</th>\n",
              "      <td>480</td>\n",
              "    </tr>\n",
              "  </tbody>\n",
              "</table>\n",
              "</div>"
            ],
            "text/plain": [
              "                       public name\n",
              "public name                       \n",
              "Paris/25 AoÃ»t 1944/8          480\n",
              "Paris/Adolphe Max/6            480\n",
              "Paris/Adolphe Mille/8          480\n",
              "Paris/Adolphe Yvon/6           480\n",
              "Paris/Alexandrie/7             480"
            ]
          },
          "metadata": {
            "tags": []
          },
          "execution_count": 112
        }
      ]
    },
    {
      "cell_type": "code",
      "metadata": {
        "id": "Q5Mrd5iqhUVv",
        "colab_type": "code",
        "colab": {
          "base_uri": "https://localhost:8080/",
          "height": 35
        },
        "outputId": "d2b70a12-9521-4788-d485-4891c256a987"
      },
      "source": [
        "elol.shape"
      ],
      "execution_count": 113,
      "outputs": [
        {
          "output_type": "execute_result",
          "data": {
            "text/plain": [
              "(525, 1)"
            ]
          },
          "metadata": {
            "tags": []
          },
          "execution_count": 113
        }
      ]
    },
    {
      "cell_type": "code",
      "metadata": {
        "id": "NUxgYTtaflLZ",
        "colab_type": "code",
        "colab": {}
      },
      "source": [
        "elol.columns = ['public name count']"
      ],
      "execution_count": 0,
      "outputs": []
    },
    {
      "cell_type": "code",
      "metadata": {
        "id": "-1W5p0Z2fqOu",
        "colab_type": "code",
        "colab": {
          "base_uri": "https://localhost:8080/",
          "height": 394
        },
        "outputId": "4587c3eb-bba3-46a4-9f00-90d8a950c826"
      },
      "source": [
        "elol.sort_values('public name count', ascending=False).head(10)"
      ],
      "execution_count": 118,
      "outputs": [
        {
          "output_type": "execute_result",
          "data": {
            "text/html": [
              "<div>\n",
              "<style scoped>\n",
              "    .dataframe tbody tr th:only-of-type {\n",
              "        vertical-align: middle;\n",
              "    }\n",
              "\n",
              "    .dataframe tbody tr th {\n",
              "        vertical-align: top;\n",
              "    }\n",
              "\n",
              "    .dataframe thead th {\n",
              "        text-align: right;\n",
              "    }\n",
              "</style>\n",
              "<table border=\"1\" class=\"dataframe\">\n",
              "  <thead>\n",
              "    <tr style=\"text-align: right;\">\n",
              "      <th></th>\n",
              "      <th>public name count</th>\n",
              "    </tr>\n",
              "    <tr>\n",
              "      <th>public name</th>\n",
              "      <th></th>\n",
              "    </tr>\n",
              "  </thead>\n",
              "  <tbody>\n",
              "    <tr>\n",
              "      <th>Paris/25 AoÃ»t 1944/8</th>\n",
              "      <td>480</td>\n",
              "    </tr>\n",
              "    <tr>\n",
              "      <th>Paris/Nicolas Taunay/7</th>\n",
              "      <td>480</td>\n",
              "    </tr>\n",
              "    <tr>\n",
              "      <th>Paris/Philippe Auguste/1</th>\n",
              "      <td>480</td>\n",
              "    </tr>\n",
              "    <tr>\n",
              "      <th>Paris/PerrÃ©e/18</th>\n",
              "      <td>480</td>\n",
              "    </tr>\n",
              "    <tr>\n",
              "      <th>Paris/Pernety/46</th>\n",
              "      <td>480</td>\n",
              "    </tr>\n",
              "    <tr>\n",
              "      <th>Paris/Pereire/271</th>\n",
              "      <td>480</td>\n",
              "    </tr>\n",
              "    <tr>\n",
              "      <th>Paris/Pereire/170</th>\n",
              "      <td>480</td>\n",
              "    </tr>\n",
              "    <tr>\n",
              "      <th>Paris/Pereire/115</th>\n",
              "      <td>480</td>\n",
              "    </tr>\n",
              "    <tr>\n",
              "      <th>Paris/Pelleport/86</th>\n",
              "      <td>480</td>\n",
              "    </tr>\n",
              "    <tr>\n",
              "      <th>Paris/Pelleport/105</th>\n",
              "      <td>480</td>\n",
              "    </tr>\n",
              "  </tbody>\n",
              "</table>\n",
              "</div>"
            ],
            "text/plain": [
              "                          public name count\n",
              "public name                                \n",
              "Paris/25 AoÃ»t 1944/8                   480\n",
              "Paris/Nicolas Taunay/7                  480\n",
              "Paris/Philippe Auguste/1                480\n",
              "Paris/PerrÃ©e/18                        480\n",
              "Paris/Pernety/46                        480\n",
              "Paris/Pereire/271                       480\n",
              "Paris/Pereire/170                       480\n",
              "Paris/Pereire/115                       480\n",
              "Paris/Pelleport/86                      480\n",
              "Paris/Pelleport/105                     480"
            ]
          },
          "metadata": {
            "tags": []
          },
          "execution_count": 118
        }
      ]
    },
    {
      "cell_type": "code",
      "metadata": {
        "id": "DQqw2rn2gtE7",
        "colab_type": "code",
        "colab": {}
      },
      "source": [
        "## Multiple stations are popular at the most popular picking hour and they include Paris/25 AoÃ»t 1944/8, Paris/Nicolas Taunay/7, Paris/Philippe Auguste/1, Paris/Pereire/170, Paris/Pereire/115, Paris/Pelleport/86 etc. \n",
        "## Paris/Roquette/162 is the least popular station during the most popular picking hour "
      ],
      "execution_count": 0,
      "outputs": []
    },
    {
      "cell_type": "code",
      "metadata": {
        "id": "pt-1r1f3Py5W",
        "colab_type": "code",
        "colab": {}
      },
      "source": [
        ""
      ],
      "execution_count": 0,
      "outputs": []
    },
    {
      "cell_type": "markdown",
      "metadata": {
        "id": "qgRc5tawP1xX",
        "colab_type": "text"
      },
      "source": [
        "## Most popular postal code for picking up bluecars"
      ]
    },
    {
      "cell_type": "code",
      "metadata": {
        "id": "MUxG-IFvPy0l",
        "colab_type": "code",
        "outputId": "5bf5efc3-9feb-4e0f-c12b-f823c915de68",
        "colab": {
          "base_uri": "https://localhost:8080/",
          "height": 330
        }
      },
      "source": [
        "llcar.tail()"
      ],
      "execution_count": 125,
      "outputs": [
        {
          "output_type": "execute_result",
          "data": {
            "text/html": [
              "<div>\n",
              "<style scoped>\n",
              "    .dataframe tbody tr th:only-of-type {\n",
              "        vertical-align: middle;\n",
              "    }\n",
              "\n",
              "    .dataframe tbody tr th {\n",
              "        vertical-align: top;\n",
              "    }\n",
              "\n",
              "    .dataframe thead th {\n",
              "        text-align: right;\n",
              "    }\n",
              "</style>\n",
              "<table border=\"1\" class=\"dataframe\">\n",
              "  <thead>\n",
              "    <tr style=\"text-align: right;\">\n",
              "      <th></th>\n",
              "      <th>bluecar counter</th>\n",
              "      <th>utilib counter</th>\n",
              "      <th>utilib 1.4 counter</th>\n",
              "      <th>city</th>\n",
              "      <th>kind</th>\n",
              "      <th>postal code</th>\n",
              "      <th>public name</th>\n",
              "      <th>rental status</th>\n",
              "      <th>slots</th>\n",
              "      <th>station type</th>\n",
              "      <th>status</th>\n",
              "      <th>day</th>\n",
              "      <th>hour</th>\n",
              "      <th>minute</th>\n",
              "      <th>bluecar_usage</th>\n",
              "      <th>utilib_usage</th>\n",
              "      <th>utilib_14_usage</th>\n",
              "    </tr>\n",
              "  </thead>\n",
              "  <tbody>\n",
              "    <tr>\n",
              "      <th>1109</th>\n",
              "      <td>2</td>\n",
              "      <td>0</td>\n",
              "      <td>0</td>\n",
              "      <td>Boulogne-Billancourt</td>\n",
              "      <td>STATION</td>\n",
              "      <td>92100</td>\n",
              "      <td>Boulogne-Billancourt/Anatole France/4</td>\n",
              "      <td>operational</td>\n",
              "      <td>1</td>\n",
              "      <td>station</td>\n",
              "      <td>ok</td>\n",
              "      <td>9</td>\n",
              "      <td>23</td>\n",
              "      <td>59</td>\n",
              "      <td>-1.0</td>\n",
              "      <td>0.0</td>\n",
              "      <td>0.0</td>\n",
              "    </tr>\n",
              "    <tr>\n",
              "      <th>1112</th>\n",
              "      <td>5</td>\n",
              "      <td>0</td>\n",
              "      <td>1</td>\n",
              "      <td>Saclay</td>\n",
              "      <td>STATION</td>\n",
              "      <td>91400</td>\n",
              "      <td>Saclay/LibÃ©ration/1</td>\n",
              "      <td>operational</td>\n",
              "      <td>0</td>\n",
              "      <td>station</td>\n",
              "      <td>ok</td>\n",
              "      <td>9</td>\n",
              "      <td>23</td>\n",
              "      <td>59</td>\n",
              "      <td>0.0</td>\n",
              "      <td>0.0</td>\n",
              "      <td>1.0</td>\n",
              "    </tr>\n",
              "    <tr>\n",
              "      <th>1116</th>\n",
              "      <td>6</td>\n",
              "      <td>0</td>\n",
              "      <td>0</td>\n",
              "      <td>Vincennes</td>\n",
              "      <td>STATION</td>\n",
              "      <td>94300</td>\n",
              "      <td>Vincennes/Fontenay/194</td>\n",
              "      <td>operational</td>\n",
              "      <td>0</td>\n",
              "      <td>station</td>\n",
              "      <td>ok</td>\n",
              "      <td>9</td>\n",
              "      <td>23</td>\n",
              "      <td>59</td>\n",
              "      <td>2.0</td>\n",
              "      <td>0.0</td>\n",
              "      <td>0.0</td>\n",
              "    </tr>\n",
              "    <tr>\n",
              "      <th>1117</th>\n",
              "      <td>2</td>\n",
              "      <td>0</td>\n",
              "      <td>0</td>\n",
              "      <td>Garches</td>\n",
              "      <td>STATION</td>\n",
              "      <td>92380</td>\n",
              "      <td>Garches/Raymond PoincarÃ©/102</td>\n",
              "      <td>operational</td>\n",
              "      <td>4</td>\n",
              "      <td>station</td>\n",
              "      <td>ok</td>\n",
              "      <td>9</td>\n",
              "      <td>23</td>\n",
              "      <td>59</td>\n",
              "      <td>-4.0</td>\n",
              "      <td>0.0</td>\n",
              "      <td>0.0</td>\n",
              "    </tr>\n",
              "    <tr>\n",
              "      <th>1118</th>\n",
              "      <td>0</td>\n",
              "      <td>0</td>\n",
              "      <td>0</td>\n",
              "      <td>Saint-Denis</td>\n",
              "      <td>STATION</td>\n",
              "      <td>93200</td>\n",
              "      <td>Saint-Denis/George Sand/8</td>\n",
              "      <td>operational</td>\n",
              "      <td>5</td>\n",
              "      <td>station</td>\n",
              "      <td>ok</td>\n",
              "      <td>9</td>\n",
              "      <td>23</td>\n",
              "      <td>59</td>\n",
              "      <td>-2.0</td>\n",
              "      <td>0.0</td>\n",
              "      <td>0.0</td>\n",
              "    </tr>\n",
              "  </tbody>\n",
              "</table>\n",
              "</div>"
            ],
            "text/plain": [
              "      bluecar counter  utilib counter  ...  utilib_usage utilib_14_usage\n",
              "1109                2               0  ...           0.0             0.0\n",
              "1112                5               0  ...           0.0             1.0\n",
              "1116                6               0  ...           0.0             0.0\n",
              "1117                2               0  ...           0.0             0.0\n",
              "1118                0               0  ...           0.0             0.0\n",
              "\n",
              "[5 rows x 17 columns]"
            ]
          },
          "metadata": {
            "tags": []
          },
          "execution_count": 125
        }
      ]
    },
    {
      "cell_type": "code",
      "metadata": {
        "id": "ewLZgsCFRBV2",
        "colab_type": "code",
        "outputId": "72e3afd1-e00b-436d-dffe-31bce67c61c8",
        "colab": {
          "base_uri": "https://localhost:8080/",
          "height": 238
        }
      },
      "source": [
        "elel = llcar.groupby(['hour','postal code', 'public name'])[['postal code']].count()\n",
        "\n",
        "\n",
        "elel.head()\n",
        "#elel.sort_values(by = ['postal code'], axis=1, ascending=False)"
      ],
      "execution_count": 126,
      "outputs": [
        {
          "output_type": "execute_result",
          "data": {
            "text/html": [
              "<div>\n",
              "<style scoped>\n",
              "    .dataframe tbody tr th:only-of-type {\n",
              "        vertical-align: middle;\n",
              "    }\n",
              "\n",
              "    .dataframe tbody tr th {\n",
              "        vertical-align: top;\n",
              "    }\n",
              "\n",
              "    .dataframe thead th {\n",
              "        text-align: right;\n",
              "    }\n",
              "</style>\n",
              "<table border=\"1\" class=\"dataframe\">\n",
              "  <thead>\n",
              "    <tr style=\"text-align: right;\">\n",
              "      <th></th>\n",
              "      <th></th>\n",
              "      <th></th>\n",
              "      <th>postal code</th>\n",
              "    </tr>\n",
              "    <tr>\n",
              "      <th>hour</th>\n",
              "      <th>postal code</th>\n",
              "      <th>public name</th>\n",
              "      <th></th>\n",
              "    </tr>\n",
              "  </thead>\n",
              "  <tbody>\n",
              "    <tr>\n",
              "      <th rowspan=\"5\" valign=\"top\">0</th>\n",
              "      <th rowspan=\"5\" valign=\"top\">75001</th>\n",
              "      <th>Paris/Amiral Coligny/2</th>\n",
              "      <td>480</td>\n",
              "    </tr>\n",
              "    <tr>\n",
              "      <th>Paris/Bertin PoirÃ©e/14</th>\n",
              "      <td>480</td>\n",
              "    </tr>\n",
              "    <tr>\n",
              "      <th>Paris/Colonel Driant/7</th>\n",
              "      <td>480</td>\n",
              "    </tr>\n",
              "    <tr>\n",
              "      <th>Paris/Croix des Petits Champs/4</th>\n",
              "      <td>480</td>\n",
              "    </tr>\n",
              "    <tr>\n",
              "      <th>Paris/Jean-Jacques Rousseau/62</th>\n",
              "      <td>480</td>\n",
              "    </tr>\n",
              "  </tbody>\n",
              "</table>\n",
              "</div>"
            ],
            "text/plain": [
              "                                                  postal code\n",
              "hour postal code public name                                 \n",
              "0    75001       Paris/Amiral Coligny/2                   480\n",
              "                 Paris/Bertin PoirÃ©e/14                  480\n",
              "                 Paris/Colonel Driant/7                   480\n",
              "                 Paris/Croix des Petits Champs/4          480\n",
              "                 Paris/Jean-Jacques Rousseau/62           480"
            ]
          },
          "metadata": {
            "tags": []
          },
          "execution_count": 126
        }
      ]
    },
    {
      "cell_type": "code",
      "metadata": {
        "id": "rzACrm5oSlCl",
        "colab_type": "code",
        "outputId": "b9e11a42-5e20-418a-952b-be4052a77bd3",
        "colab": {
          "base_uri": "https://localhost:8080/",
          "height": 238
        }
      },
      "source": [
        "#renaming the name pof column to avoid conflict with index\n",
        "elel.columns = ['pcode count']\n",
        "elel.head()"
      ],
      "execution_count": 127,
      "outputs": [
        {
          "output_type": "execute_result",
          "data": {
            "text/html": [
              "<div>\n",
              "<style scoped>\n",
              "    .dataframe tbody tr th:only-of-type {\n",
              "        vertical-align: middle;\n",
              "    }\n",
              "\n",
              "    .dataframe tbody tr th {\n",
              "        vertical-align: top;\n",
              "    }\n",
              "\n",
              "    .dataframe thead th {\n",
              "        text-align: right;\n",
              "    }\n",
              "</style>\n",
              "<table border=\"1\" class=\"dataframe\">\n",
              "  <thead>\n",
              "    <tr style=\"text-align: right;\">\n",
              "      <th></th>\n",
              "      <th></th>\n",
              "      <th></th>\n",
              "      <th>pcode count</th>\n",
              "    </tr>\n",
              "    <tr>\n",
              "      <th>hour</th>\n",
              "      <th>postal code</th>\n",
              "      <th>public name</th>\n",
              "      <th></th>\n",
              "    </tr>\n",
              "  </thead>\n",
              "  <tbody>\n",
              "    <tr>\n",
              "      <th rowspan=\"5\" valign=\"top\">0</th>\n",
              "      <th rowspan=\"5\" valign=\"top\">75001</th>\n",
              "      <th>Paris/Amiral Coligny/2</th>\n",
              "      <td>480</td>\n",
              "    </tr>\n",
              "    <tr>\n",
              "      <th>Paris/Bertin PoirÃ©e/14</th>\n",
              "      <td>480</td>\n",
              "    </tr>\n",
              "    <tr>\n",
              "      <th>Paris/Colonel Driant/7</th>\n",
              "      <td>480</td>\n",
              "    </tr>\n",
              "    <tr>\n",
              "      <th>Paris/Croix des Petits Champs/4</th>\n",
              "      <td>480</td>\n",
              "    </tr>\n",
              "    <tr>\n",
              "      <th>Paris/Jean-Jacques Rousseau/62</th>\n",
              "      <td>480</td>\n",
              "    </tr>\n",
              "  </tbody>\n",
              "</table>\n",
              "</div>"
            ],
            "text/plain": [
              "                                                  pcode count\n",
              "hour postal code public name                                 \n",
              "0    75001       Paris/Amiral Coligny/2                   480\n",
              "                 Paris/Bertin PoirÃ©e/14                  480\n",
              "                 Paris/Colonel Driant/7                   480\n",
              "                 Paris/Croix des Petits Champs/4          480\n",
              "                 Paris/Jean-Jacques Rousseau/62           480"
            ]
          },
          "metadata": {
            "tags": []
          },
          "execution_count": 127
        }
      ]
    },
    {
      "cell_type": "code",
      "metadata": {
        "id": "ZF-hiK5bWReU",
        "colab_type": "code",
        "outputId": "b028b179-7769-4c85-8927-43a3918e95e0",
        "colab": {
          "base_uri": "https://localhost:8080/",
          "height": 238
        }
      },
      "source": [
        "liel = elel.sort_values('pcode count', ascending=False)\n",
        "liel.head()"
      ],
      "execution_count": 128,
      "outputs": [
        {
          "output_type": "execute_result",
          "data": {
            "text/html": [
              "<div>\n",
              "<style scoped>\n",
              "    .dataframe tbody tr th:only-of-type {\n",
              "        vertical-align: middle;\n",
              "    }\n",
              "\n",
              "    .dataframe tbody tr th {\n",
              "        vertical-align: top;\n",
              "    }\n",
              "\n",
              "    .dataframe thead th {\n",
              "        text-align: right;\n",
              "    }\n",
              "</style>\n",
              "<table border=\"1\" class=\"dataframe\">\n",
              "  <thead>\n",
              "    <tr style=\"text-align: right;\">\n",
              "      <th></th>\n",
              "      <th></th>\n",
              "      <th></th>\n",
              "      <th>pcode count</th>\n",
              "    </tr>\n",
              "    <tr>\n",
              "      <th>hour</th>\n",
              "      <th>postal code</th>\n",
              "      <th>public name</th>\n",
              "      <th></th>\n",
              "    </tr>\n",
              "  </thead>\n",
              "  <tbody>\n",
              "    <tr>\n",
              "      <th>12</th>\n",
              "      <th>75001</th>\n",
              "      <th>Paris/Amiral Coligny/2</th>\n",
              "      <td>540</td>\n",
              "    </tr>\n",
              "    <tr>\n",
              "      <th rowspan=\"4\" valign=\"top\">14</th>\n",
              "      <th>75016</th>\n",
              "      <th>Paris/Auteuil/55</th>\n",
              "      <td>540</td>\n",
              "    </tr>\n",
              "    <tr>\n",
              "      <th rowspan=\"3\" valign=\"top\">75015</th>\n",
              "      <th>Paris/Ãmile Zola/65</th>\n",
              "      <td>540</td>\n",
              "    </tr>\n",
              "    <tr>\n",
              "      <th>Paris/Ãmile Zola/143</th>\n",
              "      <td>540</td>\n",
              "    </tr>\n",
              "    <tr>\n",
              "      <th>Paris/Ãmile Duclaux/19</th>\n",
              "      <td>540</td>\n",
              "    </tr>\n",
              "  </tbody>\n",
              "</table>\n",
              "</div>"
            ],
            "text/plain": [
              "                                          pcode count\n",
              "hour postal code public name                         \n",
              "12   75001       Paris/Amiral Coligny/2           540\n",
              "14   75016       Paris/Auteuil/55                 540\n",
              "     75015       Paris/Ãmile Zola/65             540\n",
              "                 Paris/Ãmile Zola/143            540\n",
              "                 Paris/Ãmile Duclaux/19          540"
            ]
          },
          "metadata": {
            "tags": []
          },
          "execution_count": 128
        }
      ]
    },
    {
      "cell_type": "code",
      "metadata": {
        "id": "42V6-SFJWmbm",
        "colab_type": "code",
        "outputId": "34f919d9-3371-4791-e2ec-432d3fcd6ada",
        "colab": {
          "base_uri": "https://localhost:8080/",
          "height": 394
        }
      },
      "source": [
        "li = liel.groupby('postal code')[['pcode count']].sum()\n",
        "li.head(10)"
      ],
      "execution_count": 129,
      "outputs": [
        {
          "output_type": "execute_result",
          "data": {
            "text/html": [
              "<div>\n",
              "<style scoped>\n",
              "    .dataframe tbody tr th:only-of-type {\n",
              "        vertical-align: middle;\n",
              "    }\n",
              "\n",
              "    .dataframe tbody tr th {\n",
              "        vertical-align: top;\n",
              "    }\n",
              "\n",
              "    .dataframe thead th {\n",
              "        text-align: right;\n",
              "    }\n",
              "</style>\n",
              "<table border=\"1\" class=\"dataframe\">\n",
              "  <thead>\n",
              "    <tr style=\"text-align: right;\">\n",
              "      <th></th>\n",
              "      <th>pcode count</th>\n",
              "    </tr>\n",
              "    <tr>\n",
              "      <th>postal code</th>\n",
              "      <th></th>\n",
              "    </tr>\n",
              "  </thead>\n",
              "  <tbody>\n",
              "    <tr>\n",
              "      <th>75001</th>\n",
              "      <td>101700</td>\n",
              "    </tr>\n",
              "    <tr>\n",
              "      <th>75002</th>\n",
              "      <td>140365</td>\n",
              "    </tr>\n",
              "    <tr>\n",
              "      <th>75003</th>\n",
              "      <td>153023</td>\n",
              "    </tr>\n",
              "    <tr>\n",
              "      <th>75004</th>\n",
              "      <td>178206</td>\n",
              "    </tr>\n",
              "    <tr>\n",
              "      <th>75005</th>\n",
              "      <td>228160</td>\n",
              "    </tr>\n",
              "    <tr>\n",
              "      <th>75006</th>\n",
              "      <td>203527</td>\n",
              "    </tr>\n",
              "    <tr>\n",
              "      <th>75007</th>\n",
              "      <td>293208</td>\n",
              "    </tr>\n",
              "    <tr>\n",
              "      <th>75008</th>\n",
              "      <td>377440</td>\n",
              "    </tr>\n",
              "    <tr>\n",
              "      <th>75009</th>\n",
              "      <td>266197</td>\n",
              "    </tr>\n",
              "    <tr>\n",
              "      <th>75010</th>\n",
              "      <td>286654</td>\n",
              "    </tr>\n",
              "  </tbody>\n",
              "</table>\n",
              "</div>"
            ],
            "text/plain": [
              "             pcode count\n",
              "postal code             \n",
              "75001             101700\n",
              "75002             140365\n",
              "75003             153023\n",
              "75004             178206\n",
              "75005             228160\n",
              "75006             203527\n",
              "75007             293208\n",
              "75008             377440\n",
              "75009             266197\n",
              "75010             286654"
            ]
          },
          "metadata": {
            "tags": []
          },
          "execution_count": 129
        }
      ]
    },
    {
      "cell_type": "code",
      "metadata": {
        "id": "ELaMg4r4XEGs",
        "colab_type": "code",
        "outputId": "5a1127be-1da8-4ddf-91ee-761c4d1c63f0",
        "colab": {
          "base_uri": "https://localhost:8080/",
          "height": 238
        }
      },
      "source": [
        "li.sort_values('pcode count', ascending=False).head()"
      ],
      "execution_count": 130,
      "outputs": [
        {
          "output_type": "execute_result",
          "data": {
            "text/html": [
              "<div>\n",
              "<style scoped>\n",
              "    .dataframe tbody tr th:only-of-type {\n",
              "        vertical-align: middle;\n",
              "    }\n",
              "\n",
              "    .dataframe tbody tr th {\n",
              "        vertical-align: top;\n",
              "    }\n",
              "\n",
              "    .dataframe thead th {\n",
              "        text-align: right;\n",
              "    }\n",
              "</style>\n",
              "<table border=\"1\" class=\"dataframe\">\n",
              "  <thead>\n",
              "    <tr style=\"text-align: right;\">\n",
              "      <th></th>\n",
              "      <th>pcode count</th>\n",
              "    </tr>\n",
              "    <tr>\n",
              "      <th>postal code</th>\n",
              "      <th></th>\n",
              "    </tr>\n",
              "  </thead>\n",
              "  <tbody>\n",
              "    <tr>\n",
              "      <th>75015</th>\n",
              "      <td>637312</td>\n",
              "    </tr>\n",
              "    <tr>\n",
              "      <th>75016</th>\n",
              "      <td>548113</td>\n",
              "    </tr>\n",
              "    <tr>\n",
              "      <th>75017</th>\n",
              "      <td>467670</td>\n",
              "    </tr>\n",
              "    <tr>\n",
              "      <th>75013</th>\n",
              "      <td>458811</td>\n",
              "    </tr>\n",
              "    <tr>\n",
              "      <th>75020</th>\n",
              "      <td>440355</td>\n",
              "    </tr>\n",
              "  </tbody>\n",
              "</table>\n",
              "</div>"
            ],
            "text/plain": [
              "             pcode count\n",
              "postal code             \n",
              "75015             637312\n",
              "75016             548113\n",
              "75017             467670\n",
              "75013             458811\n",
              "75020             440355"
            ]
          },
          "metadata": {
            "tags": []
          },
          "execution_count": 130
        }
      ]
    },
    {
      "cell_type": "code",
      "metadata": {
        "id": "chcJlznGXThD",
        "colab_type": "code",
        "colab": {}
      },
      "source": [
        "## In overall, postal code 75015 is the most popular with a count of 713,875 \n"
      ],
      "execution_count": 0,
      "outputs": []
    },
    {
      "cell_type": "code",
      "metadata": {
        "id": "xty3eKh_h10R",
        "colab_type": "code",
        "colab": {}
      },
      "source": [
        ""
      ],
      "execution_count": 0,
      "outputs": []
    },
    {
      "cell_type": "markdown",
      "metadata": {
        "id": "EXpaoP7kh24l",
        "colab_type": "text"
      },
      "source": [
        "### Determining station(s) associated with the most popular postal code"
      ]
    },
    {
      "cell_type": "code",
      "metadata": {
        "id": "7IOT0FqeXd5I",
        "colab_type": "code",
        "outputId": "dd628838-a9d7-45cb-805b-d8337097d868",
        "colab": {
          "base_uri": "https://localhost:8080/",
          "height": 1000
        }
      },
      "source": [
        "lii = liel.groupby(['postal code', 'public name'])[['pcode count']].sum()\n",
        "lii.head()\n",
        "\n",
        "lii.loc[[75015]]"
      ],
      "execution_count": 135,
      "outputs": [
        {
          "output_type": "execute_result",
          "data": {
            "text/html": [
              "<div>\n",
              "<style scoped>\n",
              "    .dataframe tbody tr th:only-of-type {\n",
              "        vertical-align: middle;\n",
              "    }\n",
              "\n",
              "    .dataframe tbody tr th {\n",
              "        vertical-align: top;\n",
              "    }\n",
              "\n",
              "    .dataframe thead th {\n",
              "        text-align: right;\n",
              "    }\n",
              "</style>\n",
              "<table border=\"1\" class=\"dataframe\">\n",
              "  <thead>\n",
              "    <tr style=\"text-align: right;\">\n",
              "      <th></th>\n",
              "      <th></th>\n",
              "      <th>pcode count</th>\n",
              "    </tr>\n",
              "    <tr>\n",
              "      <th>postal code</th>\n",
              "      <th>public name</th>\n",
              "      <th></th>\n",
              "    </tr>\n",
              "  </thead>\n",
              "  <tbody>\n",
              "    <tr>\n",
              "      <th rowspan=\"50\" valign=\"top\">75015</th>\n",
              "      <th>Paris/ArrivÃ©e/16</th>\n",
              "      <td>12760</td>\n",
              "    </tr>\n",
              "    <tr>\n",
              "      <th>Paris/Balard/108</th>\n",
              "      <td>12761</td>\n",
              "    </tr>\n",
              "    <tr>\n",
              "      <th>Paris/Beaugrenelle/4</th>\n",
              "      <td>12760</td>\n",
              "    </tr>\n",
              "    <tr>\n",
              "      <th>Paris/Colonel Pierre Avia/1</th>\n",
              "      <td>12761</td>\n",
              "    </tr>\n",
              "    <tr>\n",
              "      <th>Paris/Commerce/5</th>\n",
              "      <td>12761</td>\n",
              "    </tr>\n",
              "    <tr>\n",
              "      <th>Paris/Convention/171</th>\n",
              "      <td>12761</td>\n",
              "    </tr>\n",
              "    <tr>\n",
              "      <th>Paris/Convention/75</th>\n",
              "      <td>12761</td>\n",
              "    </tr>\n",
              "    <tr>\n",
              "      <th>Paris/Cotentin/29</th>\n",
              "      <td>12761</td>\n",
              "    </tr>\n",
              "    <tr>\n",
              "      <th>Paris/Croix Nivert/192</th>\n",
              "      <td>12760</td>\n",
              "    </tr>\n",
              "    <tr>\n",
              "      <th>Paris/Cronstadt/2</th>\n",
              "      <td>12761</td>\n",
              "    </tr>\n",
              "    <tr>\n",
              "      <th>Paris/Dantzig/37</th>\n",
              "      <td>12760</td>\n",
              "    </tr>\n",
              "    <tr>\n",
              "      <th>Paris/Dantzig/80</th>\n",
              "      <td>12761</td>\n",
              "    </tr>\n",
              "    <tr>\n",
              "      <th>Paris/Emile Zola/6</th>\n",
              "      <td>12761</td>\n",
              "    </tr>\n",
              "    <tr>\n",
              "      <th>Paris/Finlay/43</th>\n",
              "      <td>12044</td>\n",
              "    </tr>\n",
              "    <tr>\n",
              "      <th>Paris/FÃ©dÃ©ration/10</th>\n",
              "      <td>12760</td>\n",
              "    </tr>\n",
              "    <tr>\n",
              "      <th>Paris/Gerbert/11</th>\n",
              "      <td>12761</td>\n",
              "    </tr>\n",
              "    <tr>\n",
              "      <th>Paris/Grenelle/139</th>\n",
              "      <td>12760</td>\n",
              "    </tr>\n",
              "    <tr>\n",
              "      <th>Paris/Grenelle/37</th>\n",
              "      <td>12761</td>\n",
              "    </tr>\n",
              "    <tr>\n",
              "      <th>Paris/Houdart de Lamotte/2</th>\n",
              "      <td>12761</td>\n",
              "    </tr>\n",
              "    <tr>\n",
              "      <th>Paris/HÃ©ricart/54</th>\n",
              "      <td>12760</td>\n",
              "    </tr>\n",
              "    <tr>\n",
              "      <th>Paris/Jean Sicard/1</th>\n",
              "      <td>12760</td>\n",
              "    </tr>\n",
              "    <tr>\n",
              "      <th>Paris/Lacordaire/56</th>\n",
              "      <td>12760</td>\n",
              "    </tr>\n",
              "    <tr>\n",
              "      <th>Paris/Leblanc/19</th>\n",
              "      <td>12761</td>\n",
              "    </tr>\n",
              "    <tr>\n",
              "      <th>Paris/Lecourbe/178</th>\n",
              "      <td>12761</td>\n",
              "    </tr>\n",
              "    <tr>\n",
              "      <th>Paris/Lecourbe/336</th>\n",
              "      <td>12761</td>\n",
              "    </tr>\n",
              "    <tr>\n",
              "      <th>Paris/Lecourbe/63</th>\n",
              "      <td>12761</td>\n",
              "    </tr>\n",
              "    <tr>\n",
              "      <th>Paris/Lourmel/33</th>\n",
              "      <td>12760</td>\n",
              "    </tr>\n",
              "    <tr>\n",
              "      <th>Paris/Lourmel/79</th>\n",
              "      <td>12760</td>\n",
              "    </tr>\n",
              "    <tr>\n",
              "      <th>Paris/Mademoiselle/22</th>\n",
              "      <td>12760</td>\n",
              "    </tr>\n",
              "    <tr>\n",
              "      <th>Paris/Mademoiselle/67</th>\n",
              "      <td>12760</td>\n",
              "    </tr>\n",
              "    <tr>\n",
              "      <th>Paris/Maine/4</th>\n",
              "      <td>12761</td>\n",
              "    </tr>\n",
              "    <tr>\n",
              "      <th>Paris/Miollis/21</th>\n",
              "      <td>12760</td>\n",
              "    </tr>\n",
              "    <tr>\n",
              "      <th>Paris/Morillons/95</th>\n",
              "      <td>12760</td>\n",
              "    </tr>\n",
              "    <tr>\n",
              "      <th>Paris/Olier/15</th>\n",
              "      <td>12760</td>\n",
              "    </tr>\n",
              "    <tr>\n",
              "      <th>Paris/Olivier de Serres/3</th>\n",
              "      <td>12760</td>\n",
              "    </tr>\n",
              "    <tr>\n",
              "      <th>Paris/Pasteur/41</th>\n",
              "      <td>12761</td>\n",
              "    </tr>\n",
              "    <tr>\n",
              "      <th>Paris/Paul Barruel/44</th>\n",
              "      <td>12760</td>\n",
              "    </tr>\n",
              "    <tr>\n",
              "      <th>Paris/Suffren/112</th>\n",
              "      <td>12761</td>\n",
              "    </tr>\n",
              "    <tr>\n",
              "      <th>Paris/Suffren/161</th>\n",
              "      <td>12761</td>\n",
              "    </tr>\n",
              "    <tr>\n",
              "      <th>Paris/Suffren/2</th>\n",
              "      <td>12761</td>\n",
              "    </tr>\n",
              "    <tr>\n",
              "      <th>Paris/Suffren/44</th>\n",
              "      <td>12761</td>\n",
              "    </tr>\n",
              "    <tr>\n",
              "      <th>Paris/Suffren/78</th>\n",
              "      <td>12760</td>\n",
              "    </tr>\n",
              "    <tr>\n",
              "      <th>Paris/SÃ©bastien Mercier/44</th>\n",
              "      <td>12760</td>\n",
              "    </tr>\n",
              "    <tr>\n",
              "      <th>Paris/Vasco de Gama/74</th>\n",
              "      <td>12760</td>\n",
              "    </tr>\n",
              "    <tr>\n",
              "      <th>Paris/Vaugirard/20</th>\n",
              "      <td>12761</td>\n",
              "    </tr>\n",
              "    <tr>\n",
              "      <th>Paris/Vaugirard/230</th>\n",
              "      <td>12761</td>\n",
              "    </tr>\n",
              "    <tr>\n",
              "      <th>Paris/VouillÃ©/47</th>\n",
              "      <td>12761</td>\n",
              "    </tr>\n",
              "    <tr>\n",
              "      <th>Paris/Ãmile Duclaux/19</th>\n",
              "      <td>12761</td>\n",
              "    </tr>\n",
              "    <tr>\n",
              "      <th>Paris/Ãmile Zola/143</th>\n",
              "      <td>12761</td>\n",
              "    </tr>\n",
              "    <tr>\n",
              "      <th>Paris/Ãmile Zola/65</th>\n",
              "      <td>12761</td>\n",
              "    </tr>\n",
              "  </tbody>\n",
              "</table>\n",
              "</div>"
            ],
            "text/plain": [
              "                                         pcode count\n",
              "postal code public name                             \n",
              "75015       Paris/ArrivÃ©e/16                  12760\n",
              "            Paris/Balard/108                   12761\n",
              "            Paris/Beaugrenelle/4               12760\n",
              "            Paris/Colonel Pierre Avia/1        12761\n",
              "            Paris/Commerce/5                   12761\n",
              "            Paris/Convention/171               12761\n",
              "            Paris/Convention/75                12761\n",
              "            Paris/Cotentin/29                  12761\n",
              "            Paris/Croix Nivert/192             12760\n",
              "            Paris/Cronstadt/2                  12761\n",
              "            Paris/Dantzig/37                   12760\n",
              "            Paris/Dantzig/80                   12761\n",
              "            Paris/Emile Zola/6                 12761\n",
              "            Paris/Finlay/43                    12044\n",
              "            Paris/FÃ©dÃ©ration/10              12760\n",
              "            Paris/Gerbert/11                   12761\n",
              "            Paris/Grenelle/139                 12760\n",
              "            Paris/Grenelle/37                  12761\n",
              "            Paris/Houdart de Lamotte/2         12761\n",
              "            Paris/HÃ©ricart/54                 12760\n",
              "            Paris/Jean Sicard/1                12760\n",
              "            Paris/Lacordaire/56                12760\n",
              "            Paris/Leblanc/19                   12761\n",
              "            Paris/Lecourbe/178                 12761\n",
              "            Paris/Lecourbe/336                 12761\n",
              "            Paris/Lecourbe/63                  12761\n",
              "            Paris/Lourmel/33                   12760\n",
              "            Paris/Lourmel/79                   12760\n",
              "            Paris/Mademoiselle/22              12760\n",
              "            Paris/Mademoiselle/67              12760\n",
              "            Paris/Maine/4                      12761\n",
              "            Paris/Miollis/21                   12760\n",
              "            Paris/Morillons/95                 12760\n",
              "            Paris/Olier/15                     12760\n",
              "            Paris/Olivier de Serres/3          12760\n",
              "            Paris/Pasteur/41                   12761\n",
              "            Paris/Paul Barruel/44              12760\n",
              "            Paris/Suffren/112                  12761\n",
              "            Paris/Suffren/161                  12761\n",
              "            Paris/Suffren/2                    12761\n",
              "            Paris/Suffren/44                   12761\n",
              "            Paris/Suffren/78                   12760\n",
              "            Paris/SÃ©bastien Mercier/44        12760\n",
              "            Paris/Vasco de Gama/74             12760\n",
              "            Paris/Vaugirard/20                 12761\n",
              "            Paris/Vaugirard/230                12761\n",
              "            Paris/VouillÃ©/47                  12761\n",
              "            Paris/Ãmile Duclaux/19            12761\n",
              "            Paris/Ãmile Zola/143              12761\n",
              "            Paris/Ãmile Zola/65               12761"
            ]
          },
          "metadata": {
            "tags": []
          },
          "execution_count": 135
        }
      ]
    },
    {
      "cell_type": "code",
      "metadata": {
        "id": "SC8AsrlEX3FY",
        "colab_type": "code",
        "outputId": "de7a2acc-7c33-438d-d634-b9e52354acba",
        "colab": {
          "base_uri": "https://localhost:8080/",
          "height": 238
        }
      },
      "source": [
        "lii.loc[[75015]].sort_values('pcode count', ascending=False).head()"
      ],
      "execution_count": 138,
      "outputs": [
        {
          "output_type": "execute_result",
          "data": {
            "text/html": [
              "<div>\n",
              "<style scoped>\n",
              "    .dataframe tbody tr th:only-of-type {\n",
              "        vertical-align: middle;\n",
              "    }\n",
              "\n",
              "    .dataframe tbody tr th {\n",
              "        vertical-align: top;\n",
              "    }\n",
              "\n",
              "    .dataframe thead th {\n",
              "        text-align: right;\n",
              "    }\n",
              "</style>\n",
              "<table border=\"1\" class=\"dataframe\">\n",
              "  <thead>\n",
              "    <tr style=\"text-align: right;\">\n",
              "      <th></th>\n",
              "      <th></th>\n",
              "      <th>pcode count</th>\n",
              "    </tr>\n",
              "    <tr>\n",
              "      <th>postal code</th>\n",
              "      <th>public name</th>\n",
              "      <th></th>\n",
              "    </tr>\n",
              "  </thead>\n",
              "  <tbody>\n",
              "    <tr>\n",
              "      <th rowspan=\"5\" valign=\"top\">75015</th>\n",
              "      <th>Paris/Lecourbe/63</th>\n",
              "      <td>12761</td>\n",
              "    </tr>\n",
              "    <tr>\n",
              "      <th>Paris/Suffren/161</th>\n",
              "      <td>12761</td>\n",
              "    </tr>\n",
              "    <tr>\n",
              "      <th>Paris/Lecourbe/178</th>\n",
              "      <td>12761</td>\n",
              "    </tr>\n",
              "    <tr>\n",
              "      <th>Paris/Lecourbe/336</th>\n",
              "      <td>12761</td>\n",
              "    </tr>\n",
              "    <tr>\n",
              "      <th>Paris/Balard/108</th>\n",
              "      <td>12761</td>\n",
              "    </tr>\n",
              "  </tbody>\n",
              "</table>\n",
              "</div>"
            ],
            "text/plain": [
              "                                pcode count\n",
              "postal code public name                    \n",
              "75015       Paris/Lecourbe/63         12761\n",
              "            Paris/Suffren/161         12761\n",
              "            Paris/Lecourbe/178        12761\n",
              "            Paris/Lecourbe/336        12761\n",
              "            Paris/Balard/108          12761"
            ]
          },
          "metadata": {
            "tags": []
          },
          "execution_count": 138
        }
      ]
    },
    {
      "cell_type": "code",
      "metadata": {
        "id": "ugFo7syQZ3hk",
        "colab_type": "code",
        "colab": {}
      },
      "source": [
        "## Multiple stations are associated with the popular postal code and they include Paris/Lecourbe/63, Paris/Suffren/161, Paris/Lecourbe/178, Paris/Lecourbe/336, Paris/Balard/108   etc.\n",
        "##"
      ],
      "execution_count": 0,
      "outputs": []
    },
    {
      "cell_type": "code",
      "metadata": {
        "id": "pYLaTgWriPAl",
        "colab_type": "code",
        "colab": {}
      },
      "source": [
        ""
      ],
      "execution_count": 0,
      "outputs": []
    },
    {
      "cell_type": "markdown",
      "metadata": {
        "id": "-sHO8EISiP8Q",
        "colab_type": "text"
      },
      "source": [
        "### Determining most popular postal codes during the peak picking hour"
      ]
    },
    {
      "cell_type": "code",
      "metadata": {
        "id": "iE52fB8hVihm",
        "colab_type": "code",
        "outputId": "88476d5f-1f08-44d4-feae-38b55a112b6c",
        "colab": {
          "base_uri": "https://localhost:8080/",
          "height": 394
        }
      },
      "source": [
        "le = elel.sort_values('pcode count', ascending=False)\n",
        "le.head(10)"
      ],
      "execution_count": 0,
      "outputs": [
        {
          "output_type": "execute_result",
          "data": {
            "text/html": [
              "<div>\n",
              "<style scoped>\n",
              "    .dataframe tbody tr th:only-of-type {\n",
              "        vertical-align: middle;\n",
              "    }\n",
              "\n",
              "    .dataframe tbody tr th {\n",
              "        vertical-align: top;\n",
              "    }\n",
              "\n",
              "    .dataframe thead th {\n",
              "        text-align: right;\n",
              "    }\n",
              "</style>\n",
              "<table border=\"1\" class=\"dataframe\">\n",
              "  <thead>\n",
              "    <tr style=\"text-align: right;\">\n",
              "      <th></th>\n",
              "      <th></th>\n",
              "      <th></th>\n",
              "      <th>pcode count</th>\n",
              "    </tr>\n",
              "    <tr>\n",
              "      <th>hour</th>\n",
              "      <th>postal code</th>\n",
              "      <th>public name</th>\n",
              "      <th></th>\n",
              "    </tr>\n",
              "  </thead>\n",
              "  <tbody>\n",
              "    <tr>\n",
              "      <th>12</th>\n",
              "      <th>75001</th>\n",
              "      <th>Paris/Amiral Coligny/2</th>\n",
              "      <td>540</td>\n",
              "    </tr>\n",
              "    <tr>\n",
              "      <th rowspan=\"9\" valign=\"top\">14</th>\n",
              "      <th rowspan=\"9\" valign=\"top\">75009</th>\n",
              "      <th>Paris/La Fayette/56</th>\n",
              "      <td>540</td>\n",
              "    </tr>\n",
              "    <tr>\n",
              "      <th>Paris/Adolphe Max/6</th>\n",
              "      <td>540</td>\n",
              "    </tr>\n",
              "    <tr>\n",
              "      <th>Paris/Anvers/Parking</th>\n",
              "      <td>540</td>\n",
              "    </tr>\n",
              "    <tr>\n",
              "      <th>Paris/Aumale/28</th>\n",
              "      <td>540</td>\n",
              "    </tr>\n",
              "    <tr>\n",
              "      <th>Paris/Chateaudun/21</th>\n",
              "      <td>540</td>\n",
              "    </tr>\n",
              "    <tr>\n",
              "      <th>Paris/ChaussÃ©e d'Antin/5</th>\n",
              "      <td>540</td>\n",
              "    </tr>\n",
              "    <tr>\n",
              "      <th>Paris/Clichy/23</th>\n",
              "      <td>540</td>\n",
              "    </tr>\n",
              "    <tr>\n",
              "      <th>Paris/Conservatoire/13</th>\n",
              "      <td>540</td>\n",
              "    </tr>\n",
              "    <tr>\n",
              "      <th>Paris/Haussmann/6</th>\n",
              "      <td>540</td>\n",
              "    </tr>\n",
              "  </tbody>\n",
              "</table>\n",
              "</div>"
            ],
            "text/plain": [
              "                                            pcode count\n",
              "hour postal code public name                           \n",
              "12   75001       Paris/Amiral Coligny/2             540\n",
              "14   75009       Paris/La Fayette/56                540\n",
              "                 Paris/Adolphe Max/6                540\n",
              "                 Paris/Anvers/Parking               540\n",
              "                 Paris/Aumale/28                    540\n",
              "                 Paris/Chateaudun/21                540\n",
              "                 Paris/ChaussÃ©e d'Antin/5          540\n",
              "                 Paris/Clichy/23                    540\n",
              "                 Paris/Conservatoire/13             540\n",
              "                 Paris/Haussmann/6                  540"
            ]
          },
          "metadata": {
            "tags": []
          },
          "execution_count": 227
        }
      ]
    },
    {
      "cell_type": "code",
      "metadata": {
        "id": "HUJ7ShRxUq6m",
        "colab_type": "code",
        "outputId": "fc224e49-4983-448e-d680-aabd0c959041",
        "colab": {
          "base_uri": "https://localhost:8080/",
          "height": 238
        }
      },
      "source": [
        "lol = elel.loc[[0]]\n",
        "lol.head()"
      ],
      "execution_count": 139,
      "outputs": [
        {
          "output_type": "execute_result",
          "data": {
            "text/html": [
              "<div>\n",
              "<style scoped>\n",
              "    .dataframe tbody tr th:only-of-type {\n",
              "        vertical-align: middle;\n",
              "    }\n",
              "\n",
              "    .dataframe tbody tr th {\n",
              "        vertical-align: top;\n",
              "    }\n",
              "\n",
              "    .dataframe thead th {\n",
              "        text-align: right;\n",
              "    }\n",
              "</style>\n",
              "<table border=\"1\" class=\"dataframe\">\n",
              "  <thead>\n",
              "    <tr style=\"text-align: right;\">\n",
              "      <th></th>\n",
              "      <th></th>\n",
              "      <th></th>\n",
              "      <th>pcode count</th>\n",
              "    </tr>\n",
              "    <tr>\n",
              "      <th>hour</th>\n",
              "      <th>postal code</th>\n",
              "      <th>public name</th>\n",
              "      <th></th>\n",
              "    </tr>\n",
              "  </thead>\n",
              "  <tbody>\n",
              "    <tr>\n",
              "      <th rowspan=\"5\" valign=\"top\">0</th>\n",
              "      <th rowspan=\"5\" valign=\"top\">75001</th>\n",
              "      <th>Paris/Amiral Coligny/2</th>\n",
              "      <td>480</td>\n",
              "    </tr>\n",
              "    <tr>\n",
              "      <th>Paris/Bertin PoirÃ©e/14</th>\n",
              "      <td>480</td>\n",
              "    </tr>\n",
              "    <tr>\n",
              "      <th>Paris/Colonel Driant/7</th>\n",
              "      <td>480</td>\n",
              "    </tr>\n",
              "    <tr>\n",
              "      <th>Paris/Croix des Petits Champs/4</th>\n",
              "      <td>480</td>\n",
              "    </tr>\n",
              "    <tr>\n",
              "      <th>Paris/Jean-Jacques Rousseau/62</th>\n",
              "      <td>480</td>\n",
              "    </tr>\n",
              "  </tbody>\n",
              "</table>\n",
              "</div>"
            ],
            "text/plain": [
              "                                                  pcode count\n",
              "hour postal code public name                                 \n",
              "0    75001       Paris/Amiral Coligny/2                   480\n",
              "                 Paris/Bertin PoirÃ©e/14                  480\n",
              "                 Paris/Colonel Driant/7                   480\n",
              "                 Paris/Croix des Petits Champs/4          480\n",
              "                 Paris/Jean-Jacques Rousseau/62           480"
            ]
          },
          "metadata": {
            "tags": []
          },
          "execution_count": 139
        }
      ]
    },
    {
      "cell_type": "code",
      "metadata": {
        "id": "Zh_fnnC_VH7C",
        "colab_type": "code",
        "outputId": "fc63492a-9032-48f8-d64b-bdcf566d7ead",
        "colab": {
          "base_uri": "https://localhost:8080/",
          "height": 1000
        }
      },
      "source": [
        "lol.sort_values('pcode count', ascending=False).head(30)"
      ],
      "execution_count": 143,
      "outputs": [
        {
          "output_type": "execute_result",
          "data": {
            "text/html": [
              "<div>\n",
              "<style scoped>\n",
              "    .dataframe tbody tr th:only-of-type {\n",
              "        vertical-align: middle;\n",
              "    }\n",
              "\n",
              "    .dataframe tbody tr th {\n",
              "        vertical-align: top;\n",
              "    }\n",
              "\n",
              "    .dataframe thead th {\n",
              "        text-align: right;\n",
              "    }\n",
              "</style>\n",
              "<table border=\"1\" class=\"dataframe\">\n",
              "  <thead>\n",
              "    <tr style=\"text-align: right;\">\n",
              "      <th></th>\n",
              "      <th></th>\n",
              "      <th></th>\n",
              "      <th>pcode count</th>\n",
              "    </tr>\n",
              "    <tr>\n",
              "      <th>hour</th>\n",
              "      <th>postal code</th>\n",
              "      <th>public name</th>\n",
              "      <th></th>\n",
              "    </tr>\n",
              "  </thead>\n",
              "  <tbody>\n",
              "    <tr>\n",
              "      <th rowspan=\"30\" valign=\"top\">0</th>\n",
              "      <th>75001</th>\n",
              "      <th>Paris/Amiral Coligny/2</th>\n",
              "      <td>480</td>\n",
              "    </tr>\n",
              "    <tr>\n",
              "      <th rowspan=\"7\" valign=\"top\">92130</th>\n",
              "      <th>Issy-les-Moulineaux/Promenade du Verger/166</th>\n",
              "      <td>480</td>\n",
              "    </tr>\n",
              "    <tr>\n",
              "      <th>Issy-les-Moulineaux/Rodin/66</th>\n",
              "      <td>480</td>\n",
              "    </tr>\n",
              "    <tr>\n",
              "      <th>Issy-les-Moulineaux/Stalingrad/127</th>\n",
              "      <td>480</td>\n",
              "    </tr>\n",
              "    <tr>\n",
              "      <th>Issy-les-Moulineaux/Vaudetard/7</th>\n",
              "      <td>480</td>\n",
              "    </tr>\n",
              "    <tr>\n",
              "      <th>Issy-les-Moulineaux/Verdun/135</th>\n",
              "      <td>480</td>\n",
              "    </tr>\n",
              "    <tr>\n",
              "      <th>Issy-les-Moulineaux/ÃgalitÃ©/57</th>\n",
              "      <td>480</td>\n",
              "    </tr>\n",
              "    <tr>\n",
              "      <th>Issy-les-Moulineaux/Ãles/21</th>\n",
              "      <td>480</td>\n",
              "    </tr>\n",
              "    <tr>\n",
              "      <th rowspan=\"11\" valign=\"top\">92140</th>\n",
              "      <th>Clamart/BourcilliÃ¨re/137</th>\n",
              "      <td>480</td>\n",
              "    </tr>\n",
              "    <tr>\n",
              "      <th>Clamart/De Gaulle/118</th>\n",
              "      <td>480</td>\n",
              "    </tr>\n",
              "    <tr>\n",
              "      <th>Clamart/De Gaulle/233</th>\n",
              "      <td>480</td>\n",
              "    </tr>\n",
              "    <tr>\n",
              "      <th>Clamart/Ferrari/1</th>\n",
              "      <td>480</td>\n",
              "    </tr>\n",
              "    <tr>\n",
              "      <th>Clamart/Jean JaurÃ¨s/137</th>\n",
              "      <td>480</td>\n",
              "    </tr>\n",
              "    <tr>\n",
              "      <th>Clamart/Jean JaurÃ¨s/255</th>\n",
              "      <td>480</td>\n",
              "    </tr>\n",
              "    <tr>\n",
              "      <th>Clamart/Paul Vaillant Couturier/68</th>\n",
              "      <td>480</td>\n",
              "    </tr>\n",
              "    <tr>\n",
              "      <th>Clamart/Porte de Trivaux/130</th>\n",
              "      <td>480</td>\n",
              "    </tr>\n",
              "    <tr>\n",
              "      <th>Clamart/RÃ©publique/2</th>\n",
              "      <td>480</td>\n",
              "    </tr>\n",
              "    <tr>\n",
              "      <th>Clamart/Verdun/1</th>\n",
              "      <td>480</td>\n",
              "    </tr>\n",
              "    <tr>\n",
              "      <th>Clamart/Victor Hugo/40</th>\n",
              "      <td>480</td>\n",
              "    </tr>\n",
              "    <tr>\n",
              "      <th rowspan=\"8\" valign=\"top\">92150</th>\n",
              "      <th>Suresnes/Carnot/52</th>\n",
              "      <td>480</td>\n",
              "    </tr>\n",
              "    <tr>\n",
              "      <th>Suresnes/Charles PÃ©guy/1</th>\n",
              "      <td>480</td>\n",
              "    </tr>\n",
              "    <tr>\n",
              "      <th>Suresnes/Fontaine du Tertre/21</th>\n",
              "      <td>480</td>\n",
              "    </tr>\n",
              "    <tr>\n",
              "      <th>Suresnes/Gardenat Lapostol/42</th>\n",
              "      <td>480</td>\n",
              "    </tr>\n",
              "    <tr>\n",
              "      <th>Suresnes/Georges Pompidou/37</th>\n",
              "      <td>480</td>\n",
              "    </tr>\n",
              "    <tr>\n",
              "      <th>Suresnes/Henri Sellier/50</th>\n",
              "      <td>480</td>\n",
              "    </tr>\n",
              "    <tr>\n",
              "      <th>Suresnes/HuchÃ©/26</th>\n",
              "      <td>480</td>\n",
              "    </tr>\n",
              "    <tr>\n",
              "      <th>Suresnes/Jean JaurÃ¨s/21</th>\n",
              "      <td>480</td>\n",
              "    </tr>\n",
              "    <tr>\n",
              "      <th rowspan=\"2\" valign=\"top\">92130</th>\n",
              "      <th>Issy-les-Moulineaux/RenÃ© Jacques/1</th>\n",
              "      <td>480</td>\n",
              "    </tr>\n",
              "    <tr>\n",
              "      <th>Issy-les-Moulineaux/Joseph Frantz/46</th>\n",
              "      <td>480</td>\n",
              "    </tr>\n",
              "    <tr>\n",
              "      <th>92260</th>\n",
              "      <th>Fontenay-aux-Roses/Marx Dormoy/71</th>\n",
              "      <td>480</td>\n",
              "    </tr>\n",
              "  </tbody>\n",
              "</table>\n",
              "</div>"
            ],
            "text/plain": [
              "                                                              pcode count\n",
              "hour postal code public name                                             \n",
              "0    75001       Paris/Amiral Coligny/2                               480\n",
              "     92130       Issy-les-Moulineaux/Promenade du Verger/166          480\n",
              "                 Issy-les-Moulineaux/Rodin/66                         480\n",
              "                 Issy-les-Moulineaux/Stalingrad/127                   480\n",
              "                 Issy-les-Moulineaux/Vaudetard/7                      480\n",
              "                 Issy-les-Moulineaux/Verdun/135                       480\n",
              "                 Issy-les-Moulineaux/ÃgalitÃ©/57                     480\n",
              "                 Issy-les-Moulineaux/Ãles/21                         480\n",
              "     92140       Clamart/BourcilliÃ¨re/137                            480\n",
              "                 Clamart/De Gaulle/118                                480\n",
              "                 Clamart/De Gaulle/233                                480\n",
              "                 Clamart/Ferrari/1                                    480\n",
              "                 Clamart/Jean JaurÃ¨s/137                             480\n",
              "                 Clamart/Jean JaurÃ¨s/255                             480\n",
              "                 Clamart/Paul Vaillant Couturier/68                   480\n",
              "                 Clamart/Porte de Trivaux/130                         480\n",
              "                 Clamart/RÃ©publique/2                                480\n",
              "                 Clamart/Verdun/1                                     480\n",
              "                 Clamart/Victor Hugo/40                               480\n",
              "     92150       Suresnes/Carnot/52                                   480\n",
              "                 Suresnes/Charles PÃ©guy/1                            480\n",
              "                 Suresnes/Fontaine du Tertre/21                       480\n",
              "                 Suresnes/Gardenat Lapostol/42                        480\n",
              "                 Suresnes/Georges Pompidou/37                         480\n",
              "                 Suresnes/Henri Sellier/50                            480\n",
              "                 Suresnes/HuchÃ©/26                                   480\n",
              "                 Suresnes/Jean JaurÃ¨s/21                             480\n",
              "     92130       Issy-les-Moulineaux/RenÃ© Jacques/1                  480\n",
              "                 Issy-les-Moulineaux/Joseph Frantz/46                 480\n",
              "     92260       Fontenay-aux-Roses/Marx Dormoy/71                    480"
            ]
          },
          "metadata": {
            "tags": []
          },
          "execution_count": 143
        }
      ]
    },
    {
      "cell_type": "code",
      "metadata": {
        "id": "IlV2wuJZazzo",
        "colab_type": "code",
        "colab": {}
      },
      "source": [
        "## during the most popular picking up hour, the most popular postal codes are 75001, 92130, 92140, 92150, 92130, 92260 etc."
      ],
      "execution_count": 0,
      "outputs": []
    }
  ]
}